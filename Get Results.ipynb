{
 "cells": [
  {
   "cell_type": "code",
   "execution_count": 17,
   "metadata": {
    "ExecuteTime": {
     "end_time": "2020-04-28T08:42:08.554658Z",
     "start_time": "2020-04-28T08:42:07.576433Z"
    },
    "execution": {
     "iopub.execute_input": "2021-03-29T13:41:59.864734Z",
     "iopub.status.busy": "2021-03-29T13:41:59.864458Z",
     "iopub.status.idle": "2021-03-29T13:41:59.875165Z",
     "shell.execute_reply": "2021-03-29T13:41:59.874384Z",
     "shell.execute_reply.started": "2021-03-29T13:41:59.864704Z"
    },
    "tags": []
   },
   "outputs": [],
   "source": [
    "import numpy as np\n",
    "import pandas as pd\n",
    "import matplotlib.pyplot as plt\n",
    "import matplotlib.cm as cm\n",
    "from scipy import special\n",
    "%matplotlib inline"
   ]
  },
  {
   "cell_type": "code",
   "execution_count": 18,
   "metadata": {
    "ExecuteTime": {
     "end_time": "2020-04-15T09:04:41.732712Z",
     "start_time": "2020-04-15T09:04:41.729753Z"
    },
    "execution": {
     "iopub.execute_input": "2021-03-29T13:42:00.100727Z",
     "iopub.status.busy": "2021-03-29T13:42:00.100529Z",
     "iopub.status.idle": "2021-03-29T13:42:00.107344Z",
     "shell.execute_reply": "2021-03-29T13:42:00.103641Z",
     "shell.execute_reply.started": "2021-03-29T13:42:00.100707Z"
    },
    "tags": []
   },
   "outputs": [],
   "source": [
    "import warnings\n",
    "warnings.filterwarnings(\"ignore\")"
   ]
  },
  {
   "cell_type": "code",
   "execution_count": 19,
   "metadata": {
    "ExecuteTime": {
     "end_time": "2020-04-28T08:42:10.209024Z",
     "start_time": "2020-04-28T08:42:08.556434Z"
    },
    "execution": {
     "iopub.execute_input": "2021-03-29T13:42:00.253601Z",
     "iopub.status.busy": "2021-03-29T13:42:00.253184Z",
     "iopub.status.idle": "2021-03-29T13:42:00.257831Z",
     "shell.execute_reply": "2021-03-29T13:42:00.256983Z",
     "shell.execute_reply.started": "2021-03-29T13:42:00.253567Z"
    },
    "tags": []
   },
   "outputs": [],
   "source": [
    "from mixed_quantum import qd_base_data as qd"
   ]
  },
  {
   "cell_type": "markdown",
   "metadata": {
    "heading_collapsed": true
   },
   "source": [
    "# Class for plotting"
   ]
  },
  {
   "cell_type": "code",
   "execution_count": 10,
   "metadata": {
    "ExecuteTime": {
     "end_time": "2020-04-14T13:33:33.363834Z",
     "start_time": "2020-04-14T13:33:33.350656Z"
    },
    "execution": {
     "iopub.execute_input": "2020-10-19T13:53:49.599747Z",
     "iopub.status.busy": "2020-10-19T13:53:49.599475Z",
     "iopub.status.idle": "2020-10-19T13:53:49.611874Z",
     "shell.execute_reply": "2020-10-19T13:53:49.609000Z",
     "shell.execute_reply.started": "2020-10-19T13:53:49.599715Z"
    },
    "hidden": true
   },
   "outputs": [],
   "source": [
    "# %load plot_data.py\n",
    "\"\"\"\n",
    "Class to plot data\n",
    "\"\"\"\n",
    "import numpy as np\n",
    "import matplotlib.pyplot as plt\n",
    "\n",
    "\n",
    "class plot_data:\n",
    "    \"\"\"Class to store data to later plot\"\"\"\n",
    "    def __init__(self):\n",
    "        \"\"\"Initialize the variable with the data\"\"\"\n",
    "        self.data = dict()\n",
    "\n",
    "    def add_data(self, x_data, y_data, **data_info):\n",
    "        \"\"\"Add the data to the data dictionary\n",
    "        data_info (tuple): title, x_label, y_label\"\"\"\n",
    "        if not isinstance(x_data, np.ndarray\n",
    "                          ) or not isinstance(y_data, np.ndarray):\n",
    "            raise Exception(\"Data is not numpy array!!\")\n",
    "\n",
    "        self.data[data_info['label']] = [x_data, y_data, data_info]\n",
    "        return print(\"Data Added Successfully\")\n",
    "\n",
    "    def single_plot(self, label, save=False, labelsize=14, size=(10, 8)):\n",
    "        \"\"\"Make a single plot for specific data\"\"\"\n",
    "        x_val = self.data[label][0]\n",
    "        y_val = self.data[label][1]\n",
    "        if len(y_val.shape) > 1:\n",
    "            for y_i in y_val:\n",
    "                plt.plot(x_val, y_i)\n",
    "        else:\n",
    "            plt.plot(x_val, y_val)\n",
    "            \n",
    "        # plt.title(data_info, fontsize=labelsize)\n",
    "        plt.xlabel(self.data[label][2][\"xlabel\"], fontsize=labelsize)\n",
    "        plt.ylabel(self.data[label][2][\"ylabel\"], fontsize=labelsize)\n",
    "        plt.tick_params(labelsize=labelsize-2)\n",
    "        if save:\n",
    "            plt.savefig(f\"Figure_{label}.png\", dpi=300,\n",
    "                        transparent=True, bbox_inches='tight')\n",
    "        plt.show()\n"
   ]
  },
  {
   "cell_type": "markdown",
   "metadata": {
    "heading_collapsed": true
   },
   "source": [
    "# Check parameter influence\n",
    "\n",
    "a: [0.5:8] nm - static 4 nm [guarantee all energy levels]\n",
    "\n",
    "m*: [0.05:0.3] me - static 0.08 [ref]\n",
    "\n",
    "V0: [1:2] V0 - static 1.15 [normal perovskite] 1.9 [high eg perovskite]"
   ]
  },
  {
   "cell_type": "code",
   "execution_count": 11,
   "metadata": {
    "ExecuteTime": {
     "end_time": "2020-04-14T13:35:09.043867Z",
     "start_time": "2020-04-14T13:35:09.040950Z"
    },
    "execution": {
     "iopub.execute_input": "2020-10-19T13:54:43.269404Z",
     "iopub.status.busy": "2020-10-19T13:54:43.269057Z",
     "iopub.status.idle": "2020-10-19T13:54:43.274334Z",
     "shell.execute_reply": "2020-10-19T13:54:43.273100Z",
     "shell.execute_reply.started": "2020-10-19T13:54:43.269362Z"
    },
    "hidden": true
   },
   "outputs": [],
   "source": [
    "data_to_plot = plot_data()"
   ]
  },
  {
   "cell_type": "code",
   "execution_count": 12,
   "metadata": {
    "execution": {
     "iopub.execute_input": "2020-10-19T13:54:44.404120Z",
     "iopub.status.busy": "2020-10-19T13:54:44.399667Z",
     "iopub.status.idle": "2020-10-19T13:54:44.440680Z",
     "shell.execute_reply": "2020-10-19T13:54:44.433653Z",
     "shell.execute_reply.started": "2020-10-19T13:54:44.403868Z"
    }
   },
   "outputs": [],
   "source": [
    "a = np.linspace(0.5, 8, 1000)"
   ]
  },
  {
   "cell_type": "code",
   "execution_count": 13,
   "metadata": {
    "execution": {
     "iopub.execute_input": "2020-10-19T13:54:48.954757Z",
     "iopub.status.busy": "2020-10-19T13:54:48.954335Z",
     "iopub.status.idle": "2020-10-19T13:55:19.599429Z",
     "shell.execute_reply": "2020-10-19T13:55:19.598874Z",
     "shell.execute_reply.started": "2020-10-19T13:54:48.954717Z"
    }
   },
   "outputs": [],
   "source": [
    "a_variation_19 = np.array([\n",
    "    [qd.qd_results(a_i, 1.9, 0.08, 0.08, mode=('simple',0)).e_levels[0] if qd.qd_results(a_i, 1.9, 0.08, 0.08, mode = ('simple',0)).e_levels else np.nan for a_i in a],\n",
    "    [qd.qd_results(a_i, 1.9, 0.08, 0.08, mode=('simple',1)).e_levels[0] if qd.qd_results(a_i, 1.9, 0.08, 0.08, mode = ('simple',1)).e_levels else np.nan for a_i in a],\n",
    "    [qd.qd_results(a_i, 1.9, 0.08, 0.08, mode=('simple',2)).e_levels[0] if qd.qd_results(a_i, 1.9, 0.08, 0.08, mode = ('simple',2)).e_levels else np.nan for a_i in a],\n",
    "    [qd.qd_results(a_i, 1.9, 0.08, 0.08, mode=('simple',0)).e_levels[1] if len(qd.qd_results(a_i, 1.9, 0.08, 0.08, mode = ('simple',0)).e_levels)>=2 else np.nan for a_i in a]\n",
    "])"
   ]
  },
  {
   "cell_type": "code",
   "execution_count": 14,
   "metadata": {
    "execution": {
     "iopub.execute_input": "2020-10-19T13:55:19.600663Z",
     "iopub.status.busy": "2020-10-19T13:55:19.600301Z",
     "iopub.status.idle": "2020-10-19T13:55:49.303898Z",
     "shell.execute_reply": "2020-10-19T13:55:49.303328Z",
     "shell.execute_reply.started": "2020-10-19T13:55:19.600627Z"
    }
   },
   "outputs": [],
   "source": [
    "a_variation_115 = np.array([\n",
    "    [qd.qd_results(a_i, 1.15, 0.08, 0.08, mode=('simple',0)).e_levels[0] if qd.qd_results(a_i, 1.15, 0.08, 0.08, mode = ('simple',0)).e_levels else np.nan for a_i in a],\n",
    "    [qd.qd_results(a_i, 1.15, 0.08, 0.08, mode=('simple',1)).e_levels[0] if qd.qd_results(a_i, 1.15, 0.08, 0.08, mode = ('simple',1)).e_levels else np.nan for a_i in a],\n",
    "    [qd.qd_results(a_i, 1.15, 0.08, 0.08, mode=('simple',2)).e_levels[0] if qd.qd_results(a_i, 1.15, 0.08, 0.08, mode = ('simple',2)).e_levels else np.nan for a_i in a],\n",
    "    [qd.qd_results(a_i, 1.15, 0.08, 0.08, mode=('simple',0)).e_levels[1] if len(qd.qd_results(a_i, 1.15, 0.08, 0.08, mode = ('simple',0)).e_levels)>=2 else np.nan for a_i in a]\n",
    "])"
   ]
  },
  {
   "cell_type": "code",
   "execution_count": 15,
   "metadata": {
    "ExecuteTime": {
     "end_time": "2020-04-14T13:39:02.736247Z",
     "start_time": "2020-04-14T13:39:02.731518Z"
    },
    "execution": {
     "iopub.execute_input": "2020-10-19T13:55:49.305213Z",
     "iopub.status.busy": "2020-10-19T13:55:49.305016Z",
     "iopub.status.idle": "2020-10-19T13:55:49.308754Z",
     "shell.execute_reply": "2020-10-19T13:55:49.307693Z",
     "shell.execute_reply.started": "2020-10-19T13:55:49.305190Z"
    },
    "hidden": true
   },
   "outputs": [],
   "source": [
    "V0 = np.linspace(1, 2, 1000)\n",
    "m = np.linspace(0.05, 0.3, 1000)"
   ]
  },
  {
   "cell_type": "code",
   "execution_count": 16,
   "metadata": {
    "ExecuteTime": {
     "end_time": "2020-04-14T13:39:39.160513Z",
     "start_time": "2020-04-14T13:39:04.357725Z"
    },
    "execution": {
     "iopub.execute_input": "2020-10-19T13:55:49.310177Z",
     "iopub.status.busy": "2020-10-19T13:55:49.309879Z",
     "iopub.status.idle": "2020-10-19T13:56:38.519836Z",
     "shell.execute_reply": "2020-10-19T13:56:38.519336Z",
     "shell.execute_reply.started": "2020-10-19T13:55:49.310128Z"
    },
    "hidden": true
   },
   "outputs": [],
   "source": [
    "V0_variation = np.array([\n",
    "    [qd.qd_results(4, V0_i, 0.08, 0.08, mode=('simple',0)).e_levels[0] for V0_i in V0],\n",
    "    [qd.qd_results(4, V0_i, 0.08, 0.08, mode=('simple',1)).e_levels[0] for V0_i in V0],\n",
    "    [qd.qd_results(4, V0_i, 0.08, 0.08, mode=('simple',2)).e_levels[0] for V0_i in V0],\n",
    "    [qd.qd_results(4, V0_i, 0.08, 0.08, mode=('simple',0)).e_levels[1] for V0_i in V0]\n",
    "])\n",
    "\n",
    "m_variation_19 = np.array([\n",
    "    [qd.qd_results(4, 1.9, m1_i, m1_i, mode=('simple',0)).e_levels[0] for m1_i in m],\n",
    "    [qd.qd_results(4, 1.9, m1_i, m1_i, mode=('simple',1)).e_levels[0] for m1_i in m],\n",
    "    [qd.qd_results(4, 1.9, m1_i, m1_i, mode=('simple',2)).e_levels[0] for m1_i in m],\n",
    "    [qd.qd_results(4, 1.9, m1_i, m1_i, mode=('simple',0)).e_levels[1] for m1_i in m]\n",
    "])\n",
    "\n",
    "m_variation_115 = np.array([\n",
    "    [qd.qd_results(4, 1.15, m1_i, m1_i, mode=('simple',0)).e_levels[0] for m1_i in m],\n",
    "    [qd.qd_results(4, 1.15, m1_i, m1_i, mode=('simple',1)).e_levels[0] for m1_i in m],\n",
    "    [qd.qd_results(4, 1.15, m1_i, m1_i, mode=('simple',2)).e_levels[0] for m1_i in m],\n",
    "    [qd.qd_results(4, 1.15, m1_i, m1_i, mode=('simple',0)).e_levels[1] for m1_i in m]\n",
    "])"
   ]
  },
  {
   "cell_type": "code",
   "execution_count": 16,
   "metadata": {},
   "outputs": [],
   "source": [
    "#m2_variation = np.array([\n",
    "#    [qd.qd_results(5, 1.15, 0.17, m2_i, mode=('simple',0)).e_levels[0] for m2_i in m],\n",
    "#    [qd.qd_results(5, 1.15, 0.17, m2_i, mode=('simple',1)).e_levels[0] for m2_i in m],\n",
    "#    [qd.qd_results(5, 1.15, 0.17, m2_i, mode=('simple',2)).e_levels[0] for m2_i in m],\n",
    "#    [qd.qd_results(5, 1.15, 0.17, m2_i, mode=('simple',0)).e_levels[1] for m2_i in m]\n",
    "#])"
   ]
  },
  {
   "cell_type": "code",
   "execution_count": 17,
   "metadata": {
    "execution": {
     "iopub.execute_input": "2020-10-19T13:57:47.751947Z",
     "iopub.status.busy": "2020-10-19T13:57:47.751207Z",
     "iopub.status.idle": "2020-10-19T13:57:47.765236Z",
     "shell.execute_reply": "2020-10-19T13:57:47.764113Z",
     "shell.execute_reply.started": "2020-10-19T13:57:47.751850Z"
    }
   },
   "outputs": [],
   "source": [
    "a_dict_19 = {\"a_data\": a, \"E0\": a_variation_19[0], \"E1\": a_variation_19[1], \"E2\": a_variation_19[2], \"E3\": a_variation_19[3]}\n",
    "a_dict_115 = {\"a_data\": a, \"E0\": a_variation_115[0], \"E1\": a_variation_115[1], \"E2\": a_variation_115[2], \"E3\": a_variation_115[3]}\n",
    "V0_dict = {\"V0_data\": V0, \"E0\": V0_variation[0], \"E1\": V0_variation[1], \"E2\": V0_variation[2], \"E3\": V0_variation[3]}\n",
    "m_dict_19 = {\"m_data\": m, \"E0\": m_variation_19[0], \"E1\": m_variation_19[1], \"E2\": m_variation_19[2], \"E3\": m_variation_19[3]}\n",
    "m_dict_115 = {\"m_data\": m, \"E0\": m_variation_115[0], \"E1\": m_variation_115[1], \"E2\": m_variation_115[2], \"E3\": m_variation_115[3]}"
   ]
  },
  {
   "cell_type": "code",
   "execution_count": 18,
   "metadata": {
    "execution": {
     "iopub.execute_input": "2020-10-19T13:57:48.206991Z",
     "iopub.status.busy": "2020-10-19T13:57:48.206774Z",
     "iopub.status.idle": "2020-10-19T13:57:48.232076Z",
     "shell.execute_reply": "2020-10-19T13:57:48.225515Z",
     "shell.execute_reply.started": "2020-10-19T13:57:48.206966Z"
    }
   },
   "outputs": [],
   "source": [
    "a_lin_sweep_19 = pd.DataFrame(a_dict_19)\n",
    "a_lin_sweep_115 = pd.DataFrame(a_dict_115)\n",
    "V0_lin_sweep = pd.DataFrame(V0_dict)\n",
    "m_lin_sweep_19 = pd.DataFrame(m_dict_19)\n",
    "m_lin_sweep_115 = pd.DataFrame(m_dict_115)"
   ]
  },
  {
   "cell_type": "code",
   "execution_count": 19,
   "metadata": {},
   "outputs": [],
   "source": [
    "#m2_dict = {\"m2_data\": m, \"E0\": m2_variation[0], \"E1\": m2_variation[1], \"E2\": m2_variation[2], \"E3\": m2_variation[3]}"
   ]
  },
  {
   "cell_type": "code",
   "execution_count": 20,
   "metadata": {},
   "outputs": [],
   "source": [
    "#m2_lin_sweep = pd.DataFrame(m2_dict)"
   ]
  },
  {
   "cell_type": "code",
   "execution_count": 20,
   "metadata": {
    "execution": {
     "iopub.execute_input": "2020-10-19T14:00:56.275541Z",
     "iopub.status.busy": "2020-10-19T14:00:56.275308Z",
     "iopub.status.idle": "2020-10-19T14:00:56.326320Z",
     "shell.execute_reply": "2020-10-19T14:00:56.325763Z",
     "shell.execute_reply.started": "2020-10-19T14:00:56.275514Z"
    }
   },
   "outputs": [],
   "source": [
    "a_lin_sweep_19.to_csv(\"a_lin_sweep_19.csv\", index = False, sep=\" \")\n",
    "a_lin_sweep_115.to_csv(\"a_lin_sweep_115.csv\", index = False, sep=\" \")\n",
    "V0_lin_sweep.to_csv(\"V0_lin_sweep.csv\", index = False, sep=\" \")\n",
    "m_lin_sweep_19.to_csv(\"m_lin_sweep_19.csv\", index = False, sep=\" \")\n",
    "m_lin_sweep_115.to_csv(\"m_lin_sweep_115.csv\", index = False, sep=\" \")\n",
    "#m2_lin_sweep.to_csv(\"m2_lin_sweep.csv\")"
   ]
  },
  {
   "cell_type": "markdown",
   "metadata": {},
   "source": [
    "# Data visualization with fast plots"
   ]
  },
  {
   "cell_type": "code",
   "execution_count": 21,
   "metadata": {
    "ExecuteTime": {
     "end_time": "2020-04-14T13:39:50.676210Z",
     "start_time": "2020-04-14T13:39:50.662517Z"
    },
    "execution": {
     "iopub.execute_input": "2020-10-19T14:01:46.658089Z",
     "iopub.status.busy": "2020-10-19T14:01:46.657784Z",
     "iopub.status.idle": "2020-10-19T14:01:46.665898Z",
     "shell.execute_reply": "2020-10-19T14:01:46.664790Z",
     "shell.execute_reply.started": "2020-10-19T14:01:46.658055Z"
    },
    "hidden": true
   },
   "outputs": [
    {
     "name": "stdout",
     "output_type": "stream",
     "text": [
      "Data Added Successfully\n",
      "Data Added Successfully\n",
      "Data Added Successfully\n",
      "Data Added Successfully\n",
      "Data Added Successfully\n"
     ]
    }
   ],
   "source": [
    "data_to_plot.add_data(a, a_variation_19, **{'label': 'a_data', 'xlabel': 'a (nm)', 'ylabel': 'E (eV)'})\n",
    "data_to_plot.add_data(a, a_variation_115, **{'label': 'a_data_115', 'xlabel': 'a (nm)', 'ylabel': 'E (eV)'})\n",
    "data_to_plot.add_data(V0, V0_variation, **{'label': 'V0_data', 'xlabel': 'V$_0$ (eV)', 'ylabel': 'E (eV)'})\n",
    "data_to_plot.add_data(m, m_variation_19, **{'label': 'm1_data_19', 'xlabel': 'm$_1$ (*me)', 'ylabel': 'E (eV)'})\n",
    "data_to_plot.add_data(m, m_variation_115, **{'label': 'm1_data_115', 'xlabel': 'm$_1$ (*me)', 'ylabel': 'E (eV)'})\n",
    "#data_to_plot.add_data(m, m2_variation, **{'label': 'm2_data', 'xlabel': 'm$_2$ (*me)', 'ylabel': 'E (eV)'})"
   ]
  },
  {
   "cell_type": "code",
   "execution_count": 22,
   "metadata": {
    "ExecuteTime": {
     "end_time": "2020-04-14T13:40:35.161267Z",
     "start_time": "2020-04-14T13:40:35.041581Z"
    },
    "execution": {
     "iopub.execute_input": "2020-10-19T14:01:48.636564Z",
     "iopub.status.busy": "2020-10-19T14:01:48.636040Z",
     "iopub.status.idle": "2020-10-19T14:01:48.969409Z",
     "shell.execute_reply": "2020-10-19T14:01:48.968684Z",
     "shell.execute_reply.started": "2020-10-19T14:01:48.636496Z"
    },
    "hidden": true
   },
   "outputs": [
    {
     "data": {
      "image/png": "[encoded data removed]",
      "text/plain": [
       "<Figure size 432x288 with 1 Axes>"
      ]
     },
     "metadata": {
      "needs_background": "dark"
     },
     "output_type": "display_data"
    }
   ],
   "source": [
    "data_to_plot.single_plot('a_data')"
   ]
  },
  {
   "cell_type": "code",
   "execution_count": 23,
   "metadata": {
    "execution": {
     "iopub.execute_input": "2020-10-19T14:01:54.896276Z",
     "iopub.status.busy": "2020-10-19T14:01:54.895705Z",
     "iopub.status.idle": "2020-10-19T14:01:55.103312Z",
     "shell.execute_reply": "2020-10-19T14:01:55.100153Z",
     "shell.execute_reply.started": "2020-10-19T14:01:54.896207Z"
    }
   },
   "outputs": [
    {
     "data": {
      "image/png": "[encoded data removed]",
      "text/plain": [
       "<Figure size 432x288 with 1 Axes>"
      ]
     },
     "metadata": {
      "needs_background": "dark"
     },
     "output_type": "display_data"
    }
   ],
   "source": [
    "data_to_plot.single_plot('a_data_115')"
   ]
  },
  {
   "cell_type": "code",
   "execution_count": 24,
   "metadata": {
    "ExecuteTime": {
     "end_time": "2020-04-14T13:40:42.208626Z",
     "start_time": "2020-04-14T13:40:42.085345Z"
    },
    "execution": {
     "iopub.execute_input": "2020-10-19T14:01:57.153641Z",
     "iopub.status.busy": "2020-10-19T14:01:57.153284Z",
     "iopub.status.idle": "2020-10-19T14:01:57.881194Z",
     "shell.execute_reply": "2020-10-19T14:01:57.880532Z",
     "shell.execute_reply.started": "2020-10-19T14:01:57.153598Z"
    },
    "hidden": true
   },
   "outputs": [
    {
     "data": {
      "image/png": "[encoded data removed]",
      "text/plain": [
       "<Figure size 432x288 with 1 Axes>"
      ]
     },
     "metadata": {
      "needs_background": "dark"
     },
     "output_type": "display_data"
    }
   ],
   "source": [
    "data_to_plot.single_plot('V0_data')"
   ]
  },
  {
   "cell_type": "code",
   "execution_count": 25,
   "metadata": {
    "ExecuteTime": {
     "end_time": "2020-04-14T13:40:48.369128Z",
     "start_time": "2020-04-14T13:40:48.230981Z"
    },
    "execution": {
     "iopub.execute_input": "2020-10-19T14:02:07.281963Z",
     "iopub.status.busy": "2020-10-19T14:02:07.281619Z",
     "iopub.status.idle": "2020-10-19T14:02:07.588374Z",
     "shell.execute_reply": "2020-10-19T14:02:07.587314Z",
     "shell.execute_reply.started": "2020-10-19T14:02:07.281921Z"
    },
    "hidden": true
   },
   "outputs": [
    {
     "data": {
      "image/png": "[encoded data removed]",
      "text/plain": [
       "<Figure size 432x288 with 1 Axes>"
      ]
     },
     "metadata": {
      "needs_background": "dark"
     },
     "output_type": "display_data"
    }
   ],
   "source": [
    "data_to_plot.single_plot('m1_data_19')"
   ]
  },
  {
   "cell_type": "code",
   "execution_count": 26,
   "metadata": {
    "execution": {
     "iopub.execute_input": "2020-10-19T14:02:27.960207Z",
     "iopub.status.busy": "2020-10-19T14:02:27.959166Z",
     "iopub.status.idle": "2020-10-19T14:02:28.155342Z",
     "shell.execute_reply": "2020-10-19T14:02:28.154527Z",
     "shell.execute_reply.started": "2020-10-19T14:02:27.960072Z"
    }
   },
   "outputs": [
    {
     "data": {
      "image/png": "[encoded data removed]",
      "text/plain": [
       "<Figure size 432x288 with 1 Axes>"
      ]
     },
     "metadata": {
      "needs_background": "dark"
     },
     "output_type": "display_data"
    }
   ],
   "source": [
    "data_to_plot.single_plot('m1_data_115')"
   ]
  },
  {
   "cell_type": "code",
   "execution_count": null,
   "metadata": {
    "ExecuteTime": {
     "end_time": "2020-04-14T13:40:55.169807Z",
     "start_time": "2020-04-14T13:40:55.033853Z"
    },
    "hidden": true
   },
   "outputs": [],
   "source": [
    "#data_to_plot.single_plot('m2_data')"
   ]
  },
  {
   "cell_type": "markdown",
   "metadata": {},
   "source": [
    "# Plot the Wavefunctions for 3.9 nm QD Size (E0 to E3)"
   ]
  },
  {
   "cell_type": "code",
   "execution_count": 22,
   "metadata": {
    "execution": {
     "iopub.execute_input": "2020-10-22T10:17:26.874165Z",
     "iopub.status.busy": "2020-10-22T10:17:26.873976Z",
     "iopub.status.idle": "2020-10-22T10:17:26.919280Z",
     "shell.execute_reply": "2020-10-22T10:17:26.918625Z",
     "shell.execute_reply.started": "2020-10-22T10:17:26.874144Z"
    }
   },
   "outputs": [],
   "source": [
    "qd_wavefunction = qd.qd_results(2.4, 1.9, 0.08, 0.08)"
   ]
  },
  {
   "cell_type": "code",
   "execution_count": 26,
   "metadata": {
    "ExecuteTime": {
     "end_time": "2020-01-06T11:47:39.931669Z",
     "start_time": "2020-01-06T11:47:39.611366Z"
    },
    "execution": {
     "iopub.execute_input": "2020-10-22T10:18:55.449655Z",
     "iopub.status.busy": "2020-10-22T10:18:55.449374Z",
     "iopub.status.idle": "2020-10-22T10:18:56.047179Z",
     "shell.execute_reply": "2020-10-22T10:18:56.046515Z",
     "shell.execute_reply.started": "2020-10-22T10:18:55.449621Z"
    }
   },
   "outputs": [
    {
     "data": {
      "image/png": "[encoded data removed]",
      "text/plain": [
       "<Figure size 432x288 with 1 Axes>"
      ]
     },
     "metadata": {
      "needs_background": "dark"
     },
     "output_type": "display_data"
    }
   ],
   "source": [
    "#angular momentum value\n",
    "l = 0\n",
    "#index of the energy level\n",
    "k = 1\n",
    "#z angular momentum\n",
    "m = 0\n",
    "\n",
    "#Calculate the radial part of the wavefunction\n",
    "r,f_r = qd_wavefunction.norm_wavefunction(l,k)\n",
    "phi = np.linspace(0,2*np.pi,100)\n",
    "#Angular part of the wavefunction\n",
    "y_lm = np.absolute(special.sph_harm(m,l,0,phi))**2\n",
    "#Combine both radial and angular parts\n",
    "psi = np.array([y_lm*f_r_i for f_r_i in f_r])\n",
    "\n",
    "#Grid for exportation purposes\n",
    "Phi, R = np.meshgrid(phi,r)\n",
    "\n",
    "Phi = Phi.flatten()[R.flatten() < 3.5]\n",
    "Psi = psi.flatten()[R.flatten() < 3.5]\n",
    "R = R.flatten()[R.flatten() < 3.5]\n",
    "\n",
    "#actual plotting\n",
    "ax = plt.subplot(111, polar=True)\n",
    "ctf = ax.contourf(phi,r,psi, cmap=cm.jet)\n",
    "data_to_export = {\"Phi\": Phi.flatten(), \"R\": R.flatten(), \"Wavefunction\": Psi.flatten()}\n",
    "pd.DataFrame(data_to_export).to_csv(f\"wavefunction_l{l}_n{k}.csv\", index = False, sep=\" \")"
   ]
  },
  {
   "cell_type": "markdown",
   "metadata": {
    "heading_collapsed": true
   },
   "source": [
    "# Check interparameter relations"
   ]
  },
  {
   "cell_type": "code",
   "execution_count": 27,
   "metadata": {
    "ExecuteTime": {
     "end_time": "2020-04-28T08:42:33.117977Z",
     "start_time": "2020-04-28T08:42:33.113365Z"
    },
    "execution": {
     "iopub.execute_input": "2020-10-19T15:28:18.132730Z",
     "iopub.status.busy": "2020-10-19T15:28:18.132471Z",
     "iopub.status.idle": "2020-10-19T15:28:18.136640Z",
     "shell.execute_reply": "2020-10-19T15:28:18.135985Z",
     "shell.execute_reply.started": "2020-10-19T15:28:18.132701Z"
    },
    "hidden": true
   },
   "outputs": [],
   "source": [
    "a = np.linspace(1.4, 8, 100)\n",
    "V0 = np.linspace(1, 2, 100)\n",
    "m = np.linspace(0.05, 0.3, 100)"
   ]
  },
  {
   "cell_type": "code",
   "execution_count": 35,
   "metadata": {
    "ExecuteTime": {
     "end_time": "2020-04-28T08:43:17.349196Z",
     "start_time": "2020-04-28T08:43:00.744439Z"
    },
    "execution": {
     "iopub.execute_input": "2020-10-19T15:32:05.140843Z",
     "iopub.status.busy": "2020-10-19T15:32:05.140513Z",
     "iopub.status.idle": "2020-10-19T15:32:43.664977Z",
     "shell.execute_reply": "2020-10-19T15:32:43.664271Z",
     "shell.execute_reply.started": "2020-10-19T15:32:05.140807Z"
    },
    "hidden": true
   },
   "outputs": [
    {
     "name": "stdout",
     "output_type": "stream",
     "text": [
      "Calculating a - V0 relation....\n",
      "DONE!....\n",
      "Calculating a - m realations for V0 1.9 eV...\n",
      "DONE!....\n",
      "Calculating a - m realations for V0 1.15 eV...\n",
      "DONE!....\n",
      "Calculating V0 - m relation...\n",
      "DONE!....\n"
     ]
    }
   ],
   "source": [
    "print(\"Calculating a - V0 relation....\")\n",
    "data = list()\n",
    "a_v0_mesh, v0_a_mesh = np.meshgrid(a, V0)\n",
    "for a_i, v_i in zip(a_v0_mesh, v0_a_mesh):\n",
    "    data.append(list(map(\n",
    "            lambda a_i, v_i: qd.qd_results(\n",
    "                a_i, v_i, 0.08, 0.08, mode=('simple', 0)).e_levels[0],\n",
    "            a_i, v_i\n",
    "        )))\n",
    "data_a_V0 = np.array(data)\n",
    "print(\"DONE!....\")\n",
    "\n",
    "\n",
    "print(\"Calculating a - m realations for V0 1.9 eV...\")\n",
    "data = list()\n",
    "a_m_mesh, m_a_mesh = np.meshgrid(a, m)\n",
    "for a_i, m1_i in zip(a_m_mesh, m_a_mesh):\n",
    "    data.append(list(map(\n",
    "            lambda a_i, m_i: qd.qd_results(\n",
    "                a_i, 1.9, m_i, m_i, mode=('simple', 0)).e_levels[0],\n",
    "            a_i, m1_i\n",
    "            )))\n",
    "data_a_m1_19 = np.array(data)\n",
    "print(\"DONE!....\")\n",
    "\n",
    "print(\"Calculating a - m realations for V0 1.15 eV...\")\n",
    "data = list()\n",
    "a_m_mesh, m_a_mesh = np.meshgrid(a, m)\n",
    "for a_i, m1_i in zip(a_m_mesh, m_a_mesh):\n",
    "    data.append(list(map(\n",
    "            lambda a_i, m_i: qd.qd_results(\n",
    "                a_i, 1.15, m_i, m_i, mode=('simple', 0)).e_levels[0],\n",
    "            a_i, m1_i\n",
    "            )))\n",
    "data_a_m1_115 = np.array(data)\n",
    "print(\"DONE!....\")\n",
    "\n",
    "print(\"Calculating V0 - m relation...\")\n",
    "data = list()\n",
    "v0_m_mesh, m_v0_mesh = np.meshgrid(V0, m)\n",
    "for V0_i, m1_i in zip(v0_m_mesh, m_v0_mesh):\n",
    "    data.append(list(map(\n",
    "            lambda V0_i, m_i: qd.qd_results(\n",
    "                3.5, V0_i, m_i, m_i, mode=('simple', 0)).e_levels[0],\n",
    "            V0_i, m1_i\n",
    "            )))\n",
    "data_V0_m1 = np.array(data)\n",
    "print(\"DONE!....\")"
   ]
  },
  {
   "cell_type": "code",
   "execution_count": 36,
   "metadata": {
    "ExecuteTime": {
     "end_time": "2020-04-16T09:24:25.809095Z",
     "start_time": "2020-04-16T09:24:24.823744Z"
    },
    "execution": {
     "iopub.execute_input": "2020-10-19T15:34:04.801289Z",
     "iopub.status.busy": "2020-10-19T15:34:04.800714Z",
     "iopub.status.idle": "2020-10-19T15:34:05.513685Z",
     "shell.execute_reply": "2020-10-19T15:34:05.513027Z",
     "shell.execute_reply.started": "2020-10-19T15:34:04.801217Z"
    },
    "hidden": true
   },
   "outputs": [
    {
     "data": {
      "image/png": "[encoded data removed]",
      "text/plain": [
       "<Figure size 504x504 with 2 Axes>"
      ]
     },
     "metadata": {
      "needs_background": "dark"
     },
     "output_type": "display_data"
    }
   ],
   "source": [
    "plt.figure(figsize=(7, 7))\n",
    "plt.contourf(a_v0_mesh, v0_a_mesh, data_a_V0, levels = 50, cmap = plt.cm.rainbow)\n",
    "plt.xlabel('a (um)', fontsize=17); plt.ylabel('V0 (eV)', fontsize=17);\n",
    "plt.tick_params(labelsize=15)\n",
    "plt.colorbar()\n",
    "plt.ylabel(\"E$_0$\")\n",
    "plt.savefig(\"Test.png\", dpi=300,\n",
    "                transparent=True, bbox_inches='tight')"
   ]
  },
  {
   "cell_type": "code",
   "execution_count": 37,
   "metadata": {
    "ExecuteTime": {
     "end_time": "2020-04-15T14:18:21.550303Z",
     "start_time": "2020-04-15T14:18:21.386745Z"
    },
    "execution": {
     "iopub.execute_input": "2020-10-19T15:34:07.430813Z",
     "iopub.status.busy": "2020-10-19T15:34:07.430186Z",
     "iopub.status.idle": "2020-10-19T15:34:07.689169Z",
     "shell.execute_reply": "2020-10-19T15:34:07.687562Z",
     "shell.execute_reply.started": "2020-10-19T15:34:07.430734Z"
    },
    "hidden": true
   },
   "outputs": [
    {
     "data": {
      "image/png": "[encoded data removed]",
      "text/plain": [
       "<Figure size 504x504 with 1 Axes>"
      ]
     },
     "metadata": {
      "needs_background": "dark"
     },
     "output_type": "display_data"
    }
   ],
   "source": [
    "plt.figure(figsize=(7, 7))\n",
    "plt.contourf(a_m_mesh, m_a_mesh, data_a_m1_19, levels = 50, cmap = plt.cm.rainbow)\n",
    "plt.xlabel('a (um)', fontsize=17); plt.ylabel('m1 (/me)', fontsize=17);\n",
    "plt.tick_params(labelsize=15)"
   ]
  },
  {
   "cell_type": "code",
   "execution_count": 38,
   "metadata": {
    "execution": {
     "iopub.execute_input": "2020-10-19T15:34:09.705129Z",
     "iopub.status.busy": "2020-10-19T15:34:09.704227Z",
     "iopub.status.idle": "2020-10-19T15:34:10.002745Z",
     "shell.execute_reply": "2020-10-19T15:34:10.002046Z",
     "shell.execute_reply.started": "2020-10-19T15:34:09.705008Z"
    }
   },
   "outputs": [
    {
     "data": {
      "image/png": "[encoded data removed]",
      "text/plain": [
       "<Figure size 504x504 with 1 Axes>"
      ]
     },
     "metadata": {
      "needs_background": "dark"
     },
     "output_type": "display_data"
    }
   ],
   "source": [
    "plt.figure(figsize=(7, 7))\n",
    "plt.contourf(a_m_mesh, m_a_mesh, data_a_m1_115, levels = 50, cmap = plt.cm.rainbow)\n",
    "plt.xlabel('a (um)', fontsize=17); plt.ylabel('m1 (/me)', fontsize=17);\n",
    "plt.tick_params(labelsize=15)"
   ]
  },
  {
   "cell_type": "code",
   "execution_count": 39,
   "metadata": {
    "ExecuteTime": {
     "end_time": "2020-04-15T14:23:11.298203Z",
     "start_time": "2020-04-15T14:23:11.118985Z"
    },
    "execution": {
     "iopub.execute_input": "2020-10-19T15:34:12.742172Z",
     "iopub.status.busy": "2020-10-19T15:34:12.741787Z",
     "iopub.status.idle": "2020-10-19T15:34:12.990471Z",
     "shell.execute_reply": "2020-10-19T15:34:12.989493Z",
     "shell.execute_reply.started": "2020-10-19T15:34:12.742131Z"
    },
    "hidden": true
   },
   "outputs": [
    {
     "data": {
      "image/png": "[encoded data removed]",
      "text/plain": [
       "<Figure size 504x504 with 1 Axes>"
      ]
     },
     "metadata": {
      "needs_background": "dark"
     },
     "output_type": "display_data"
    }
   ],
   "source": [
    "plt.figure(figsize=(7, 7))\n",
    "plt.contourf(v0_m_mesh, m_v0_mesh, data_V0_m1, levels = 50, cmap = plt.cm.rainbow)\n",
    "plt.xlabel('a (um)', fontsize=17); plt.ylabel('V0 (eV)', fontsize=17);\n",
    "plt.tick_params(labelsize=15)"
   ]
  },
  {
   "cell_type": "code",
   "execution_count": 42,
   "metadata": {
    "execution": {
     "iopub.execute_input": "2020-10-19T15:35:59.655553Z",
     "iopub.status.busy": "2020-10-19T15:35:59.655238Z",
     "iopub.status.idle": "2020-10-19T15:35:59.665343Z",
     "shell.execute_reply": "2020-10-19T15:35:59.664457Z",
     "shell.execute_reply.started": "2020-10-19T15:35:59.655517Z"
    }
   },
   "outputs": [],
   "source": [
    "a_v0_dict = {\"a\": a_v0_mesh.flatten(), \"V0\": v0_a_mesh.flatten(), \"data\": data_a_V0.flatten()}\n",
    "a_m_dict_19 = {\"a\": a_m_mesh.flatten(), \"m\": m_a_mesh.flatten(), \"data\": data_a_m1_19.flatten()}\n",
    "a_m_dict_115 = {\"a\": a_m_mesh.flatten(), \"m\": m_a_mesh.flatten(), \"data\": data_a_m1_115.flatten()}\n",
    "v0_m_dict = {\"V0\": v0_m_mesh.flatten(), \"m\": m_v0_mesh.flatten(), \"data\": data_V0_m1.flatten()}"
   ]
  },
  {
   "cell_type": "code",
   "execution_count": 43,
   "metadata": {
    "execution": {
     "iopub.execute_input": "2020-10-19T15:36:28.303038Z",
     "iopub.status.busy": "2020-10-19T15:36:28.302747Z",
     "iopub.status.idle": "2020-10-19T15:36:28.313417Z",
     "shell.execute_reply": "2020-10-19T15:36:28.312384Z",
     "shell.execute_reply.started": "2020-10-19T15:36:28.303003Z"
    }
   },
   "outputs": [],
   "source": [
    "a_v0_df = pd.DataFrame(a_v0_dict)\n",
    "a_m_df_19 = pd.DataFrame(a_m_dict_19)\n",
    "a_m_df_115 = pd.DataFrame(a_m_dict_115)\n",
    "v0_m_df = pd.DataFrame(v0_m_dict)"
   ]
  },
  {
   "cell_type": "code",
   "execution_count": 45,
   "metadata": {
    "execution": {
     "iopub.execute_input": "2020-10-19T16:36:23.446734Z",
     "iopub.status.busy": "2020-10-19T16:36:23.446426Z",
     "iopub.status.idle": "2020-10-19T16:36:23.691141Z",
     "shell.execute_reply": "2020-10-19T16:36:23.689225Z",
     "shell.execute_reply.started": "2020-10-19T16:36:23.446697Z"
    }
   },
   "outputs": [],
   "source": [
    "a_v0_df.to_csv(\"a_V0_sweep.csv\", index=False, sep=\" \")\n",
    "a_m_df_19.to_csv(\"a_m_sweep_19.csv\", index=False, sep=\" \")\n",
    "a_m_df_115.to_csv(\"a_m_sweep_115.csv\", index=False, sep=\" \")\n",
    "v0_m_df.to_csv(\"V0_m_sweep.csv\", index=False, sep=\" \")"
   ]
  },
  {
   "cell_type": "markdown",
   "metadata": {},
   "source": [
    "# The absorption profile"
   ]
  },
  {
   "cell_type": "markdown",
   "metadata": {},
   "source": [
    "## Calculations for 1.6 nm (V0 = 1.9 eV)"
   ]
  },
  {
   "cell_type": "code",
   "execution_count": 20,
   "metadata": {
    "ExecuteTime": {
     "end_time": "2020-04-28T09:08:22.386162Z",
     "start_time": "2020-04-28T09:08:22.383189Z"
    },
    "execution": {
     "iopub.execute_input": "2021-03-29T13:43:03.740302Z",
     "iopub.status.busy": "2021-03-29T13:43:03.740108Z",
     "iopub.status.idle": "2021-03-29T13:43:03.744400Z",
     "shell.execute_reply": "2021-03-29T13:43:03.743529Z",
     "shell.execute_reply.started": "2021-03-29T13:43:03.740283Z"
    },
    "tags": []
   },
   "outputs": [],
   "source": [
    "a, V0, m1, m2 = 1.6, 1.9, 0.08, 0.08"
   ]
  },
  {
   "cell_type": "code",
   "execution_count": 21,
   "metadata": {
    "ExecuteTime": {
     "end_time": "2020-04-28T09:08:22.659821Z",
     "start_time": "2020-04-28T09:08:22.585160Z"
    },
    "execution": {
     "iopub.execute_input": "2021-03-29T13:43:08.461071Z",
     "iopub.status.busy": "2021-03-29T13:43:08.460875Z",
     "iopub.status.idle": "2021-03-29T13:43:08.506402Z",
     "shell.execute_reply": "2021-03-29T13:43:08.505606Z",
     "shell.execute_reply.started": "2021-03-29T13:43:08.461051Z"
    },
    "scrolled": true,
    "tags": []
   },
   "outputs": [],
   "source": [
    "data_16 = qd.qd_results(a, V0, m1, m2)"
   ]
  },
  {
   "cell_type": "code",
   "execution_count": 22,
   "metadata": {
    "ExecuteTime": {
     "end_time": "2020-04-27T13:25:59.340303Z",
     "start_time": "2020-04-27T13:25:59.326936Z"
    },
    "execution": {
     "iopub.execute_input": "2021-03-29T13:43:09.597786Z",
     "iopub.status.busy": "2021-03-29T13:43:09.597593Z",
     "iopub.status.idle": "2021-03-29T13:43:09.616737Z",
     "shell.execute_reply": "2021-03-29T13:43:09.616230Z",
     "shell.execute_reply.started": "2021-03-29T13:43:09.597767Z"
    },
    "tags": []
   },
   "outputs": [
    {
     "data": {
      "text/html": [
       "<div>\n",
       "<style scoped>\n",
       "    .dataframe tbody tr th:only-of-type {\n",
       "        vertical-align: middle;\n",
       "    }\n",
       "\n",
       "    .dataframe tbody tr th {\n",
       "        vertical-align: top;\n",
       "    }\n",
       "\n",
       "    .dataframe thead th {\n",
       "        text-align: right;\n",
       "    }\n",
       "</style>\n",
       "<table border=\"1\" class=\"dataframe\">\n",
       "  <thead>\n",
       "    <tr style=\"text-align: right;\">\n",
       "      <th></th>\n",
       "      <th>l0</th>\n",
       "      <th>l1</th>\n",
       "    </tr>\n",
       "  </thead>\n",
       "  <tbody>\n",
       "    <tr>\n",
       "      <th>0</th>\n",
       "      <td>-0.893254</td>\n",
       "      <td>-0.026307</td>\n",
       "    </tr>\n",
       "  </tbody>\n",
       "</table>\n",
       "</div>"
      ],
      "text/plain": [
       "         l0        l1\n",
       "0 -0.893254 -0.026307"
      ]
     },
     "execution_count": 22,
     "metadata": {},
     "output_type": "execute_result"
    }
   ],
   "source": [
    "data_16.e_levels"
   ]
  },
  {
   "cell_type": "markdown",
   "metadata": {},
   "source": [
    "Calculate all radial matrix elements"
   ]
  },
  {
   "cell_type": "code",
   "execution_count": 23,
   "metadata": {
    "ExecuteTime": {
     "end_time": "2020-04-27T08:33:38.841510Z",
     "start_time": "2020-04-27T08:33:38.815006Z"
    },
    "execution": {
     "iopub.execute_input": "2021-03-29T13:43:13.857768Z",
     "iopub.status.busy": "2021-03-29T13:43:13.857481Z",
     "iopub.status.idle": "2021-03-29T13:43:13.870138Z",
     "shell.execute_reply": "2021-03-29T13:43:13.869287Z",
     "shell.execute_reply.started": "2021-03-29T13:43:13.857735Z"
    },
    "tags": []
   },
   "outputs": [
    {
     "name": "stdout",
     "output_type": "stream",
     "text": [
      "\n",
      "1.1650855187450158\n",
      "0.650463238205635\n",
      "\n"
     ]
    }
   ],
   "source": [
    "print(f\"\"\"\n",
    "{data_16.rad_matrix_element((0,0),(0,0))}\n",
    "{data_16.rad_matrix_element((0,0),(1,0))}\n",
    "\"\"\")\n",
    "#{data_25.rad_matrix_element((0,0),(2,0))}\n",
    "#{data_25.rad_matrix_element((0,0),(0,1))}\n",
    "#{data_25.rad_matrix_element((1,0),(2,0))}\n",
    "#{data_25.rad_matrix_element((1,0),(0,1))}\n",
    "#{data_25.rad_matrix_element((2,0),(0,1))}\n",
    "#\"\"\")"
   ]
  },
  {
   "cell_type": "code",
   "execution_count": 24,
   "metadata": {
    "ExecuteTime": {
     "end_time": "2020-04-27T09:25:16.682130Z",
     "start_time": "2020-04-27T09:25:16.450116Z"
    },
    "execution": {
     "iopub.execute_input": "2021-03-29T13:43:14.515145Z",
     "iopub.status.busy": "2021-03-29T13:43:14.514954Z",
     "iopub.status.idle": "2021-03-29T13:43:14.571622Z",
     "shell.execute_reply": "2021-03-29T13:43:14.570590Z",
     "shell.execute_reply.started": "2021-03-29T13:43:14.515126Z"
    },
    "tags": []
   },
   "outputs": [
    {
     "name": "stdout",
     "output_type": "stream",
     "text": [
      "\n",
      "Ep_z, Ep_left, Ep_right--\n",
      "li = 0, lf = 0\n",
      "(array([[[0., 0., 0.]]]), array([0., 0., 0.]))\n",
      "\n",
      "li = 0, lf = 1\n",
      "(array([[[0.        , 0.40824829, 0.        ]],\n",
      "\n",
      "       [[0.57735027, 0.        , 0.        ]],\n",
      "\n",
      "       [[0.        , 0.        , 0.40824829]]]), array([0.57735027, 0.40824829, 0.40824829]))\n",
      "\n",
      "li = 0, lf = 2\n",
      "(array([[[0., 0., 0.]],\n",
      "\n",
      "       [[0., 0., 0.]],\n",
      "\n",
      "       [[0., 0., 0.]],\n",
      "\n",
      "       [[0., 0., 0.]],\n",
      "\n",
      "       [[0., 0., 0.]]]), array([0., 0., 0.]))\n",
      "\n",
      "li = 1, lf = 0\n",
      "(array([[[ 0.        ,  0.        , -0.40824829],\n",
      "        [ 0.57735027,  0.        ,  0.        ],\n",
      "        [ 0.        , -0.40824829,  0.        ]]]), array([ 0.57735027, -0.40824829, -0.40824829]))\n",
      "\n",
      "li = 1, lf = 2\n",
      "(array([[[0.        , 0.4472136 , 0.        ],\n",
      "        [0.        , 0.        , 0.        ],\n",
      "        [0.        , 0.        , 0.        ]],\n",
      "\n",
      "       [[0.4472136 , 0.        , 0.        ],\n",
      "        [0.        , 0.31622777, 0.        ],\n",
      "        [0.        , 0.        , 0.        ]],\n",
      "\n",
      "       [[0.        , 0.        , 0.18257419],\n",
      "        [0.51639778, 0.        , 0.        ],\n",
      "        [0.        , 0.18257419, 0.        ]],\n",
      "\n",
      "       [[0.        , 0.        , 0.        ],\n",
      "        [0.        , 0.        , 0.31622777],\n",
      "        [0.4472136 , 0.        , 0.        ]],\n",
      "\n",
      "       [[0.        , 0.        , 0.        ],\n",
      "        [0.        , 0.        , 0.        ],\n",
      "        [0.        , 0.        , 0.4472136 ]]]), array([0.47027499, 0.31533852, 0.31533852]))\n",
      "\n",
      "li = 2, lf = 0\n",
      "(array([[[0., 0., 0.],\n",
      "        [0., 0., 0.],\n",
      "        [0., 0., 0.],\n",
      "        [0., 0., 0.],\n",
      "        [0., 0., 0.]]]), array([0., 0., 0.]))\n",
      "\n",
      "li = 2, lf = 1\n",
      "(array([[[ 0.        ,  0.        , -0.4472136 ],\n",
      "        [ 0.4472136 ,  0.        ,  0.        ],\n",
      "        [ 0.        , -0.18257419,  0.        ],\n",
      "        [ 0.        ,  0.        ,  0.        ],\n",
      "        [ 0.        ,  0.        ,  0.        ]],\n",
      "\n",
      "       [[ 0.        ,  0.        ,  0.        ],\n",
      "        [ 0.        ,  0.        , -0.31622777],\n",
      "        [ 0.51639778,  0.        ,  0.        ],\n",
      "        [ 0.        , -0.31622777,  0.        ],\n",
      "        [ 0.        ,  0.        ,  0.        ]],\n",
      "\n",
      "       [[ 0.        ,  0.        ,  0.        ],\n",
      "        [ 0.        ,  0.        ,  0.        ],\n",
      "        [ 0.        ,  0.        , -0.18257419],\n",
      "        [ 0.4472136 ,  0.        ,  0.        ],\n",
      "        [ 0.        , -0.4472136 ,  0.        ]]]), array([ 0.47027499, -0.31533852, -0.31533852]))\n",
      "\n",
      "\n"
     ]
    }
   ],
   "source": [
    "print(f\"\"\"\n",
    "Ep_z, Ep_left, Ep_right--\n",
    "li = 0, lf = 0\n",
    "{data_16.all_ang_matrix_elements(0,0)}\\n\n",
    "li = 0, lf = 1\n",
    "{data_16.all_ang_matrix_elements(0,1)}\\n\n",
    "li = 0, lf = 2\n",
    "{data_16.all_ang_matrix_elements(0,2)}\\n\n",
    "li = 1, lf = 0\n",
    "{data_16.all_ang_matrix_elements(1,0)}\\n\n",
    "li = 1, lf = 2\n",
    "{data_16.all_ang_matrix_elements(1,2)}\\n\n",
    "li = 2, lf = 0\n",
    "{data_16.all_ang_matrix_elements(2,0)}\\n\n",
    "li = 2, lf = 1\n",
    "{data_16.all_ang_matrix_elements(2,1)}\\n\n",
    "\"\"\")"
   ]
  },
  {
   "cell_type": "markdown",
   "metadata": {},
   "source": [
    "### The absorption profile"
   ]
  },
  {
   "cell_type": "code",
   "execution_count": 25,
   "metadata": {
    "ExecuteTime": {
     "end_time": "2020-04-28T09:22:20.944167Z",
     "start_time": "2020-04-28T09:22:20.940314Z"
    },
    "execution": {
     "iopub.execute_input": "2021-03-29T13:43:22.319967Z",
     "iopub.status.busy": "2021-03-29T13:43:22.319662Z",
     "iopub.status.idle": "2021-03-29T13:43:22.325359Z",
     "shell.execute_reply": "2021-03-29T13:43:22.324562Z",
     "shell.execute_reply.started": "2021-03-29T13:43:22.319930Z"
    },
    "tags": []
   },
   "outputs": [],
   "source": [
    "energy = np.linspace(0,1.5,500)\n",
    "energies = data_16.e_levels.values\n",
    "density = (np.pi/6, np.pi/6, np.pi/6)"
   ]
  },
  {
   "cell_type": "markdown",
   "metadata": {},
   "source": [
    "Calculos para a primeira transição\n",
    "\n",
    "Os cálculos são feitos para dispersões de 0.025 e 0.05 eV"
   ]
  },
  {
   "cell_type": "code",
   "execution_count": 28,
   "metadata": {
    "ExecuteTime": {
     "end_time": "2020-04-28T09:22:21.725594Z",
     "start_time": "2020-04-28T09:22:21.714999Z"
    },
    "execution": {
     "iopub.execute_input": "2021-03-29T13:46:26.789294Z",
     "iopub.status.busy": "2021-03-29T13:46:26.789095Z",
     "iopub.status.idle": "2021-03-29T13:46:26.801181Z",
     "shell.execute_reply": "2021-03-29T13:46:26.800660Z",
     "shell.execute_reply.started": "2021-03-29T13:46:26.789272Z"
    },
    "tags": []
   },
   "outputs": [],
   "source": [
    "e_0_1 = abs(energies[0,0] - energies[0,1])\n",
    "rad_elements = data_16.rad_matrix_element((0,0),(1,0))\n",
    "_, ang_elements = data_16.all_ang_matrix_elements(0,1)\n",
    "absorption_1 = qd.absorption_ij(energy, e_0_1, rad_elements*ang_elements[:,np.newaxis], qd_density=density)\n",
    "absorption_2 = qd.absorption_ij(energy, e_0_1, rad_elements*ang_elements[:,np.newaxis], gauss_dispersion = 0.05, qd_density=density)"
   ]
  },
  {
   "cell_type": "code",
   "execution_count": 30,
   "metadata": {
    "ExecuteTime": {
     "end_time": "2020-04-28T09:22:24.603232Z",
     "start_time": "2020-04-28T09:22:24.495169Z"
    },
    "execution": {
     "iopub.execute_input": "2021-03-29T13:47:05.278417Z",
     "iopub.status.busy": "2021-03-29T13:47:05.278198Z",
     "iopub.status.idle": "2021-03-29T13:47:05.472165Z",
     "shell.execute_reply": "2021-03-29T13:47:05.471571Z",
     "shell.execute_reply.started": "2021-03-29T13:47:05.278394Z"
    },
    "tags": []
   },
   "outputs": [
    {
     "data": {
      "text/plain": [
       "[<matplotlib.lines.Line2D at 0x7f52a00a1430>,\n",
       " <matplotlib.lines.Line2D at 0x7f52a00a1460>,\n",
       " <matplotlib.lines.Line2D at 0x7f52a00a1310>,\n",
       " <matplotlib.lines.Line2D at 0x7f52a00a1490>,\n",
       " <matplotlib.lines.Line2D at 0x7f529be2e880>]"
      ]
     },
     "execution_count": 30,
     "metadata": {},
     "output_type": "execute_result"
    },
    {
     "data": {
      "image/png": "[encoded data removed]",
      "text/plain": [
       "<Figure size 432x288 with 1 Axes>"
      ]
     },
     "metadata": {
      "needs_background": "dark"
     },
     "output_type": "display_data"
    }
   ],
   "source": [
    "plt.plot(energy, absorption_1[0], energy, absorption_1[1], energy, absorption_1[2], energy, absorption_2[0], energy, absorption_2[1])"
   ]
  },
  {
   "cell_type": "markdown",
   "metadata": {},
   "source": [
    "Total absorption"
   ]
  },
  {
   "cell_type": "code",
   "execution_count": 50,
   "metadata": {
    "ExecuteTime": {
     "end_time": "2020-04-28T09:29:14.636822Z",
     "start_time": "2020-04-28T09:29:14.528041Z"
    },
    "execution": {
     "iopub.execute_input": "2020-10-21T09:42:12.730490Z",
     "iopub.status.busy": "2020-10-21T09:42:12.730226Z",
     "iopub.status.idle": "2020-10-21T09:42:12.855252Z",
     "shell.execute_reply": "2020-10-21T09:42:12.854508Z",
     "shell.execute_reply.started": "2020-10-21T09:42:12.730459Z"
    }
   },
   "outputs": [
    {
     "data": {
      "text/plain": [
       "[<matplotlib.lines.Line2D at 0x7fae41352a10>]"
      ]
     },
     "execution_count": 50,
     "metadata": {},
     "output_type": "execute_result"
    },
    {
     "data": {
      "image/png": "[encoded data removed]",
      "text/plain": [
       "<Figure size 432x288 with 1 Axes>"
      ]
     },
     "metadata": {
      "needs_background": "dark"
     },
     "output_type": "display_data"
    }
   ],
   "source": [
    "plt.plot(energy, absorption_1[0])"
   ]
  },
  {
   "cell_type": "code",
   "execution_count": 31,
   "metadata": {
    "execution": {
     "iopub.execute_input": "2021-03-29T13:48:03.820677Z",
     "iopub.status.busy": "2021-03-29T13:48:03.820457Z",
     "iopub.status.idle": "2021-03-29T13:48:03.840346Z",
     "shell.execute_reply": "2021-03-29T13:48:03.839722Z",
     "shell.execute_reply.started": "2021-03-29T13:48:03.820656Z"
    },
    "tags": []
   },
   "outputs": [],
   "source": [
    "data_16_dict_z = {\"Energy\": energy, \"abs1\": absorption_1[0], \"abs2\": absorption_2[0]}\n",
    "data_16_dict_left = {\"Energy\": energy, \"abs1\": absorption_1[1], \"abs2\": absorption_2[1]}\n",
    "pd.DataFrame(data_16_dict_z).to_csv(\"Absorption_z_16nm_19.csv\", index=False, sep=\" \")\n",
    "pd.DataFrame(data_16_dict_left).to_csv(\"Absorption_left_16nm_19.csv\", index=False, sep=\" \")"
   ]
  },
  {
   "cell_type": "markdown",
   "metadata": {},
   "source": [
    "## Calculation for 2.4 nm (V0 = 1.9)"
   ]
  },
  {
   "cell_type": "code",
   "execution_count": 65,
   "metadata": {
    "ExecuteTime": {
     "end_time": "2020-04-28T08:42:21.619949Z",
     "start_time": "2020-04-28T08:42:21.616684Z"
    },
    "execution": {
     "iopub.execute_input": "2020-10-22T15:43:20.631502Z",
     "iopub.status.busy": "2020-10-22T15:43:20.631199Z",
     "iopub.status.idle": "2020-10-22T15:43:20.635605Z",
     "shell.execute_reply": "2020-10-22T15:43:20.635085Z",
     "shell.execute_reply.started": "2020-10-22T15:43:20.631466Z"
    }
   },
   "outputs": [],
   "source": [
    "a, V0, m1, m2 = 2.5, 1.9, 0.08, 0.08\n",
    "density = (np.pi/6, np.pi/6, np.pi/6)"
   ]
  },
  {
   "cell_type": "code",
   "execution_count": 66,
   "metadata": {
    "ExecuteTime": {
     "end_time": "2020-04-28T08:42:22.558985Z",
     "start_time": "2020-04-28T08:42:22.180709Z"
    },
    "execution": {
     "iopub.execute_input": "2020-10-22T15:43:21.088235Z",
     "iopub.status.busy": "2020-10-22T15:43:21.087927Z",
     "iopub.status.idle": "2020-10-22T15:43:21.134576Z",
     "shell.execute_reply": "2020-10-22T15:43:21.133773Z",
     "shell.execute_reply.started": "2020-10-22T15:43:21.088198Z"
    }
   },
   "outputs": [],
   "source": [
    "data_24 = qd.qd_results(a, V0, m1, m2)"
   ]
  },
  {
   "cell_type": "code",
   "execution_count": 67,
   "metadata": {
    "ExecuteTime": {
     "end_time": "2020-04-28T08:42:26.018772Z",
     "start_time": "2020-04-28T08:42:25.979560Z"
    },
    "execution": {
     "iopub.execute_input": "2020-10-22T15:43:21.534949Z",
     "iopub.status.busy": "2020-10-22T15:43:21.534629Z",
     "iopub.status.idle": "2020-10-22T15:43:21.544628Z",
     "shell.execute_reply": "2020-10-22T15:43:21.543933Z",
     "shell.execute_reply.started": "2020-10-22T15:43:21.534913Z"
    }
   },
   "outputs": [
    {
     "data": {
      "text/html": [
       "<div>\n",
       "<style scoped>\n",
       "    .dataframe tbody tr th:only-of-type {\n",
       "        vertical-align: middle;\n",
       "    }\n",
       "\n",
       "    .dataframe tbody tr th {\n",
       "        vertical-align: top;\n",
       "    }\n",
       "\n",
       "    .dataframe thead th {\n",
       "        text-align: right;\n",
       "    }\n",
       "</style>\n",
       "<table border=\"1\" class=\"dataframe\">\n",
       "  <thead>\n",
       "    <tr style=\"text-align: right;\">\n",
       "      <th></th>\n",
       "      <th>l0</th>\n",
       "      <th>l1</th>\n",
       "      <th>l2</th>\n",
       "    </tr>\n",
       "  </thead>\n",
       "  <tbody>\n",
       "    <tr>\n",
       "      <th>0</th>\n",
       "      <td>-1.386841</td>\n",
       "      <td>-0.869379</td>\n",
       "      <td>-0.251787</td>\n",
       "    </tr>\n",
       "    <tr>\n",
       "      <th>1</th>\n",
       "      <td>-0.068220</td>\n",
       "      <td>NaN</td>\n",
       "      <td>NaN</td>\n",
       "    </tr>\n",
       "  </tbody>\n",
       "</table>\n",
       "</div>"
      ],
      "text/plain": [
       "         l0        l1        l2\n",
       "0 -1.386841 -0.869379 -0.251787\n",
       "1 -0.068220       NaN       NaN"
      ]
     },
     "execution_count": 67,
     "metadata": {},
     "output_type": "execute_result"
    }
   ],
   "source": [
    "data_24.e_levels"
   ]
  },
  {
   "cell_type": "markdown",
   "metadata": {},
   "source": [
    "Angular Elements (l = 0 → any)"
   ]
  },
  {
   "cell_type": "code",
   "execution_count": 68,
   "metadata": {
    "ExecuteTime": {
     "end_time": "2020-04-27T13:57:21.237966Z",
     "start_time": "2020-04-27T13:57:21.124159Z"
    },
    "execution": {
     "iopub.execute_input": "2020-10-22T15:43:22.431454Z",
     "iopub.status.busy": "2020-10-22T15:43:22.431149Z",
     "iopub.status.idle": "2020-10-22T15:43:22.436114Z",
     "shell.execute_reply": "2020-10-22T15:43:22.435279Z",
     "shell.execute_reply.started": "2020-10-22T15:43:22.431417Z"
    },
    "scrolled": true
   },
   "outputs": [
    {
     "data": {
      "text/plain": [
       "<function print>"
      ]
     },
     "execution_count": 68,
     "metadata": {},
     "output_type": "execute_result"
    }
   ],
   "source": [
    "print"
   ]
  },
  {
   "cell_type": "code",
   "execution_count": 69,
   "metadata": {
    "ExecuteTime": {
     "end_time": "2020-04-27T13:57:21.237966Z",
     "start_time": "2020-04-27T13:57:21.124159Z"
    },
    "execution": {
     "iopub.execute_input": "2020-10-22T15:43:22.888128Z",
     "iopub.status.busy": "2020-10-22T15:43:22.887801Z",
     "iopub.status.idle": "2020-10-22T15:43:23.804843Z",
     "shell.execute_reply": "2020-10-22T15:43:23.804228Z",
     "shell.execute_reply.started": "2020-10-22T15:43:22.888094Z"
    },
    "scrolled": true
   },
   "outputs": [
    {
     "name": "stdout",
     "output_type": "stream",
     "text": [
      "\n",
      "li = 0, lf = 0\n",
      "(array([[[0., 0., 0.]]]), array([0., 0., 0.]))\n",
      "\n",
      "li = 0, lf = 1\n",
      "(array([[[0.        , 0.40824829, 0.        ]],\n",
      "\n",
      "       [[0.57735027, 0.        , 0.        ]],\n",
      "\n",
      "       [[0.        , 0.        , 0.40824829]]]), array([0.57735027, 0.40824829, 0.40824829]))\n",
      "\n",
      "li = 0, lf = 2\n",
      "(array([[[0., 0., 0.]],\n",
      "\n",
      "       [[0., 0., 0.]],\n",
      "\n",
      "       [[0., 0., 0.]],\n",
      "\n",
      "       [[0., 0., 0.]],\n",
      "\n",
      "       [[0., 0., 0.]]]), array([0., 0., 0.]))\n",
      "\n",
      "li = 0, lf = 3\n",
      "(array([[[0., 0., 0.]],\n",
      "\n",
      "       [[0., 0., 0.]],\n",
      "\n",
      "       [[0., 0., 0.]],\n",
      "\n",
      "       [[0., 0., 0.]],\n",
      "\n",
      "       [[0., 0., 0.]],\n",
      "\n",
      "       [[0., 0., 0.]],\n",
      "\n",
      "       [[0., 0., 0.]]]), array([0., 0., 0.]))\n",
      "\n",
      "li = 0, lf = 4\n",
      "(array([[[0., 0., 0.]],\n",
      "\n",
      "       [[0., 0., 0.]],\n",
      "\n",
      "       [[0., 0., 0.]],\n",
      "\n",
      "       [[0., 0., 0.]],\n",
      "\n",
      "       [[0., 0., 0.]],\n",
      "\n",
      "       [[0., 0., 0.]],\n",
      "\n",
      "       [[0., 0., 0.]],\n",
      "\n",
      "       [[0., 0., 0.]],\n",
      "\n",
      "       [[0., 0., 0.]]]), array([0., 0., 0.]))\n",
      "\n",
      "li = 0, lf = 5\n",
      "(array([[[0., 0., 0.]],\n",
      "\n",
      "       [[0., 0., 0.]],\n",
      "\n",
      "       [[0., 0., 0.]],\n",
      "\n",
      "       [[0., 0., 0.]],\n",
      "\n",
      "       [[0., 0., 0.]],\n",
      "\n",
      "       [[0., 0., 0.]],\n",
      "\n",
      "       [[0., 0., 0.]],\n",
      "\n",
      "       [[0., 0., 0.]],\n",
      "\n",
      "       [[0., 0., 0.]],\n",
      "\n",
      "       [[0., 0., 0.]],\n",
      "\n",
      "       [[0., 0., 0.]]]), array([0., 0., 0.]))\n",
      "\n",
      "li = 1, lf = 0\n",
      "(array([[[ 0.        ,  0.        , -0.40824829],\n",
      "        [ 0.57735027,  0.        ,  0.        ],\n",
      "        [ 0.        , -0.40824829,  0.        ]]]), array([ 0.57735027, -0.40824829, -0.40824829]))\n",
      "\n",
      "li = 1, lf = 1\n",
      "(array([[[0., 0., 0.],\n",
      "        [0., 0., 0.],\n",
      "        [0., 0., 0.]],\n",
      "\n",
      "       [[0., 0., 0.],\n",
      "        [0., 0., 0.],\n",
      "        [0., 0., 0.]],\n",
      "\n",
      "       [[0., 0., 0.],\n",
      "        [0., 0., 0.],\n",
      "        [0., 0., 0.]]]), array([0., 0., 0.]))\n",
      "\n",
      "li = 1, lf = 2\n",
      "(array([[[0.        , 0.4472136 , 0.        ],\n",
      "        [0.        , 0.        , 0.        ],\n",
      "        [0.        , 0.        , 0.        ]],\n",
      "\n",
      "       [[0.4472136 , 0.        , 0.        ],\n",
      "        [0.        , 0.31622777, 0.        ],\n",
      "        [0.        , 0.        , 0.        ]],\n",
      "\n",
      "       [[0.        , 0.        , 0.18257419],\n",
      "        [0.51639778, 0.        , 0.        ],\n",
      "        [0.        , 0.18257419, 0.        ]],\n",
      "\n",
      "       [[0.        , 0.        , 0.        ],\n",
      "        [0.        , 0.        , 0.31622777],\n",
      "        [0.4472136 , 0.        , 0.        ]],\n",
      "\n",
      "       [[0.        , 0.        , 0.        ],\n",
      "        [0.        , 0.        , 0.        ],\n",
      "        [0.        , 0.        , 0.4472136 ]]]), array([0.47027499, 0.31533852, 0.31533852]))\n",
      "\n",
      "li = 1, lf = 3\n",
      "(array([[[0., 0., 0.],\n",
      "        [0., 0., 0.],\n",
      "        [0., 0., 0.]],\n",
      "\n",
      "       [[0., 0., 0.],\n",
      "        [0., 0., 0.],\n",
      "        [0., 0., 0.]],\n",
      "\n",
      "       [[0., 0., 0.],\n",
      "        [0., 0., 0.],\n",
      "        [0., 0., 0.]],\n",
      "\n",
      "       [[0., 0., 0.],\n",
      "        [0., 0., 0.],\n",
      "        [0., 0., 0.]],\n",
      "\n",
      "       [[0., 0., 0.],\n",
      "        [0., 0., 0.],\n",
      "        [0., 0., 0.]],\n",
      "\n",
      "       [[0., 0., 0.],\n",
      "        [0., 0., 0.],\n",
      "        [0., 0., 0.]],\n",
      "\n",
      "       [[0., 0., 0.],\n",
      "        [0., 0., 0.],\n",
      "        [0., 0., 0.]]]), array([0., 0., 0.]))\n",
      "\n",
      "li = 1, lf = 4\n",
      "(array([[[0., 0., 0.],\n",
      "        [0., 0., 0.],\n",
      "        [0., 0., 0.]],\n",
      "\n",
      "       [[0., 0., 0.],\n",
      "        [0., 0., 0.],\n",
      "        [0., 0., 0.]],\n",
      "\n",
      "       [[0., 0., 0.],\n",
      "        [0., 0., 0.],\n",
      "        [0., 0., 0.]],\n",
      "\n",
      "       [[0., 0., 0.],\n",
      "        [0., 0., 0.],\n",
      "        [0., 0., 0.]],\n",
      "\n",
      "       [[0., 0., 0.],\n",
      "        [0., 0., 0.],\n",
      "        [0., 0., 0.]],\n",
      "\n",
      "       [[0., 0., 0.],\n",
      "        [0., 0., 0.],\n",
      "        [0., 0., 0.]],\n",
      "\n",
      "       [[0., 0., 0.],\n",
      "        [0., 0., 0.],\n",
      "        [0., 0., 0.]],\n",
      "\n",
      "       [[0., 0., 0.],\n",
      "        [0., 0., 0.],\n",
      "        [0., 0., 0.]],\n",
      "\n",
      "       [[0., 0., 0.],\n",
      "        [0., 0., 0.],\n",
      "        [0., 0., 0.]]]), array([0., 0., 0.]))\n",
      "\n",
      "li = 1, lf = 5\n",
      "(array([[[0., 0., 0.],\n",
      "        [0., 0., 0.],\n",
      "        [0., 0., 0.]],\n",
      "\n",
      "       [[0., 0., 0.],\n",
      "        [0., 0., 0.],\n",
      "        [0., 0., 0.]],\n",
      "\n",
      "       [[0., 0., 0.],\n",
      "        [0., 0., 0.],\n",
      "        [0., 0., 0.]],\n",
      "\n",
      "       [[0., 0., 0.],\n",
      "        [0., 0., 0.],\n",
      "        [0., 0., 0.]],\n",
      "\n",
      "       [[0., 0., 0.],\n",
      "        [0., 0., 0.],\n",
      "        [0., 0., 0.]],\n",
      "\n",
      "       [[0., 0., 0.],\n",
      "        [0., 0., 0.],\n",
      "        [0., 0., 0.]],\n",
      "\n",
      "       [[0., 0., 0.],\n",
      "        [0., 0., 0.],\n",
      "        [0., 0., 0.]],\n",
      "\n",
      "       [[0., 0., 0.],\n",
      "        [0., 0., 0.],\n",
      "        [0., 0., 0.]],\n",
      "\n",
      "       [[0., 0., 0.],\n",
      "        [0., 0., 0.],\n",
      "        [0., 0., 0.]],\n",
      "\n",
      "       [[0., 0., 0.],\n",
      "        [0., 0., 0.],\n",
      "        [0., 0., 0.]],\n",
      "\n",
      "       [[0., 0., 0.],\n",
      "        [0., 0., 0.],\n",
      "        [0., 0., 0.]]]), array([0., 0., 0.]))\n",
      "\n",
      "li = 2, lf = 0\n",
      "(array([[[0., 0., 0.],\n",
      "        [0., 0., 0.],\n",
      "        [0., 0., 0.],\n",
      "        [0., 0., 0.],\n",
      "        [0., 0., 0.]]]), array([0., 0., 0.]))\n",
      "\n",
      "li = 2, lf = 1\n",
      "(array([[[ 0.        ,  0.        , -0.4472136 ],\n",
      "        [ 0.4472136 ,  0.        ,  0.        ],\n",
      "        [ 0.        , -0.18257419,  0.        ],\n",
      "        [ 0.        ,  0.        ,  0.        ],\n",
      "        [ 0.        ,  0.        ,  0.        ]],\n",
      "\n",
      "       [[ 0.        ,  0.        ,  0.        ],\n",
      "        [ 0.        ,  0.        , -0.31622777],\n",
      "        [ 0.51639778,  0.        ,  0.        ],\n",
      "        [ 0.        , -0.31622777,  0.        ],\n",
      "        [ 0.        ,  0.        ,  0.        ]],\n",
      "\n",
      "       [[ 0.        ,  0.        ,  0.        ],\n",
      "        [ 0.        ,  0.        ,  0.        ],\n",
      "        [ 0.        ,  0.        , -0.18257419],\n",
      "        [ 0.4472136 ,  0.        ,  0.        ],\n",
      "        [ 0.        , -0.4472136 ,  0.        ]]]), array([ 0.47027499, -0.31533852, -0.31533852]))\n",
      "\n",
      "li = 2, lf = 2\n",
      "(array([[[0., 0., 0.],\n",
      "        [0., 0., 0.],\n",
      "        [0., 0., 0.],\n",
      "        [0., 0., 0.],\n",
      "        [0., 0., 0.]],\n",
      "\n",
      "       [[0., 0., 0.],\n",
      "        [0., 0., 0.],\n",
      "        [0., 0., 0.],\n",
      "        [0., 0., 0.],\n",
      "        [0., 0., 0.]],\n",
      "\n",
      "       [[0., 0., 0.],\n",
      "        [0., 0., 0.],\n",
      "        [0., 0., 0.],\n",
      "        [0., 0., 0.],\n",
      "        [0., 0., 0.]],\n",
      "\n",
      "       [[0., 0., 0.],\n",
      "        [0., 0., 0.],\n",
      "        [0., 0., 0.],\n",
      "        [0., 0., 0.],\n",
      "        [0., 0., 0.]],\n",
      "\n",
      "       [[0., 0., 0.],\n",
      "        [0., 0., 0.],\n",
      "        [0., 0., 0.],\n",
      "        [0., 0., 0.],\n",
      "        [0., 0., 0.]]]), array([0., 0., 0.]))\n",
      "\n",
      "li = 2, lf = 3\n",
      "(array([[[0.        , 0.46291005, 0.        ],\n",
      "        [0.        , 0.        , 0.        ],\n",
      "        [0.        , 0.        , 0.        ],\n",
      "        [0.        , 0.        , 0.        ],\n",
      "        [0.        , 0.        , 0.        ]],\n",
      "\n",
      "       [[0.37796447, 0.        , 0.        ],\n",
      "        [0.        , 0.37796447, 0.        ],\n",
      "        [0.        , 0.        , 0.        ],\n",
      "        [0.        , 0.        , 0.        ],\n",
      "        [0.        , 0.        , 0.        ]],\n",
      "\n",
      "       [[0.        , 0.        , 0.11952286],\n",
      "        [0.47809144, 0.        , 0.        ],\n",
      "        [0.        , 0.29277002, 0.        ],\n",
      "        [0.        , 0.        , 0.        ],\n",
      "        [0.        , 0.        , 0.        ]],\n",
      "\n",
      "       [[0.        , 0.        , 0.        ],\n",
      "        [0.        , 0.        , 0.20701967],\n",
      "        [0.50709255, 0.        , 0.        ],\n",
      "        [0.        , 0.20701967, 0.        ],\n",
      "        [0.        , 0.        , 0.        ]],\n",
      "\n",
      "       [[0.        , 0.        , 0.        ],\n",
      "        [0.        , 0.        , 0.        ],\n",
      "        [0.        , 0.        , 0.29277002],\n",
      "        [0.47809144, 0.        , 0.        ],\n",
      "        [0.        , 0.11952286, 0.        ]],\n",
      "\n",
      "       [[0.        , 0.        , 0.        ],\n",
      "        [0.        , 0.        , 0.        ],\n",
      "        [0.        , 0.        , 0.        ],\n",
      "        [0.        , 0.        , 0.37796447],\n",
      "        [0.37796447, 0.        , 0.        ]],\n",
      "\n",
      "       [[0.        , 0.        , 0.        ],\n",
      "        [0.        , 0.        , 0.        ],\n",
      "        [0.        , 0.        , 0.        ],\n",
      "        [0.        , 0.        , 0.        ],\n",
      "        [0.        , 0.        , 0.46291005]]]), array([0.44384088, 0.29203741, 0.29203741]))\n",
      "\n",
      "li = 2, lf = 4\n",
      "(array([[[0., 0., 0.],\n",
      "        [0., 0., 0.],\n",
      "        [0., 0., 0.],\n",
      "        [0., 0., 0.],\n",
      "        [0., 0., 0.]],\n",
      "\n",
      "       [[0., 0., 0.],\n",
      "        [0., 0., 0.],\n",
      "        [0., 0., 0.],\n",
      "        [0., 0., 0.],\n",
      "        [0., 0., 0.]],\n",
      "\n",
      "       [[0., 0., 0.],\n",
      "        [0., 0., 0.],\n",
      "        [0., 0., 0.],\n",
      "        [0., 0., 0.],\n",
      "        [0., 0., 0.]],\n",
      "\n",
      "       [[0., 0., 0.],\n",
      "        [0., 0., 0.],\n",
      "        [0., 0., 0.],\n",
      "        [0., 0., 0.],\n",
      "        [0., 0., 0.]],\n",
      "\n",
      "       [[0., 0., 0.],\n",
      "        [0., 0., 0.],\n",
      "        [0., 0., 0.],\n",
      "        [0., 0., 0.],\n",
      "        [0., 0., 0.]],\n",
      "\n",
      "       [[0., 0., 0.],\n",
      "        [0., 0., 0.],\n",
      "        [0., 0., 0.],\n",
      "        [0., 0., 0.],\n",
      "        [0., 0., 0.]],\n",
      "\n",
      "       [[0., 0., 0.],\n",
      "        [0., 0., 0.],\n",
      "        [0., 0., 0.],\n",
      "        [0., 0., 0.],\n",
      "        [0., 0., 0.]],\n",
      "\n",
      "       [[0., 0., 0.],\n",
      "        [0., 0., 0.],\n",
      "        [0., 0., 0.],\n",
      "        [0., 0., 0.],\n",
      "        [0., 0., 0.]],\n",
      "\n",
      "       [[0., 0., 0.],\n",
      "        [0., 0., 0.],\n",
      "        [0., 0., 0.],\n",
      "        [0., 0., 0.],\n",
      "        [0., 0., 0.]]]), array([0., 0., 0.]))\n",
      "\n",
      "li = 2, lf = 5\n",
      "(array([[[0., 0., 0.],\n",
      "        [0., 0., 0.],\n",
      "        [0., 0., 0.],\n",
      "        [0., 0., 0.],\n",
      "        [0., 0., 0.]],\n",
      "\n",
      "       [[0., 0., 0.],\n",
      "        [0., 0., 0.],\n",
      "        [0., 0., 0.],\n",
      "        [0., 0., 0.],\n",
      "        [0., 0., 0.]],\n",
      "\n",
      "       [[0., 0., 0.],\n",
      "        [0., 0., 0.],\n",
      "        [0., 0., 0.],\n",
      "        [0., 0., 0.],\n",
      "        [0., 0., 0.]],\n",
      "\n",
      "       [[0., 0., 0.],\n",
      "        [0., 0., 0.],\n",
      "        [0., 0., 0.],\n",
      "        [0., 0., 0.],\n",
      "        [0., 0., 0.]],\n",
      "\n",
      "       [[0., 0., 0.],\n",
      "        [0., 0., 0.],\n",
      "        [0., 0., 0.],\n",
      "        [0., 0., 0.],\n",
      "        [0., 0., 0.]],\n",
      "\n",
      "       [[0., 0., 0.],\n",
      "        [0., 0., 0.],\n",
      "        [0., 0., 0.],\n",
      "        [0., 0., 0.],\n",
      "        [0., 0., 0.]],\n",
      "\n",
      "       [[0., 0., 0.],\n",
      "        [0., 0., 0.],\n",
      "        [0., 0., 0.],\n",
      "        [0., 0., 0.],\n",
      "        [0., 0., 0.]],\n",
      "\n",
      "       [[0., 0., 0.],\n",
      "        [0., 0., 0.],\n",
      "        [0., 0., 0.],\n",
      "        [0., 0., 0.],\n",
      "        [0., 0., 0.]],\n",
      "\n",
      "       [[0., 0., 0.],\n",
      "        [0., 0., 0.],\n",
      "        [0., 0., 0.],\n",
      "        [0., 0., 0.],\n",
      "        [0., 0., 0.]],\n",
      "\n",
      "       [[0., 0., 0.],\n",
      "        [0., 0., 0.],\n",
      "        [0., 0., 0.],\n",
      "        [0., 0., 0.],\n",
      "        [0., 0., 0.]],\n",
      "\n",
      "       [[0., 0., 0.],\n",
      "        [0., 0., 0.],\n",
      "        [0., 0., 0.],\n",
      "        [0., 0., 0.],\n",
      "        [0., 0., 0.]]]), array([0., 0., 0.]))\n",
      "\n",
      "li = 3, lf = 0\n",
      "(array([[[0., 0., 0.],\n",
      "        [0., 0., 0.],\n",
      "        [0., 0., 0.],\n",
      "        [0., 0., 0.],\n",
      "        [0., 0., 0.],\n",
      "        [0., 0., 0.],\n",
      "        [0., 0., 0.]]]), array([0., 0., 0.]))\n",
      "\n",
      "li = 3, lf = 1\n",
      "(array([[[0., 0., 0.],\n",
      "        [0., 0., 0.],\n",
      "        [0., 0., 0.],\n",
      "        [0., 0., 0.],\n",
      "        [0., 0., 0.],\n",
      "        [0., 0., 0.],\n",
      "        [0., 0., 0.]],\n",
      "\n",
      "       [[0., 0., 0.],\n",
      "        [0., 0., 0.],\n",
      "        [0., 0., 0.],\n",
      "        [0., 0., 0.],\n",
      "        [0., 0., 0.],\n",
      "        [0., 0., 0.],\n",
      "        [0., 0., 0.]],\n",
      "\n",
      "       [[0., 0., 0.],\n",
      "        [0., 0., 0.],\n",
      "        [0., 0., 0.],\n",
      "        [0., 0., 0.],\n",
      "        [0., 0., 0.],\n",
      "        [0., 0., 0.],\n",
      "        [0., 0., 0.]]]), array([0., 0., 0.]))\n",
      "\n",
      "li = 3, lf = 2\n",
      "(array([[[ 0.        ,  0.        , -0.46291005],\n",
      "        [ 0.37796447,  0.        ,  0.        ],\n",
      "        [ 0.        , -0.11952286,  0.        ],\n",
      "        [ 0.        ,  0.        ,  0.        ],\n",
      "        [ 0.        ,  0.        ,  0.        ],\n",
      "        [ 0.        ,  0.        ,  0.        ],\n",
      "        [ 0.        ,  0.        ,  0.        ]],\n",
      "\n",
      "       [[ 0.        ,  0.        ,  0.        ],\n",
      "        [ 0.        ,  0.        , -0.37796447],\n",
      "        [ 0.47809144,  0.        ,  0.        ],\n",
      "        [ 0.        , -0.20701967,  0.        ],\n",
      "        [ 0.        ,  0.        ,  0.        ],\n",
      "        [ 0.        ,  0.        ,  0.        ],\n",
      "        [ 0.        ,  0.        ,  0.        ]],\n",
      "\n",
      "       [[ 0.        ,  0.        ,  0.        ],\n",
      "        [ 0.        ,  0.        ,  0.        ],\n",
      "        [ 0.        ,  0.        , -0.29277002],\n",
      "        [ 0.50709255,  0.        ,  0.        ],\n",
      "        [ 0.        , -0.29277002,  0.        ],\n",
      "        [ 0.        ,  0.        ,  0.        ],\n",
      "        [ 0.        ,  0.        ,  0.        ]],\n",
      "\n",
      "       [[ 0.        ,  0.        ,  0.        ],\n",
      "        [ 0.        ,  0.        ,  0.        ],\n",
      "        [ 0.        ,  0.        ,  0.        ],\n",
      "        [ 0.        ,  0.        , -0.20701967],\n",
      "        [ 0.47809144,  0.        ,  0.        ],\n",
      "        [ 0.        , -0.37796447,  0.        ],\n",
      "        [ 0.        ,  0.        ,  0.        ]],\n",
      "\n",
      "       [[ 0.        ,  0.        ,  0.        ],\n",
      "        [ 0.        ,  0.        ,  0.        ],\n",
      "        [ 0.        ,  0.        ,  0.        ],\n",
      "        [ 0.        ,  0.        ,  0.        ],\n",
      "        [ 0.        ,  0.        , -0.11952286],\n",
      "        [ 0.37796447,  0.        ,  0.        ],\n",
      "        [ 0.        , -0.46291005,  0.        ]]]), array([ 0.44384088, -0.29203741, -0.29203741]))\n",
      "\n",
      "li = 3, lf = 3\n",
      "(array([[[0., 0., 0.],\n",
      "        [0., 0., 0.],\n",
      "        [0., 0., 0.],\n",
      "        [0., 0., 0.],\n",
      "        [0., 0., 0.],\n",
      "        [0., 0., 0.],\n",
      "        [0., 0., 0.]],\n",
      "\n",
      "       [[0., 0., 0.],\n",
      "        [0., 0., 0.],\n",
      "        [0., 0., 0.],\n",
      "        [0., 0., 0.],\n",
      "        [0., 0., 0.],\n",
      "        [0., 0., 0.],\n",
      "        [0., 0., 0.]],\n",
      "\n",
      "       [[0., 0., 0.],\n",
      "        [0., 0., 0.],\n",
      "        [0., 0., 0.],\n",
      "        [0., 0., 0.],\n",
      "        [0., 0., 0.],\n",
      "        [0., 0., 0.],\n",
      "        [0., 0., 0.]],\n",
      "\n",
      "       [[0., 0., 0.],\n",
      "        [0., 0., 0.],\n",
      "        [0., 0., 0.],\n",
      "        [0., 0., 0.],\n",
      "        [0., 0., 0.],\n",
      "        [0., 0., 0.],\n",
      "        [0., 0., 0.]],\n",
      "\n",
      "       [[0., 0., 0.],\n",
      "        [0., 0., 0.],\n",
      "        [0., 0., 0.],\n",
      "        [0., 0., 0.],\n",
      "        [0., 0., 0.],\n",
      "        [0., 0., 0.],\n",
      "        [0., 0., 0.]],\n",
      "\n",
      "       [[0., 0., 0.],\n",
      "        [0., 0., 0.],\n",
      "        [0., 0., 0.],\n",
      "        [0., 0., 0.],\n",
      "        [0., 0., 0.],\n",
      "        [0., 0., 0.],\n",
      "        [0., 0., 0.]],\n",
      "\n",
      "       [[0., 0., 0.],\n",
      "        [0., 0., 0.],\n",
      "        [0., 0., 0.],\n",
      "        [0., 0., 0.],\n",
      "        [0., 0., 0.],\n",
      "        [0., 0., 0.],\n",
      "        [0., 0., 0.]]]), array([0., 0., 0.]))\n",
      "\n",
      "li = 3, lf = 4\n",
      "(array([[[0.        , 0.47140452, 0.        ],\n",
      "        [0.        , 0.        , 0.        ],\n",
      "        [0.        , 0.        , 0.        ],\n",
      "        [0.        , 0.        , 0.        ],\n",
      "        [0.        , 0.        , 0.        ],\n",
      "        [0.        , 0.        , 0.        ],\n",
      "        [0.        , 0.        , 0.        ]],\n",
      "\n",
      "       [[0.33333333, 0.        , 0.        ],\n",
      "        [0.        , 0.40824829, 0.        ],\n",
      "        [0.        , 0.        , 0.        ],\n",
      "        [0.        , 0.        , 0.        ],\n",
      "        [0.        , 0.        , 0.        ],\n",
      "        [0.        , 0.        , 0.        ],\n",
      "        [0.        , 0.        , 0.        ]],\n",
      "\n",
      "       [[0.        , 0.        , 0.08908708],\n",
      "        [0.43643578, 0.        , 0.        ],\n",
      "        [0.        , 0.34503278, 0.        ],\n",
      "        [0.        , 0.        , 0.        ],\n",
      "        [0.        , 0.        , 0.        ],\n",
      "        [0.        , 0.        , 0.        ],\n",
      "        [0.        , 0.        , 0.        ]],\n",
      "\n",
      "       [[0.        , 0.        , 0.        ],\n",
      "        [0.        , 0.        , 0.15430335],\n",
      "        [0.48795004, 0.        , 0.        ],\n",
      "        [0.        , 0.28171808, 0.        ],\n",
      "        [0.        , 0.        , 0.        ],\n",
      "        [0.        , 0.        , 0.        ],\n",
      "        [0.        , 0.        , 0.        ]],\n",
      "\n",
      "       [[0.        , 0.        , 0.        ],\n",
      "        [0.        , 0.        , 0.        ],\n",
      "        [0.        , 0.        , 0.21821789],\n",
      "        [0.50395263, 0.        , 0.        ],\n",
      "        [0.        , 0.21821789, 0.        ],\n",
      "        [0.        , 0.        , 0.        ],\n",
      "        [0.        , 0.        , 0.        ]],\n",
      "\n",
      "       [[0.        , 0.        , 0.        ],\n",
      "        [0.        , 0.        , 0.        ],\n",
      "        [0.        , 0.        , 0.        ],\n",
      "        [0.        , 0.        , 0.28171808],\n",
      "        [0.48795004, 0.        , 0.        ],\n",
      "        [0.        , 0.15430335, 0.        ],\n",
      "        [0.        , 0.        , 0.        ]],\n",
      "\n",
      "       [[0.        , 0.        , 0.        ],\n",
      "        [0.        , 0.        , 0.        ],\n",
      "        [0.        , 0.        , 0.        ],\n",
      "        [0.        , 0.        , 0.        ],\n",
      "        [0.        , 0.        , 0.34503278],\n",
      "        [0.43643578, 0.        , 0.        ],\n",
      "        [0.        , 0.08908708, 0.        ]],\n",
      "\n",
      "       [[0.        , 0.        , 0.        ],\n",
      "        [0.        , 0.        , 0.        ],\n",
      "        [0.        , 0.        , 0.        ],\n",
      "        [0.        , 0.        , 0.        ],\n",
      "        [0.        , 0.        , 0.        ],\n",
      "        [0.        , 0.        , 0.40824829],\n",
      "        [0.33333333, 0.        , 0.        ]],\n",
      "\n",
      "       [[0.        , 0.        , 0.        ],\n",
      "        [0.        , 0.        , 0.        ],\n",
      "        [0.        , 0.        , 0.        ],\n",
      "        [0.        , 0.        , 0.        ],\n",
      "        [0.        , 0.        , 0.        ],\n",
      "        [0.        , 0.        , 0.        ],\n",
      "        [0.        , 0.        , 0.47140452]]]), array([0.43134156, 0.28114457, 0.28114457]))\n",
      "\n",
      "li = 3, lf = 5\n",
      "(array([[[0., 0., 0.],\n",
      "        [0., 0., 0.],\n",
      "        [0., 0., 0.],\n",
      "        [0., 0., 0.],\n",
      "        [0., 0., 0.],\n",
      "        [0., 0., 0.],\n",
      "        [0., 0., 0.]],\n",
      "\n",
      "       [[0., 0., 0.],\n",
      "        [0., 0., 0.],\n",
      "        [0., 0., 0.],\n",
      "        [0., 0., 0.],\n",
      "        [0., 0., 0.],\n",
      "        [0., 0., 0.],\n",
      "        [0., 0., 0.]],\n",
      "\n",
      "       [[0., 0., 0.],\n",
      "        [0., 0., 0.],\n",
      "        [0., 0., 0.],\n",
      "        [0., 0., 0.],\n",
      "        [0., 0., 0.],\n",
      "        [0., 0., 0.],\n",
      "        [0., 0., 0.]],\n",
      "\n",
      "       [[0., 0., 0.],\n",
      "        [0., 0., 0.],\n",
      "        [0., 0., 0.],\n",
      "        [0., 0., 0.],\n",
      "        [0., 0., 0.],\n",
      "        [0., 0., 0.],\n",
      "        [0., 0., 0.]],\n",
      "\n",
      "       [[0., 0., 0.],\n",
      "        [0., 0., 0.],\n",
      "        [0., 0., 0.],\n",
      "        [0., 0., 0.],\n",
      "        [0., 0., 0.],\n",
      "        [0., 0., 0.],\n",
      "        [0., 0., 0.]],\n",
      "\n",
      "       [[0., 0., 0.],\n",
      "        [0., 0., 0.],\n",
      "        [0., 0., 0.],\n",
      "        [0., 0., 0.],\n",
      "        [0., 0., 0.],\n",
      "        [0., 0., 0.],\n",
      "        [0., 0., 0.]],\n",
      "\n",
      "       [[0., 0., 0.],\n",
      "        [0., 0., 0.],\n",
      "        [0., 0., 0.],\n",
      "        [0., 0., 0.],\n",
      "        [0., 0., 0.],\n",
      "        [0., 0., 0.],\n",
      "        [0., 0., 0.]],\n",
      "\n",
      "       [[0., 0., 0.],\n",
      "        [0., 0., 0.],\n",
      "        [0., 0., 0.],\n",
      "        [0., 0., 0.],\n",
      "        [0., 0., 0.],\n",
      "        [0., 0., 0.],\n",
      "        [0., 0., 0.]],\n",
      "\n",
      "       [[0., 0., 0.],\n",
      "        [0., 0., 0.],\n",
      "        [0., 0., 0.],\n",
      "        [0., 0., 0.],\n",
      "        [0., 0., 0.],\n",
      "        [0., 0., 0.],\n",
      "        [0., 0., 0.]],\n",
      "\n",
      "       [[0., 0., 0.],\n",
      "        [0., 0., 0.],\n",
      "        [0., 0., 0.],\n",
      "        [0., 0., 0.],\n",
      "        [0., 0., 0.],\n",
      "        [0., 0., 0.],\n",
      "        [0., 0., 0.]],\n",
      "\n",
      "       [[0., 0., 0.],\n",
      "        [0., 0., 0.],\n",
      "        [0., 0., 0.],\n",
      "        [0., 0., 0.],\n",
      "        [0., 0., 0.],\n",
      "        [0., 0., 0.],\n",
      "        [0., 0., 0.]]]), array([0., 0., 0.]))\n",
      "\n",
      "li = 4, lf = 0\n",
      "(array([[[0., 0., 0.],\n",
      "        [0., 0., 0.],\n",
      "        [0., 0., 0.],\n",
      "        [0., 0., 0.],\n",
      "        [0., 0., 0.],\n",
      "        [0., 0., 0.],\n",
      "        [0., 0., 0.],\n",
      "        [0., 0., 0.],\n",
      "        [0., 0., 0.]]]), array([0., 0., 0.]))\n",
      "\n",
      "li = 4, lf = 1\n",
      "(array([[[0., 0., 0.],\n",
      "        [0., 0., 0.],\n",
      "        [0., 0., 0.],\n",
      "        [0., 0., 0.],\n",
      "        [0., 0., 0.],\n",
      "        [0., 0., 0.],\n",
      "        [0., 0., 0.],\n",
      "        [0., 0., 0.],\n",
      "        [0., 0., 0.]],\n",
      "\n",
      "       [[0., 0., 0.],\n",
      "        [0., 0., 0.],\n",
      "        [0., 0., 0.],\n",
      "        [0., 0., 0.],\n",
      "        [0., 0., 0.],\n",
      "        [0., 0., 0.],\n",
      "        [0., 0., 0.],\n",
      "        [0., 0., 0.],\n",
      "        [0., 0., 0.]],\n",
      "\n",
      "       [[0., 0., 0.],\n",
      "        [0., 0., 0.],\n",
      "        [0., 0., 0.],\n",
      "        [0., 0., 0.],\n",
      "        [0., 0., 0.],\n",
      "        [0., 0., 0.],\n",
      "        [0., 0., 0.],\n",
      "        [0., 0., 0.],\n",
      "        [0., 0., 0.]]]), array([0., 0., 0.]))\n",
      "\n",
      "li = 4, lf = 2\n",
      "(array([[[0., 0., 0.],\n",
      "        [0., 0., 0.],\n",
      "        [0., 0., 0.],\n",
      "        [0., 0., 0.],\n",
      "        [0., 0., 0.],\n",
      "        [0., 0., 0.],\n",
      "        [0., 0., 0.],\n",
      "        [0., 0., 0.],\n",
      "        [0., 0., 0.]],\n",
      "\n",
      "       [[0., 0., 0.],\n",
      "        [0., 0., 0.],\n",
      "        [0., 0., 0.],\n",
      "        [0., 0., 0.],\n",
      "        [0., 0., 0.],\n",
      "        [0., 0., 0.],\n",
      "        [0., 0., 0.],\n",
      "        [0., 0., 0.],\n",
      "        [0., 0., 0.]],\n",
      "\n",
      "       [[0., 0., 0.],\n",
      "        [0., 0., 0.],\n",
      "        [0., 0., 0.],\n",
      "        [0., 0., 0.],\n",
      "        [0., 0., 0.],\n",
      "        [0., 0., 0.],\n",
      "        [0., 0., 0.],\n",
      "        [0., 0., 0.],\n",
      "        [0., 0., 0.]],\n",
      "\n",
      "       [[0., 0., 0.],\n",
      "        [0., 0., 0.],\n",
      "        [0., 0., 0.],\n",
      "        [0., 0., 0.],\n",
      "        [0., 0., 0.],\n",
      "        [0., 0., 0.],\n",
      "        [0., 0., 0.],\n",
      "        [0., 0., 0.],\n",
      "        [0., 0., 0.]],\n",
      "\n",
      "       [[0., 0., 0.],\n",
      "        [0., 0., 0.],\n",
      "        [0., 0., 0.],\n",
      "        [0., 0., 0.],\n",
      "        [0., 0., 0.],\n",
      "        [0., 0., 0.],\n",
      "        [0., 0., 0.],\n",
      "        [0., 0., 0.],\n",
      "        [0., 0., 0.]]]), array([0., 0., 0.]))\n",
      "\n",
      "li = 4, lf = 3\n",
      "(array([[[ 0.        ,  0.        , -0.47140452],\n",
      "        [ 0.33333333,  0.        ,  0.        ],\n",
      "        [ 0.        , -0.08908708,  0.        ],\n",
      "        [ 0.        ,  0.        ,  0.        ],\n",
      "        [ 0.        ,  0.        ,  0.        ],\n",
      "        [ 0.        ,  0.        ,  0.        ],\n",
      "        [ 0.        ,  0.        ,  0.        ],\n",
      "        [ 0.        ,  0.        ,  0.        ],\n",
      "        [ 0.        ,  0.        ,  0.        ]],\n",
      "\n",
      "       [[ 0.        ,  0.        ,  0.        ],\n",
      "        [ 0.        ,  0.        , -0.40824829],\n",
      "        [ 0.43643578,  0.        ,  0.        ],\n",
      "        [ 0.        , -0.15430335,  0.        ],\n",
      "        [ 0.        ,  0.        ,  0.        ],\n",
      "        [ 0.        ,  0.        ,  0.        ],\n",
      "        [ 0.        ,  0.        ,  0.        ],\n",
      "        [ 0.        ,  0.        ,  0.        ],\n",
      "        [ 0.        ,  0.        ,  0.        ]],\n",
      "\n",
      "       [[ 0.        ,  0.        ,  0.        ],\n",
      "        [ 0.        ,  0.        ,  0.        ],\n",
      "        [ 0.        ,  0.        , -0.34503278],\n",
      "        [ 0.48795004,  0.        ,  0.        ],\n",
      "        [ 0.        , -0.21821789,  0.        ],\n",
      "        [ 0.        ,  0.        ,  0.        ],\n",
      "        [ 0.        ,  0.        ,  0.        ],\n",
      "        [ 0.        ,  0.        ,  0.        ],\n",
      "        [ 0.        ,  0.        ,  0.        ]],\n",
      "\n",
      "       [[ 0.        ,  0.        ,  0.        ],\n",
      "        [ 0.        ,  0.        ,  0.        ],\n",
      "        [ 0.        ,  0.        ,  0.        ],\n",
      "        [ 0.        ,  0.        , -0.28171808],\n",
      "        [ 0.50395263,  0.        ,  0.        ],\n",
      "        [ 0.        , -0.28171808,  0.        ],\n",
      "        [ 0.        ,  0.        ,  0.        ],\n",
      "        [ 0.        ,  0.        ,  0.        ],\n",
      "        [ 0.        ,  0.        ,  0.        ]],\n",
      "\n",
      "       [[ 0.        ,  0.        ,  0.        ],\n",
      "        [ 0.        ,  0.        ,  0.        ],\n",
      "        [ 0.        ,  0.        ,  0.        ],\n",
      "        [ 0.        ,  0.        ,  0.        ],\n",
      "        [ 0.        ,  0.        , -0.21821789],\n",
      "        [ 0.48795004,  0.        ,  0.        ],\n",
      "        [ 0.        , -0.34503278,  0.        ],\n",
      "        [ 0.        ,  0.        ,  0.        ],\n",
      "        [ 0.        ,  0.        ,  0.        ]],\n",
      "\n",
      "       [[ 0.        ,  0.        ,  0.        ],\n",
      "        [ 0.        ,  0.        ,  0.        ],\n",
      "        [ 0.        ,  0.        ,  0.        ],\n",
      "        [ 0.        ,  0.        ,  0.        ],\n",
      "        [ 0.        ,  0.        ,  0.        ],\n",
      "        [ 0.        ,  0.        , -0.15430335],\n",
      "        [ 0.43643578,  0.        ,  0.        ],\n",
      "        [ 0.        , -0.40824829,  0.        ],\n",
      "        [ 0.        ,  0.        ,  0.        ]],\n",
      "\n",
      "       [[ 0.        ,  0.        ,  0.        ],\n",
      "        [ 0.        ,  0.        ,  0.        ],\n",
      "        [ 0.        ,  0.        ,  0.        ],\n",
      "        [ 0.        ,  0.        ,  0.        ],\n",
      "        [ 0.        ,  0.        ,  0.        ],\n",
      "        [ 0.        ,  0.        ,  0.        ],\n",
      "        [ 0.        ,  0.        , -0.08908708],\n",
      "        [ 0.33333333,  0.        ,  0.        ],\n",
      "        [ 0.        , -0.47140452,  0.        ]]]), array([ 0.43134156, -0.28114457, -0.28114457]))\n",
      "\n",
      "li = 4, lf = 4\n",
      "(array([[[0., 0., 0.],\n",
      "        [0., 0., 0.],\n",
      "        [0., 0., 0.],\n",
      "        [0., 0., 0.],\n",
      "        [0., 0., 0.],\n",
      "        [0., 0., 0.],\n",
      "        [0., 0., 0.],\n",
      "        [0., 0., 0.],\n",
      "        [0., 0., 0.]],\n",
      "\n",
      "       [[0., 0., 0.],\n",
      "        [0., 0., 0.],\n",
      "        [0., 0., 0.],\n",
      "        [0., 0., 0.],\n",
      "        [0., 0., 0.],\n",
      "        [0., 0., 0.],\n",
      "        [0., 0., 0.],\n",
      "        [0., 0., 0.],\n",
      "        [0., 0., 0.]],\n",
      "\n",
      "       [[0., 0., 0.],\n",
      "        [0., 0., 0.],\n",
      "        [0., 0., 0.],\n",
      "        [0., 0., 0.],\n",
      "        [0., 0., 0.],\n",
      "        [0., 0., 0.],\n",
      "        [0., 0., 0.],\n",
      "        [0., 0., 0.],\n",
      "        [0., 0., 0.]],\n",
      "\n",
      "       [[0., 0., 0.],\n",
      "        [0., 0., 0.],\n",
      "        [0., 0., 0.],\n",
      "        [0., 0., 0.],\n",
      "        [0., 0., 0.],\n",
      "        [0., 0., 0.],\n",
      "        [0., 0., 0.],\n",
      "        [0., 0., 0.],\n",
      "        [0., 0., 0.]],\n",
      "\n",
      "       [[0., 0., 0.],\n",
      "        [0., 0., 0.],\n",
      "        [0., 0., 0.],\n",
      "        [0., 0., 0.],\n",
      "        [0., 0., 0.],\n",
      "        [0., 0., 0.],\n",
      "        [0., 0., 0.],\n",
      "        [0., 0., 0.],\n",
      "        [0., 0., 0.]],\n",
      "\n",
      "       [[0., 0., 0.],\n",
      "        [0., 0., 0.],\n",
      "        [0., 0., 0.],\n",
      "        [0., 0., 0.],\n",
      "        [0., 0., 0.],\n",
      "        [0., 0., 0.],\n",
      "        [0., 0., 0.],\n",
      "        [0., 0., 0.],\n",
      "        [0., 0., 0.]],\n",
      "\n",
      "       [[0., 0., 0.],\n",
      "        [0., 0., 0.],\n",
      "        [0., 0., 0.],\n",
      "        [0., 0., 0.],\n",
      "        [0., 0., 0.],\n",
      "        [0., 0., 0.],\n",
      "        [0., 0., 0.],\n",
      "        [0., 0., 0.],\n",
      "        [0., 0., 0.]],\n",
      "\n",
      "       [[0., 0., 0.],\n",
      "        [0., 0., 0.],\n",
      "        [0., 0., 0.],\n",
      "        [0., 0., 0.],\n",
      "        [0., 0., 0.],\n",
      "        [0., 0., 0.],\n",
      "        [0., 0., 0.],\n",
      "        [0., 0., 0.],\n",
      "        [0., 0., 0.]],\n",
      "\n",
      "       [[0., 0., 0.],\n",
      "        [0., 0., 0.],\n",
      "        [0., 0., 0.],\n",
      "        [0., 0., 0.],\n",
      "        [0., 0., 0.],\n",
      "        [0., 0., 0.],\n",
      "        [0., 0., 0.],\n",
      "        [0., 0., 0.],\n",
      "        [0., 0., 0.]]]), array([0., 0., 0.]))\n",
      "\n",
      "li = 4, lf = 5\n",
      "(array([[[0.        , 0.47673129, 0.        ],\n",
      "        [0.        , 0.        , 0.        ],\n",
      "        [0.        , 0.        , 0.        ],\n",
      "        [0.        , 0.        , 0.        ],\n",
      "        [0.        , 0.        , 0.        ],\n",
      "        [0.        , 0.        , 0.        ],\n",
      "        [0.        , 0.        , 0.        ],\n",
      "        [0.        , 0.        , 0.        ],\n",
      "        [0.        , 0.        , 0.        ]],\n",
      "\n",
      "       [[0.30151134, 0.        , 0.        ],\n",
      "        [0.        , 0.42640143, 0.        ],\n",
      "        [0.        , 0.        , 0.        ],\n",
      "        [0.        , 0.        , 0.        ],\n",
      "        [0.        , 0.        , 0.        ],\n",
      "        [0.        , 0.        , 0.        ],\n",
      "        [0.        , 0.        , 0.        ],\n",
      "        [0.        , 0.        , 0.        ],\n",
      "        [0.        , 0.        , 0.        ]],\n",
      "\n",
      "       [[0.        , 0.        , 0.07106691],\n",
      "        [0.40201513, 0.        , 0.        ],\n",
      "        [0.        , 0.37605072, 0.        ],\n",
      "        [0.        , 0.        , 0.        ],\n",
      "        [0.        , 0.        , 0.        ],\n",
      "        [0.        , 0.        , 0.        ],\n",
      "        [0.        , 0.        , 0.        ],\n",
      "        [0.        , 0.        , 0.        ],\n",
      "        [0.        , 0.        , 0.        ]],\n",
      "\n",
      "       [[0.        , 0.        , 0.        ],\n",
      "        [0.        , 0.        , 0.12309149],\n",
      "        [0.46056619, 0.        , 0.        ],\n",
      "        [0.        , 0.32566947, 0.        ],\n",
      "        [0.        , 0.        , 0.        ],\n",
      "        [0.        , 0.        , 0.        ],\n",
      "        [0.        , 0.        , 0.        ],\n",
      "        [0.        , 0.        , 0.        ],\n",
      "        [0.        , 0.        , 0.        ]],\n",
      "\n",
      "       [[0.        , 0.        , 0.        ],\n",
      "        [0.        , 0.        , 0.        ],\n",
      "        [0.        , 0.        , 0.17407766],\n",
      "        [0.49236596, 0.        , 0.        ],\n",
      "        [0.        , 0.27524094, 0.        ],\n",
      "        [0.        , 0.        , 0.        ],\n",
      "        [0.        , 0.        , 0.        ],\n",
      "        [0.        , 0.        , 0.        ],\n",
      "        [0.        , 0.        , 0.        ]],\n",
      "\n",
      "       [[0.        , 0.        , 0.        ],\n",
      "        [0.        , 0.        , 0.        ],\n",
      "        [0.        , 0.        , 0.        ],\n",
      "        [0.        , 0.        , 0.22473329],\n",
      "        [0.50251891, 0.        , 0.        ],\n",
      "        [0.        , 0.22473329, 0.        ],\n",
      "        [0.        , 0.        , 0.        ],\n",
      "        [0.        , 0.        , 0.        ],\n",
      "        [0.        , 0.        , 0.        ]],\n",
      "\n",
      "       [[0.        , 0.        , 0.        ],\n",
      "        [0.        , 0.        , 0.        ],\n",
      "        [0.        , 0.        , 0.        ],\n",
      "        [0.        , 0.        , 0.        ],\n",
      "        [0.        , 0.        , 0.27524094],\n",
      "        [0.49236596, 0.        , 0.        ],\n",
      "        [0.        , 0.17407766, 0.        ],\n",
      "        [0.        , 0.        , 0.        ],\n",
      "        [0.        , 0.        , 0.        ]],\n",
      "\n",
      "       [[0.        , 0.        , 0.        ],\n",
      "        [0.        , 0.        , 0.        ],\n",
      "        [0.        , 0.        , 0.        ],\n",
      "        [0.        , 0.        , 0.        ],\n",
      "        [0.        , 0.        , 0.        ],\n",
      "        [0.        , 0.        , 0.32566947],\n",
      "        [0.46056619, 0.        , 0.        ],\n",
      "        [0.        , 0.12309149, 0.        ],\n",
      "        [0.        , 0.        , 0.        ]],\n",
      "\n",
      "       [[0.        , 0.        , 0.        ],\n",
      "        [0.        , 0.        , 0.        ],\n",
      "        [0.        , 0.        , 0.        ],\n",
      "        [0.        , 0.        , 0.        ],\n",
      "        [0.        , 0.        , 0.        ],\n",
      "        [0.        , 0.        , 0.        ],\n",
      "        [0.        , 0.        , 0.37605072],\n",
      "        [0.40201513, 0.        , 0.        ],\n",
      "        [0.        , 0.07106691, 0.        ]],\n",
      "\n",
      "       [[0.        , 0.        , 0.        ],\n",
      "        [0.        , 0.        , 0.        ],\n",
      "        [0.        , 0.        , 0.        ],\n",
      "        [0.        , 0.        , 0.        ],\n",
      "        [0.        , 0.        , 0.        ],\n",
      "        [0.        , 0.        , 0.        ],\n",
      "        [0.        , 0.        , 0.        ],\n",
      "        [0.        , 0.        , 0.42640143],\n",
      "        [0.30151134, 0.        , 0.        ]],\n",
      "\n",
      "       [[0.        , 0.        , 0.        ],\n",
      "        [0.        , 0.        , 0.        ],\n",
      "        [0.        , 0.        , 0.        ],\n",
      "        [0.        , 0.        , 0.        ],\n",
      "        [0.        , 0.        , 0.        ],\n",
      "        [0.        , 0.        , 0.        ],\n",
      "        [0.        , 0.        , 0.        ],\n",
      "        [0.        , 0.        , 0.        ],\n",
      "        [0.        , 0.        , 0.47673129]]]), array([0.42393735, 0.2747848 , 0.2747848 ]))\n",
      "\n",
      "li = 5, lf = 0\n",
      "(array([[[0., 0., 0.],\n",
      "        [0., 0., 0.],\n",
      "        [0., 0., 0.],\n",
      "        [0., 0., 0.],\n",
      "        [0., 0., 0.],\n",
      "        [0., 0., 0.],\n",
      "        [0., 0., 0.],\n",
      "        [0., 0., 0.],\n",
      "        [0., 0., 0.],\n",
      "        [0., 0., 0.],\n",
      "        [0., 0., 0.]]]), array([0., 0., 0.]))\n",
      "\n",
      "li = 5, lf = 1\n",
      "(array([[[0., 0., 0.],\n",
      "        [0., 0., 0.],\n",
      "        [0., 0., 0.],\n",
      "        [0., 0., 0.],\n",
      "        [0., 0., 0.],\n",
      "        [0., 0., 0.],\n",
      "        [0., 0., 0.],\n",
      "        [0., 0., 0.],\n",
      "        [0., 0., 0.],\n",
      "        [0., 0., 0.],\n",
      "        [0., 0., 0.]],\n",
      "\n",
      "       [[0., 0., 0.],\n",
      "        [0., 0., 0.],\n",
      "        [0., 0., 0.],\n",
      "        [0., 0., 0.],\n",
      "        [0., 0., 0.],\n",
      "        [0., 0., 0.],\n",
      "        [0., 0., 0.],\n",
      "        [0., 0., 0.],\n",
      "        [0., 0., 0.],\n",
      "        [0., 0., 0.],\n",
      "        [0., 0., 0.]],\n",
      "\n",
      "       [[0., 0., 0.],\n",
      "        [0., 0., 0.],\n",
      "        [0., 0., 0.],\n",
      "        [0., 0., 0.],\n",
      "        [0., 0., 0.],\n",
      "        [0., 0., 0.],\n",
      "        [0., 0., 0.],\n",
      "        [0., 0., 0.],\n",
      "        [0., 0., 0.],\n",
      "        [0., 0., 0.],\n",
      "        [0., 0., 0.]]]), array([0., 0., 0.]))\n",
      "\n",
      "li = 5, lf = 2\n",
      "(array([[[0., 0., 0.],\n",
      "        [0., 0., 0.],\n",
      "        [0., 0., 0.],\n",
      "        [0., 0., 0.],\n",
      "        [0., 0., 0.],\n",
      "        [0., 0., 0.],\n",
      "        [0., 0., 0.],\n",
      "        [0., 0., 0.],\n",
      "        [0., 0., 0.],\n",
      "        [0., 0., 0.],\n",
      "        [0., 0., 0.]],\n",
      "\n",
      "       [[0., 0., 0.],\n",
      "        [0., 0., 0.],\n",
      "        [0., 0., 0.],\n",
      "        [0., 0., 0.],\n",
      "        [0., 0., 0.],\n",
      "        [0., 0., 0.],\n",
      "        [0., 0., 0.],\n",
      "        [0., 0., 0.],\n",
      "        [0., 0., 0.],\n",
      "        [0., 0., 0.],\n",
      "        [0., 0., 0.]],\n",
      "\n",
      "       [[0., 0., 0.],\n",
      "        [0., 0., 0.],\n",
      "        [0., 0., 0.],\n",
      "        [0., 0., 0.],\n",
      "        [0., 0., 0.],\n",
      "        [0., 0., 0.],\n",
      "        [0., 0., 0.],\n",
      "        [0., 0., 0.],\n",
      "        [0., 0., 0.],\n",
      "        [0., 0., 0.],\n",
      "        [0., 0., 0.]],\n",
      "\n",
      "       [[0., 0., 0.],\n",
      "        [0., 0., 0.],\n",
      "        [0., 0., 0.],\n",
      "        [0., 0., 0.],\n",
      "        [0., 0., 0.],\n",
      "        [0., 0., 0.],\n",
      "        [0., 0., 0.],\n",
      "        [0., 0., 0.],\n",
      "        [0., 0., 0.],\n",
      "        [0., 0., 0.],\n",
      "        [0., 0., 0.]],\n",
      "\n",
      "       [[0., 0., 0.],\n",
      "        [0., 0., 0.],\n",
      "        [0., 0., 0.],\n",
      "        [0., 0., 0.],\n",
      "        [0., 0., 0.],\n",
      "        [0., 0., 0.],\n",
      "        [0., 0., 0.],\n",
      "        [0., 0., 0.],\n",
      "        [0., 0., 0.],\n",
      "        [0., 0., 0.],\n",
      "        [0., 0., 0.]]]), array([0., 0., 0.]))\n",
      "\n",
      "li = 5, lf = 3\n",
      "(array([[[0., 0., 0.],\n",
      "        [0., 0., 0.],\n",
      "        [0., 0., 0.],\n",
      "        [0., 0., 0.],\n",
      "        [0., 0., 0.],\n",
      "        [0., 0., 0.],\n",
      "        [0., 0., 0.],\n",
      "        [0., 0., 0.],\n",
      "        [0., 0., 0.],\n",
      "        [0., 0., 0.],\n",
      "        [0., 0., 0.]],\n",
      "\n",
      "       [[0., 0., 0.],\n",
      "        [0., 0., 0.],\n",
      "        [0., 0., 0.],\n",
      "        [0., 0., 0.],\n",
      "        [0., 0., 0.],\n",
      "        [0., 0., 0.],\n",
      "        [0., 0., 0.],\n",
      "        [0., 0., 0.],\n",
      "        [0., 0., 0.],\n",
      "        [0., 0., 0.],\n",
      "        [0., 0., 0.]],\n",
      "\n",
      "       [[0., 0., 0.],\n",
      "        [0., 0., 0.],\n",
      "        [0., 0., 0.],\n",
      "        [0., 0., 0.],\n",
      "        [0., 0., 0.],\n",
      "        [0., 0., 0.],\n",
      "        [0., 0., 0.],\n",
      "        [0., 0., 0.],\n",
      "        [0., 0., 0.],\n",
      "        [0., 0., 0.],\n",
      "        [0., 0., 0.]],\n",
      "\n",
      "       [[0., 0., 0.],\n",
      "        [0., 0., 0.],\n",
      "        [0., 0., 0.],\n",
      "        [0., 0., 0.],\n",
      "        [0., 0., 0.],\n",
      "        [0., 0., 0.],\n",
      "        [0., 0., 0.],\n",
      "        [0., 0., 0.],\n",
      "        [0., 0., 0.],\n",
      "        [0., 0., 0.],\n",
      "        [0., 0., 0.]],\n",
      "\n",
      "       [[0., 0., 0.],\n",
      "        [0., 0., 0.],\n",
      "        [0., 0., 0.],\n",
      "        [0., 0., 0.],\n",
      "        [0., 0., 0.],\n",
      "        [0., 0., 0.],\n",
      "        [0., 0., 0.],\n",
      "        [0., 0., 0.],\n",
      "        [0., 0., 0.],\n",
      "        [0., 0., 0.],\n",
      "        [0., 0., 0.]],\n",
      "\n",
      "       [[0., 0., 0.],\n",
      "        [0., 0., 0.],\n",
      "        [0., 0., 0.],\n",
      "        [0., 0., 0.],\n",
      "        [0., 0., 0.],\n",
      "        [0., 0., 0.],\n",
      "        [0., 0., 0.],\n",
      "        [0., 0., 0.],\n",
      "        [0., 0., 0.],\n",
      "        [0., 0., 0.],\n",
      "        [0., 0., 0.]],\n",
      "\n",
      "       [[0., 0., 0.],\n",
      "        [0., 0., 0.],\n",
      "        [0., 0., 0.],\n",
      "        [0., 0., 0.],\n",
      "        [0., 0., 0.],\n",
      "        [0., 0., 0.],\n",
      "        [0., 0., 0.],\n",
      "        [0., 0., 0.],\n",
      "        [0., 0., 0.],\n",
      "        [0., 0., 0.],\n",
      "        [0., 0., 0.]]]), array([0., 0., 0.]))\n",
      "\n",
      "li = 5, lf = 4\n",
      "(array([[[ 0.        ,  0.        , -0.47673129],\n",
      "        [ 0.30151134,  0.        ,  0.        ],\n",
      "        [ 0.        , -0.07106691,  0.        ],\n",
      "        [ 0.        ,  0.        ,  0.        ],\n",
      "        [ 0.        ,  0.        ,  0.        ],\n",
      "        [ 0.        ,  0.        ,  0.        ],\n",
      "        [ 0.        ,  0.        ,  0.        ],\n",
      "        [ 0.        ,  0.        ,  0.        ],\n",
      "        [ 0.        ,  0.        ,  0.        ],\n",
      "        [ 0.        ,  0.        ,  0.        ],\n",
      "        [ 0.        ,  0.        ,  0.        ]],\n",
      "\n",
      "       [[ 0.        ,  0.        ,  0.        ],\n",
      "        [ 0.        ,  0.        , -0.42640143],\n",
      "        [ 0.40201513,  0.        ,  0.        ],\n",
      "        [ 0.        , -0.12309149,  0.        ],\n",
      "        [ 0.        ,  0.        ,  0.        ],\n",
      "        [ 0.        ,  0.        ,  0.        ],\n",
      "        [ 0.        ,  0.        ,  0.        ],\n",
      "        [ 0.        ,  0.        ,  0.        ],\n",
      "        [ 0.        ,  0.        ,  0.        ],\n",
      "        [ 0.        ,  0.        ,  0.        ],\n",
      "        [ 0.        ,  0.        ,  0.        ]],\n",
      "\n",
      "       [[ 0.        ,  0.        ,  0.        ],\n",
      "        [ 0.        ,  0.        ,  0.        ],\n",
      "        [ 0.        ,  0.        , -0.37605072],\n",
      "        [ 0.46056619,  0.        ,  0.        ],\n",
      "        [ 0.        , -0.17407766,  0.        ],\n",
      "        [ 0.        ,  0.        ,  0.        ],\n",
      "        [ 0.        ,  0.        ,  0.        ],\n",
      "        [ 0.        ,  0.        ,  0.        ],\n",
      "        [ 0.        ,  0.        ,  0.        ],\n",
      "        [ 0.        ,  0.        ,  0.        ],\n",
      "        [ 0.        ,  0.        ,  0.        ]],\n",
      "\n",
      "       [[ 0.        ,  0.        ,  0.        ],\n",
      "        [ 0.        ,  0.        ,  0.        ],\n",
      "        [ 0.        ,  0.        ,  0.        ],\n",
      "        [ 0.        ,  0.        , -0.32566947],\n",
      "        [ 0.49236596,  0.        ,  0.        ],\n",
      "        [ 0.        , -0.22473329,  0.        ],\n",
      "        [ 0.        ,  0.        ,  0.        ],\n",
      "        [ 0.        ,  0.        ,  0.        ],\n",
      "        [ 0.        ,  0.        ,  0.        ],\n",
      "        [ 0.        ,  0.        ,  0.        ],\n",
      "        [ 0.        ,  0.        ,  0.        ]],\n",
      "\n",
      "       [[ 0.        ,  0.        ,  0.        ],\n",
      "        [ 0.        ,  0.        ,  0.        ],\n",
      "        [ 0.        ,  0.        ,  0.        ],\n",
      "        [ 0.        ,  0.        ,  0.        ],\n",
      "        [ 0.        ,  0.        , -0.27524094],\n",
      "        [ 0.50251891,  0.        ,  0.        ],\n",
      "        [ 0.        , -0.27524094,  0.        ],\n",
      "        [ 0.        ,  0.        ,  0.        ],\n",
      "        [ 0.        ,  0.        ,  0.        ],\n",
      "        [ 0.        ,  0.        ,  0.        ],\n",
      "        [ 0.        ,  0.        ,  0.        ]],\n",
      "\n",
      "       [[ 0.        ,  0.        ,  0.        ],\n",
      "        [ 0.        ,  0.        ,  0.        ],\n",
      "        [ 0.        ,  0.        ,  0.        ],\n",
      "        [ 0.        ,  0.        ,  0.        ],\n",
      "        [ 0.        ,  0.        ,  0.        ],\n",
      "        [ 0.        ,  0.        , -0.22473329],\n",
      "        [ 0.49236596,  0.        ,  0.        ],\n",
      "        [ 0.        , -0.32566947,  0.        ],\n",
      "        [ 0.        ,  0.        ,  0.        ],\n",
      "        [ 0.        ,  0.        ,  0.        ],\n",
      "        [ 0.        ,  0.        ,  0.        ]],\n",
      "\n",
      "       [[ 0.        ,  0.        ,  0.        ],\n",
      "        [ 0.        ,  0.        ,  0.        ],\n",
      "        [ 0.        ,  0.        ,  0.        ],\n",
      "        [ 0.        ,  0.        ,  0.        ],\n",
      "        [ 0.        ,  0.        ,  0.        ],\n",
      "        [ 0.        ,  0.        ,  0.        ],\n",
      "        [ 0.        ,  0.        , -0.17407766],\n",
      "        [ 0.46056619,  0.        ,  0.        ],\n",
      "        [ 0.        , -0.37605072,  0.        ],\n",
      "        [ 0.        ,  0.        ,  0.        ],\n",
      "        [ 0.        ,  0.        ,  0.        ]],\n",
      "\n",
      "       [[ 0.        ,  0.        ,  0.        ],\n",
      "        [ 0.        ,  0.        ,  0.        ],\n",
      "        [ 0.        ,  0.        ,  0.        ],\n",
      "        [ 0.        ,  0.        ,  0.        ],\n",
      "        [ 0.        ,  0.        ,  0.        ],\n",
      "        [ 0.        ,  0.        ,  0.        ],\n",
      "        [ 0.        ,  0.        ,  0.        ],\n",
      "        [ 0.        ,  0.        , -0.12309149],\n",
      "        [ 0.40201513,  0.        ,  0.        ],\n",
      "        [ 0.        , -0.42640143,  0.        ],\n",
      "        [ 0.        ,  0.        ,  0.        ]],\n",
      "\n",
      "       [[ 0.        ,  0.        ,  0.        ],\n",
      "        [ 0.        ,  0.        ,  0.        ],\n",
      "        [ 0.        ,  0.        ,  0.        ],\n",
      "        [ 0.        ,  0.        ,  0.        ],\n",
      "        [ 0.        ,  0.        ,  0.        ],\n",
      "        [ 0.        ,  0.        ,  0.        ],\n",
      "        [ 0.        ,  0.        ,  0.        ],\n",
      "        [ 0.        ,  0.        ,  0.        ],\n",
      "        [ 0.        ,  0.        , -0.07106691],\n",
      "        [ 0.30151134,  0.        ,  0.        ],\n",
      "        [ 0.        , -0.47673129,  0.        ]]]), array([ 0.42393735, -0.2747848 , -0.2747848 ]))\n",
      "\n",
      "li = 5, lf = 5\n",
      "(array([[[0., 0., 0.],\n",
      "        [0., 0., 0.],\n",
      "        [0., 0., 0.],\n",
      "        [0., 0., 0.],\n",
      "        [0., 0., 0.],\n",
      "        [0., 0., 0.],\n",
      "        [0., 0., 0.],\n",
      "        [0., 0., 0.],\n",
      "        [0., 0., 0.],\n",
      "        [0., 0., 0.],\n",
      "        [0., 0., 0.]],\n",
      "\n",
      "       [[0., 0., 0.],\n",
      "        [0., 0., 0.],\n",
      "        [0., 0., 0.],\n",
      "        [0., 0., 0.],\n",
      "        [0., 0., 0.],\n",
      "        [0., 0., 0.],\n",
      "        [0., 0., 0.],\n",
      "        [0., 0., 0.],\n",
      "        [0., 0., 0.],\n",
      "        [0., 0., 0.],\n",
      "        [0., 0., 0.]],\n",
      "\n",
      "       [[0., 0., 0.],\n",
      "        [0., 0., 0.],\n",
      "        [0., 0., 0.],\n",
      "        [0., 0., 0.],\n",
      "        [0., 0., 0.],\n",
      "        [0., 0., 0.],\n",
      "        [0., 0., 0.],\n",
      "        [0., 0., 0.],\n",
      "        [0., 0., 0.],\n",
      "        [0., 0., 0.],\n",
      "        [0., 0., 0.]],\n",
      "\n",
      "       [[0., 0., 0.],\n",
      "        [0., 0., 0.],\n",
      "        [0., 0., 0.],\n",
      "        [0., 0., 0.],\n",
      "        [0., 0., 0.],\n",
      "        [0., 0., 0.],\n",
      "        [0., 0., 0.],\n",
      "        [0., 0., 0.],\n",
      "        [0., 0., 0.],\n",
      "        [0., 0., 0.],\n",
      "        [0., 0., 0.]],\n",
      "\n",
      "       [[0., 0., 0.],\n",
      "        [0., 0., 0.],\n",
      "        [0., 0., 0.],\n",
      "        [0., 0., 0.],\n",
      "        [0., 0., 0.],\n",
      "        [0., 0., 0.],\n",
      "        [0., 0., 0.],\n",
      "        [0., 0., 0.],\n",
      "        [0., 0., 0.],\n",
      "        [0., 0., 0.],\n",
      "        [0., 0., 0.]],\n",
      "\n",
      "       [[0., 0., 0.],\n",
      "        [0., 0., 0.],\n",
      "        [0., 0., 0.],\n",
      "        [0., 0., 0.],\n",
      "        [0., 0., 0.],\n",
      "        [0., 0., 0.],\n",
      "        [0., 0., 0.],\n",
      "        [0., 0., 0.],\n",
      "        [0., 0., 0.],\n",
      "        [0., 0., 0.],\n",
      "        [0., 0., 0.]],\n",
      "\n",
      "       [[0., 0., 0.],\n",
      "        [0., 0., 0.],\n",
      "        [0., 0., 0.],\n",
      "        [0., 0., 0.],\n",
      "        [0., 0., 0.],\n",
      "        [0., 0., 0.],\n",
      "        [0., 0., 0.],\n",
      "        [0., 0., 0.],\n",
      "        [0., 0., 0.],\n",
      "        [0., 0., 0.],\n",
      "        [0., 0., 0.]],\n",
      "\n",
      "       [[0., 0., 0.],\n",
      "        [0., 0., 0.],\n",
      "        [0., 0., 0.],\n",
      "        [0., 0., 0.],\n",
      "        [0., 0., 0.],\n",
      "        [0., 0., 0.],\n",
      "        [0., 0., 0.],\n",
      "        [0., 0., 0.],\n",
      "        [0., 0., 0.],\n",
      "        [0., 0., 0.],\n",
      "        [0., 0., 0.]],\n",
      "\n",
      "       [[0., 0., 0.],\n",
      "        [0., 0., 0.],\n",
      "        [0., 0., 0.],\n",
      "        [0., 0., 0.],\n",
      "        [0., 0., 0.],\n",
      "        [0., 0., 0.],\n",
      "        [0., 0., 0.],\n",
      "        [0., 0., 0.],\n",
      "        [0., 0., 0.],\n",
      "        [0., 0., 0.],\n",
      "        [0., 0., 0.]],\n",
      "\n",
      "       [[0., 0., 0.],\n",
      "        [0., 0., 0.],\n",
      "        [0., 0., 0.],\n",
      "        [0., 0., 0.],\n",
      "        [0., 0., 0.],\n",
      "        [0., 0., 0.],\n",
      "        [0., 0., 0.],\n",
      "        [0., 0., 0.],\n",
      "        [0., 0., 0.],\n",
      "        [0., 0., 0.],\n",
      "        [0., 0., 0.]],\n",
      "\n",
      "       [[0., 0., 0.],\n",
      "        [0., 0., 0.],\n",
      "        [0., 0., 0.],\n",
      "        [0., 0., 0.],\n",
      "        [0., 0., 0.],\n",
      "        [0., 0., 0.],\n",
      "        [0., 0., 0.],\n",
      "        [0., 0., 0.],\n",
      "        [0., 0., 0.],\n",
      "        [0., 0., 0.],\n",
      "        [0., 0., 0.]]]), array([0., 0., 0.]))\n",
      "\n",
      "\n"
     ]
    }
   ],
   "source": [
    "print(f\"\"\"\n",
    "li = 0, lf = 0\n",
    "{data_24.all_ang_matrix_elements(0,0)}\\n\n",
    "li = 0, lf = 1\n",
    "{data_24.all_ang_matrix_elements(0,1)}\\n\n",
    "li = 0, lf = 2\n",
    "{data_24.all_ang_matrix_elements(0,2)}\\n\n",
    "li = 0, lf = 3\n",
    "{data_24.all_ang_matrix_elements(0,3)}\\n\n",
    "li = 0, lf = 4\n",
    "{data_24.all_ang_matrix_elements(0,4)}\\n\n",
    "li = 0, lf = 5\n",
    "{data_24.all_ang_matrix_elements(0,5)}\\n\n",
    "li = 1, lf = 0\n",
    "{data_24.all_ang_matrix_elements(1,0)}\\n\n",
    "li = 1, lf = 1\n",
    "{data_24.all_ang_matrix_elements(1,1)}\\n\n",
    "li = 1, lf = 2\n",
    "{data_24.all_ang_matrix_elements(1,2)}\\n\n",
    "li = 1, lf = 3\n",
    "{data_24.all_ang_matrix_elements(1,3)}\\n\n",
    "li = 1, lf = 4\n",
    "{data_24.all_ang_matrix_elements(1,4)}\\n\n",
    "li = 1, lf = 5\n",
    "{data_24.all_ang_matrix_elements(1,5)}\\n\n",
    "li = 2, lf = 0\n",
    "{data_24.all_ang_matrix_elements(2,0)}\\n\n",
    "li = 2, lf = 1\n",
    "{data_24.all_ang_matrix_elements(2,1)}\\n\n",
    "li = 2, lf = 2\n",
    "{data_24.all_ang_matrix_elements(2,2)}\\n\n",
    "li = 2, lf = 3\n",
    "{data_24.all_ang_matrix_elements(2,3)}\\n\n",
    "li = 2, lf = 4\n",
    "{data_24.all_ang_matrix_elements(2,4)}\\n\n",
    "li = 2, lf = 5\n",
    "{data_24.all_ang_matrix_elements(2,5)}\\n\n",
    "li = 3, lf = 0\n",
    "{data_24.all_ang_matrix_elements(3,0)}\\n\n",
    "li = 3, lf = 1\n",
    "{data_24.all_ang_matrix_elements(3,1)}\\n\n",
    "li = 3, lf = 2\n",
    "{data_24.all_ang_matrix_elements(3,2)}\\n\n",
    "li = 3, lf = 3\n",
    "{data_24.all_ang_matrix_elements(3,3)}\\n\n",
    "li = 3, lf = 4\n",
    "{data_24.all_ang_matrix_elements(3,4)}\\n\n",
    "li = 3, lf = 5\n",
    "{data_24.all_ang_matrix_elements(3,5)}\\n\n",
    "li = 4, lf = 0\n",
    "{data_24.all_ang_matrix_elements(4,0)}\\n\n",
    "li = 4, lf = 1\n",
    "{data_24.all_ang_matrix_elements(4,1)}\\n\n",
    "li = 4, lf = 2\n",
    "{data_24.all_ang_matrix_elements(4,2)}\\n\n",
    "li = 4, lf = 3\n",
    "{data_24.all_ang_matrix_elements(4,3)}\\n\n",
    "li = 4, lf = 4\n",
    "{data_24.all_ang_matrix_elements(4,4)}\\n\n",
    "li = 4, lf = 5\n",
    "{data_24.all_ang_matrix_elements(4,5)}\\n\n",
    "li = 5, lf = 0\n",
    "{data_24.all_ang_matrix_elements(5,0)}\\n\n",
    "li = 5, lf = 1\n",
    "{data_24.all_ang_matrix_elements(5,1)}\\n\n",
    "li = 5, lf = 2\n",
    "{data_24.all_ang_matrix_elements(5,2)}\\n\n",
    "li = 5, lf = 3\n",
    "{data_24.all_ang_matrix_elements(5,3)}\\n\n",
    "li = 5, lf = 4\n",
    "{data_24.all_ang_matrix_elements(5,4)}\\n\n",
    "li = 5, lf = 5\n",
    "{data_24.all_ang_matrix_elements(5,5)}\\n\n",
    "\"\"\")"
   ]
  },
  {
   "cell_type": "markdown",
   "metadata": {},
   "source": [
    "Radial elements"
   ]
  },
  {
   "cell_type": "code",
   "execution_count": 70,
   "metadata": {
    "execution": {
     "iopub.execute_input": "2020-10-22T15:43:23.873079Z",
     "iopub.status.busy": "2020-10-22T15:43:23.872892Z",
     "iopub.status.idle": "2020-10-22T15:43:23.876261Z",
     "shell.execute_reply": "2020-10-22T15:43:23.875557Z",
     "shell.execute_reply.started": "2020-10-22T15:43:23.873058Z"
    }
   },
   "outputs": [],
   "source": [
    "e_level_index = [(0, 0), (1, 0), (2, 0),\n",
    "                 (0, 1)]"
   ]
  },
  {
   "cell_type": "code",
   "execution_count": 71,
   "metadata": {
    "execution": {
     "iopub.execute_input": "2020-10-22T15:43:24.538516Z",
     "iopub.status.busy": "2020-10-22T15:43:24.538205Z",
     "iopub.status.idle": "2020-10-22T15:43:24.595640Z",
     "shell.execute_reply": "2020-10-22T15:43:24.594916Z",
     "shell.execute_reply.started": "2020-10-22T15:43:24.538479Z"
    },
    "scrolled": true
   },
   "outputs": [
    {
     "name": "stdout",
     "output_type": "stream",
     "text": [
      "Transition from (0, 0) to (0, 0) = 1.5430008071201788\n",
      "Transition from (0, 0) to (1, 0) = 1.4267580082463718\n",
      "Transition from (0, 0) to (2, 0) = 1.00022809810135\n",
      "Transition from (0, 0) to (0, 1) = 0.19896096894585838\n",
      "Transition from (1, 0) to (0, 0) = 1.4267580082463718\n",
      "Transition from (1, 0) to (1, 0) = 1.8748049705539311\n",
      "Transition from (1, 0) to (2, 0) = 1.4659841430328655\n",
      "Transition from (1, 0) to (0, 1) = -0.3978645378094076\n",
      "Transition from (2, 0) to (0, 0) = 1.00022809810135\n",
      "Transition from (2, 0) to (1, 0) = 1.4659841430328655\n",
      "Transition from (2, 0) to (2, 0) = 2.176960597211224\n",
      "Transition from (2, 0) to (0, 1) = -1.5607486736064362\n",
      "Transition from (0, 1) to (0, 0) = 0.1989609689458584\n",
      "Transition from (0, 1) to (1, 0) = -0.3978645378094076\n",
      "Transition from (0, 1) to (2, 0) = -1.5607486736064364\n",
      "Transition from (0, 1) to (0, 1) = 2.5710683625588286\n"
     ]
    }
   ],
   "source": [
    "for i in e_level_index:\n",
    "    [\n",
    "        print(f\"Transition from {i} to {j} = {data_24.rad_matrix_element(i, j)}\") for j in e_level_index\n",
    "    ]"
   ]
  },
  {
   "cell_type": "code",
   "execution_count": 72,
   "metadata": {
    "execution": {
     "iopub.execute_input": "2020-10-22T15:43:25.182215Z",
     "iopub.status.busy": "2020-10-22T15:43:25.181911Z",
     "iopub.status.idle": "2020-10-22T15:43:25.186290Z",
     "shell.execute_reply": "2020-10-22T15:43:25.185589Z",
     "shell.execute_reply.started": "2020-10-22T15:43:25.182181Z"
    }
   },
   "outputs": [],
   "source": [
    "energy = np.linspace(0, 1, 500)\n",
    "energy_data = data_24.e_levels.values"
   ]
  },
  {
   "cell_type": "code",
   "execution_count": 73,
   "metadata": {
    "execution": {
     "iopub.execute_input": "2020-10-22T15:43:25.623511Z",
     "iopub.status.busy": "2020-10-22T15:43:25.623292Z",
     "iopub.status.idle": "2020-10-22T15:43:25.627438Z",
     "shell.execute_reply": "2020-10-22T15:43:25.626788Z",
     "shell.execute_reply.started": "2020-10-22T15:43:25.623486Z"
    }
   },
   "outputs": [
    {
     "name": "stdout",
     "output_type": "stream",
     "text": [
      "[[-1.38684114 -0.86937871 -0.25178691]\n",
      " [-0.06822032         nan         nan]]\n"
     ]
    }
   ],
   "source": [
    "print(energy_data)"
   ]
  },
  {
   "cell_type": "code",
   "execution_count": 74,
   "metadata": {
    "execution": {
     "iopub.execute_input": "2020-10-22T15:43:26.095967Z",
     "iopub.status.busy": "2020-10-22T15:43:26.095664Z",
     "iopub.status.idle": "2020-10-22T15:43:26.109425Z",
     "shell.execute_reply": "2020-10-22T15:43:26.108372Z",
     "shell.execute_reply.started": "2020-10-22T15:43:26.095931Z"
    }
   },
   "outputs": [],
   "source": [
    "e_0_1 = abs(energy_data[0,0] - energy_data[0,1])\n",
    "rad_elements = data_24.rad_matrix_element((0,0),(1,0))\n",
    "_, ang_elements = data_24.all_ang_matrix_elements(0,1)"
   ]
  },
  {
   "cell_type": "code",
   "execution_count": 75,
   "metadata": {
    "execution": {
     "iopub.execute_input": "2020-10-22T15:43:26.677789Z",
     "iopub.status.busy": "2020-10-22T15:43:26.677598Z",
     "iopub.status.idle": "2020-10-22T15:43:26.681150Z",
     "shell.execute_reply": "2020-10-22T15:43:26.680507Z",
     "shell.execute_reply.started": "2020-10-22T15:43:26.677767Z"
    }
   },
   "outputs": [],
   "source": [
    "absorption_1 = qd.absorption_ij(energy, e_0_1, rad_elements*ang_elements[:,np.newaxis], qd_density=density)"
   ]
  },
  {
   "cell_type": "code",
   "execution_count": 76,
   "metadata": {
    "execution": {
     "iopub.execute_input": "2020-10-22T15:43:27.128382Z",
     "iopub.status.busy": "2020-10-22T15:43:27.128097Z",
     "iopub.status.idle": "2020-10-22T15:43:27.249614Z",
     "shell.execute_reply": "2020-10-22T15:43:27.248975Z",
     "shell.execute_reply.started": "2020-10-22T15:43:27.128346Z"
    }
   },
   "outputs": [
    {
     "data": {
      "text/plain": [
       "[<matplotlib.lines.Line2D at 0x7ff2d76542d0>,\n",
       " <matplotlib.lines.Line2D at 0x7ff30521fe10>,\n",
       " <matplotlib.lines.Line2D at 0x7ff2d782b4d0>]"
      ]
     },
     "execution_count": 76,
     "metadata": {},
     "output_type": "execute_result"
    },
    {
     "data": {
      "image/png": "[encoded data removed]",
      "text/plain": [
       "<Figure size 432x288 with 1 Axes>"
      ]
     },
     "metadata": {
      "needs_background": "dark"
     },
     "output_type": "display_data"
    }
   ],
   "source": [
    "plt.plot(energy, absorption_1[0], energy, absorption_1[1], energy, absorption_1[2])"
   ]
  },
  {
   "cell_type": "code",
   "execution_count": 77,
   "metadata": {
    "execution": {
     "iopub.execute_input": "2020-10-22T15:43:27.764338Z",
     "iopub.status.busy": "2020-10-22T15:43:27.764071Z",
     "iopub.status.idle": "2020-10-22T15:43:27.784810Z",
     "shell.execute_reply": "2020-10-22T15:43:27.783888Z",
     "shell.execute_reply.started": "2020-10-22T15:43:27.764306Z"
    }
   },
   "outputs": [],
   "source": [
    "e_0_2 = abs(energy_data[0,1] - energy_data[0,2])\n",
    "rad_elements = data_24.rad_matrix_element((1,0),(2,0))\n",
    "_, ang_elements = data_24.all_ang_matrix_elements(1,2)\n",
    "absorption_2 = qd.absorption_ij(energy, e_0_2, rad_elements*ang_elements[:,np.newaxis], qd_density=density)"
   ]
  },
  {
   "cell_type": "code",
   "execution_count": 78,
   "metadata": {
    "execution": {
     "iopub.execute_input": "2020-10-22T15:43:28.407948Z",
     "iopub.status.busy": "2020-10-22T15:43:28.407667Z",
     "iopub.status.idle": "2020-10-22T15:43:28.508128Z",
     "shell.execute_reply": "2020-10-22T15:43:28.507479Z",
     "shell.execute_reply.started": "2020-10-22T15:43:28.407915Z"
    }
   },
   "outputs": [
    {
     "data": {
      "text/plain": [
       "[<matplotlib.lines.Line2D at 0x7ff2d7482e50>,\n",
       " <matplotlib.lines.Line2D at 0x7ff2d7482290>,\n",
       " <matplotlib.lines.Line2D at 0x7ff2d7482610>]"
      ]
     },
     "execution_count": 78,
     "metadata": {},
     "output_type": "execute_result"
    },
    {
     "data": {
      "image/png": "[encoded data removed]",
      "text/plain": [
       "<Figure size 432x288 with 1 Axes>"
      ]
     },
     "metadata": {
      "needs_background": "dark"
     },
     "output_type": "display_data"
    }
   ],
   "source": [
    "plt.plot(energy, absorption_2[0], energy, absorption_2[1], energy, absorption_2[2])"
   ]
  },
  {
   "cell_type": "code",
   "execution_count": 79,
   "metadata": {
    "execution": {
     "iopub.execute_input": "2020-10-22T15:43:28.958756Z",
     "iopub.status.busy": "2020-10-22T15:43:28.958457Z",
     "iopub.status.idle": "2020-10-22T15:43:28.968437Z",
     "shell.execute_reply": "2020-10-22T15:43:28.967803Z",
     "shell.execute_reply.started": "2020-10-22T15:43:28.958721Z"
    }
   },
   "outputs": [],
   "source": [
    "e_0_3 = abs(energy_data[0, 1] - energy_data[1, 0])\n",
    "rad_elements = data_24.rad_matrix_element((1, 0), (0, 1))\n",
    "_, ang_elements = data_24.all_ang_matrix_elements(0, 1)\n",
    "absorption_3 = qd.absorption_ij(energy, e_0_3, rad_elements*ang_elements[:,np.newaxis], qd_density=density)"
   ]
  },
  {
   "cell_type": "code",
   "execution_count": 80,
   "metadata": {
    "execution": {
     "iopub.execute_input": "2020-10-22T15:43:29.551412Z",
     "iopub.status.busy": "2020-10-22T15:43:29.551141Z",
     "iopub.status.idle": "2020-10-22T15:43:29.660375Z",
     "shell.execute_reply": "2020-10-22T15:43:29.659883Z",
     "shell.execute_reply.started": "2020-10-22T15:43:29.551380Z"
    }
   },
   "outputs": [
    {
     "data": {
      "text/plain": [
       "[<matplotlib.lines.Line2D at 0x7ff2d7555510>,\n",
       " <matplotlib.lines.Line2D at 0x7ff2d7627750>,\n",
       " <matplotlib.lines.Line2D at 0x7ff2d763a690>]"
      ]
     },
     "execution_count": 80,
     "metadata": {},
     "output_type": "execute_result"
    },
    {
     "data": {
      "image/png": "[encoded data removed]",
      "text/plain": [
       "<Figure size 432x288 with 1 Axes>"
      ]
     },
     "metadata": {
      "needs_background": "dark"
     },
     "output_type": "display_data"
    }
   ],
   "source": [
    "plt.plot(energy, absorption_3[0], energy, absorption_3[1], energy, absorption_3[2])"
   ]
  },
  {
   "cell_type": "code",
   "execution_count": 81,
   "metadata": {
    "execution": {
     "iopub.execute_input": "2020-10-22T15:43:30.332099Z",
     "iopub.status.busy": "2020-10-22T15:43:30.331809Z",
     "iopub.status.idle": "2020-10-22T15:43:30.342091Z",
     "shell.execute_reply": "2020-10-22T15:43:30.341559Z",
     "shell.execute_reply.started": "2020-10-22T15:43:30.332067Z"
    }
   },
   "outputs": [],
   "source": [
    "e_0_4 = abs(energy_data[0, 1] - energy_data[1, 0])\n",
    "rad_elements = data_24.rad_matrix_element((1, 0), (0, 1))\n",
    "_, ang_elements = data_24.all_ang_matrix_elements(1, 0)\n",
    "absorption_4 = qd.absorption_ij(energy, e_0_4, rad_elements*ang_elements[:,np.newaxis], qd_density=density)"
   ]
  },
  {
   "cell_type": "code",
   "execution_count": 82,
   "metadata": {
    "execution": {
     "iopub.execute_input": "2020-10-22T15:43:31.113053Z",
     "iopub.status.busy": "2020-10-22T15:43:31.112738Z",
     "iopub.status.idle": "2020-10-22T15:43:31.117317Z",
     "shell.execute_reply": "2020-10-22T15:43:31.116688Z",
     "shell.execute_reply.started": "2020-10-22T15:43:31.113000Z"
    }
   },
   "outputs": [],
   "source": [
    "total_abs_z = absorption_1[0] + absorption_2[0] + absorption_3[0]\n",
    "total_abs_left = absorption_1[1] + absorption_2[1] + absorption_3[1]"
   ]
  },
  {
   "cell_type": "code",
   "execution_count": 83,
   "metadata": {
    "execution": {
     "iopub.execute_input": "2020-10-22T15:43:31.734799Z",
     "iopub.status.busy": "2020-10-22T15:43:31.734533Z",
     "iopub.status.idle": "2020-10-22T15:43:31.837650Z",
     "shell.execute_reply": "2020-10-22T15:43:31.837162Z",
     "shell.execute_reply.started": "2020-10-22T15:43:31.734767Z"
    }
   },
   "outputs": [
    {
     "data": {
      "text/plain": [
       "[<matplotlib.lines.Line2D at 0x7ff2d7881250>]"
      ]
     },
     "execution_count": 83,
     "metadata": {},
     "output_type": "execute_result"
    },
    {
     "data": {
      "image/png": "[encoded data removed]",
      "text/plain": [
       "<Figure size 432x288 with 1 Axes>"
      ]
     },
     "metadata": {
      "needs_background": "dark"
     },
     "output_type": "display_data"
    }
   ],
   "source": [
    "plt.plot(energy, total_abs_z)"
   ]
  },
  {
   "cell_type": "code",
   "execution_count": 84,
   "metadata": {
    "execution": {
     "iopub.execute_input": "2020-10-22T15:43:34.585281Z",
     "iopub.status.busy": "2020-10-22T15:43:34.585009Z",
     "iopub.status.idle": "2020-10-22T15:43:34.590109Z",
     "shell.execute_reply": "2020-10-22T15:43:34.589492Z",
     "shell.execute_reply.started": "2020-10-22T15:43:34.585249Z"
    }
   },
   "outputs": [],
   "source": [
    "z_data_24 = { \n",
    "    \"Energy\": energy,\n",
    "    \"absorption1\": absorption_1[0],\n",
    "    \"absorption2\": absorption_2[0],\n",
    "    \"absorption3\": absorption_3[0],\n",
    "    \"total_absorption\": total_abs_z\n",
    "    }\n",
    "left_data_24 = { \n",
    "    \"Energy\": energy,\n",
    "    \"absorption1\": absorption_1[1],\n",
    "    \"absorption2\": absorption_2[1],\n",
    "    \"absorption3\": absorption_3[1],\n",
    "    \"total_absorption\": total_abs_left\n",
    "    }"
   ]
  },
  {
   "cell_type": "code",
   "execution_count": 85,
   "metadata": {
    "execution": {
     "iopub.execute_input": "2020-10-22T15:43:35.817268Z",
     "iopub.status.busy": "2020-10-22T15:43:35.817004Z",
     "iopub.status.idle": "2020-10-22T15:43:35.834574Z",
     "shell.execute_reply": "2020-10-22T15:43:35.834011Z",
     "shell.execute_reply.started": "2020-10-22T15:43:35.817236Z"
    }
   },
   "outputs": [],
   "source": [
    "pd.DataFrame(z_data_24).to_csv(\"Absorption_z_24_19.csv\", index=False, sep=\" \")\n",
    "pd.DataFrame(left_data_24).to_csv(\"Absorption_left_24_19.csv\", index=False, sep=\" \")"
   ]
  },
  {
   "cell_type": "markdown",
   "metadata": {
    "execution": {
     "iopub.execute_input": "2020-10-15T13:47:43.964353Z",
     "iopub.status.busy": "2020-10-15T13:47:43.964054Z",
     "iopub.status.idle": "2020-10-15T13:47:43.967086Z",
     "shell.execute_reply": "2020-10-15T13:47:43.966648Z",
     "shell.execute_reply.started": "2020-10-15T13:47:43.964317Z"
    }
   },
   "source": [
    "# Calculate levels for 1.55 eV"
   ]
  },
  {
   "cell_type": "markdown",
   "metadata": {},
   "source": [
    "## 1.6 nm and 1,15 eV"
   ]
  },
  {
   "cell_type": "code",
   "execution_count": 52,
   "metadata": {
    "execution": {
     "iopub.execute_input": "2020-10-21T10:18:16.529060Z",
     "iopub.status.busy": "2020-10-21T10:18:16.528766Z",
     "iopub.status.idle": "2020-10-21T10:18:16.532763Z",
     "shell.execute_reply": "2020-10-21T10:18:16.532309Z",
     "shell.execute_reply.started": "2020-10-21T10:18:16.529028Z"
    }
   },
   "outputs": [],
   "source": [
    "a, V0, m1, m2 = 1.6, 1.15, 0.08, 0.08\n",
    "density = (np.pi/6, np.pi/6, np.pi/6)"
   ]
  },
  {
   "cell_type": "code",
   "execution_count": 53,
   "metadata": {
    "execution": {
     "iopub.execute_input": "2020-10-21T10:18:16.857981Z",
     "iopub.status.busy": "2020-10-21T10:18:16.857666Z",
     "iopub.status.idle": "2020-10-21T10:18:16.872652Z",
     "shell.execute_reply": "2020-10-21T10:18:16.871946Z",
     "shell.execute_reply.started": "2020-10-21T10:18:16.857945Z"
    }
   },
   "outputs": [],
   "source": [
    "data_16_155 = qd.qd_results(a, V0, m1, m2)"
   ]
  },
  {
   "cell_type": "code",
   "execution_count": 54,
   "metadata": {
    "execution": {
     "iopub.execute_input": "2020-10-21T10:18:17.541391Z",
     "iopub.status.busy": "2020-10-21T10:18:17.541105Z",
     "iopub.status.idle": "2020-10-21T10:18:17.548372Z",
     "shell.execute_reply": "2020-10-21T10:18:17.547527Z",
     "shell.execute_reply.started": "2020-10-21T10:18:17.541357Z"
    }
   },
   "outputs": [
    {
     "data": {
      "text/html": [
       "<div>\n",
       "<style scoped>\n",
       "    .dataframe tbody tr th:only-of-type {\n",
       "        vertical-align: middle;\n",
       "    }\n",
       "\n",
       "    .dataframe tbody tr th {\n",
       "        vertical-align: top;\n",
       "    }\n",
       "\n",
       "    .dataframe thead th {\n",
       "        text-align: right;\n",
       "    }\n",
       "</style>\n",
       "<table border=\"1\" class=\"dataframe\">\n",
       "  <thead>\n",
       "    <tr style=\"text-align: right;\">\n",
       "      <th></th>\n",
       "      <th>l0</th>\n",
       "    </tr>\n",
       "  </thead>\n",
       "  <tbody>\n",
       "    <tr>\n",
       "      <th>0</th>\n",
       "      <td>-0.31367</td>\n",
       "    </tr>\n",
       "  </tbody>\n",
       "</table>\n",
       "</div>"
      ],
      "text/plain": [
       "        l0\n",
       "0 -0.31367"
      ]
     },
     "execution_count": 54,
     "metadata": {},
     "output_type": "execute_result"
    }
   ],
   "source": [
    "data_16_155.e_levels"
   ]
  },
  {
   "cell_type": "markdown",
   "metadata": {},
   "source": [
    "## 2.4 nm"
   ]
  },
  {
   "cell_type": "code",
   "execution_count": 56,
   "metadata": {
    "execution": {
     "iopub.execute_input": "2020-10-22T15:12:56.215692Z",
     "iopub.status.busy": "2020-10-22T15:12:56.215420Z",
     "iopub.status.idle": "2020-10-22T15:12:56.219505Z",
     "shell.execute_reply": "2020-10-22T15:12:56.218904Z",
     "shell.execute_reply.started": "2020-10-22T15:12:56.215659Z"
    }
   },
   "outputs": [],
   "source": [
    "a, V0, m1, m2 = 2.5, 1.15, 0.08, 0.08\n",
    "density = (np.pi/6, np.pi/6, np.pi/6)"
   ]
  },
  {
   "cell_type": "code",
   "execution_count": 57,
   "metadata": {
    "execution": {
     "iopub.execute_input": "2020-10-22T15:12:56.679339Z",
     "iopub.status.busy": "2020-10-22T15:12:56.679070Z",
     "iopub.status.idle": "2020-10-22T15:12:56.705395Z",
     "shell.execute_reply": "2020-10-22T15:12:56.704765Z",
     "shell.execute_reply.started": "2020-10-22T15:12:56.679307Z"
    }
   },
   "outputs": [],
   "source": [
    "data_24_115 = qd.qd_results(a, V0, m1, m2)"
   ]
  },
  {
   "cell_type": "code",
   "execution_count": 58,
   "metadata": {
    "execution": {
     "iopub.execute_input": "2020-10-22T15:12:57.312110Z",
     "iopub.status.busy": "2020-10-22T15:12:57.311826Z",
     "iopub.status.idle": "2020-10-22T15:12:57.318870Z",
     "shell.execute_reply": "2020-10-22T15:12:57.318185Z",
     "shell.execute_reply.started": "2020-10-22T15:12:57.312077Z"
    }
   },
   "outputs": [
    {
     "data": {
      "text/html": [
       "<div>\n",
       "<style scoped>\n",
       "    .dataframe tbody tr th:only-of-type {\n",
       "        vertical-align: middle;\n",
       "    }\n",
       "\n",
       "    .dataframe tbody tr th {\n",
       "        vertical-align: top;\n",
       "    }\n",
       "\n",
       "    .dataframe thead th {\n",
       "        text-align: right;\n",
       "    }\n",
       "</style>\n",
       "<table border=\"1\" class=\"dataframe\">\n",
       "  <thead>\n",
       "    <tr style=\"text-align: right;\">\n",
       "      <th></th>\n",
       "      <th>l0</th>\n",
       "      <th>l1</th>\n",
       "    </tr>\n",
       "  </thead>\n",
       "  <tbody>\n",
       "    <tr>\n",
       "      <th>0</th>\n",
       "      <td>-0.690038</td>\n",
       "      <td>-0.248331</td>\n",
       "    </tr>\n",
       "  </tbody>\n",
       "</table>\n",
       "</div>"
      ],
      "text/plain": [
       "         l0        l1\n",
       "0 -0.690038 -0.248331"
      ]
     },
     "execution_count": 58,
     "metadata": {},
     "output_type": "execute_result"
    }
   ],
   "source": [
    "data_24_115.e_levels"
   ]
  },
  {
   "cell_type": "code",
   "execution_count": 59,
   "metadata": {
    "execution": {
     "iopub.execute_input": "2020-10-22T15:13:09.671322Z",
     "iopub.status.busy": "2020-10-22T15:13:09.671047Z",
     "iopub.status.idle": "2020-10-22T15:13:09.679672Z",
     "shell.execute_reply": "2020-10-22T15:13:09.679177Z",
     "shell.execute_reply.started": "2020-10-22T15:13:09.671290Z"
    }
   },
   "outputs": [
    {
     "name": "stdout",
     "output_type": "stream",
     "text": [
      "\n",
      "1.665380054331275\n",
      "1.3200387948821706\n",
      "\n"
     ]
    }
   ],
   "source": [
    "print(f\"\"\"\n",
    "{data_24_115.rad_matrix_element((0,0),(0,0))}\n",
    "{data_24_115.rad_matrix_element((0,0),(1,0))}\n",
    "\"\"\")"
   ]
  },
  {
   "cell_type": "code",
   "execution_count": 60,
   "metadata": {
    "execution": {
     "iopub.execute_input": "2020-10-22T15:13:10.027967Z",
     "iopub.status.busy": "2020-10-22T15:13:10.027668Z",
     "iopub.status.idle": "2020-10-22T15:13:10.036679Z",
     "shell.execute_reply": "2020-10-22T15:13:10.036161Z",
     "shell.execute_reply.started": "2020-10-22T15:13:10.027932Z"
    }
   },
   "outputs": [
    {
     "name": "stdout",
     "output_type": "stream",
     "text": [
      "\n",
      "Ep_z, Ep_left, Ep_right--\n",
      "li = 0, lf = 0\n",
      "(array([[[0., 0., 0.]]]), array([0., 0., 0.]))\n",
      "\n",
      "li = 0, lf = 1\n",
      "(array([[[0.        , 0.40824829, 0.        ]],\n",
      "\n",
      "       [[0.57735027, 0.        , 0.        ]],\n",
      "\n",
      "       [[0.        , 0.        , 0.40824829]]]), array([0.57735027, 0.40824829, 0.40824829]))\n",
      "\n",
      "\n"
     ]
    }
   ],
   "source": [
    "print(f\"\"\"\n",
    "Ep_z, Ep_left, Ep_right--\n",
    "li = 0, lf = 0\n",
    "{data_24_115.all_ang_matrix_elements(0,0)}\\n\n",
    "li = 0, lf = 1\n",
    "{data_24_115.all_ang_matrix_elements(0,1)}\\n\n",
    "\"\"\")"
   ]
  },
  {
   "cell_type": "code",
   "execution_count": 61,
   "metadata": {
    "execution": {
     "iopub.execute_input": "2020-10-22T15:13:10.486429Z",
     "iopub.status.busy": "2020-10-22T15:13:10.486162Z",
     "iopub.status.idle": "2020-10-22T15:13:10.490793Z",
     "shell.execute_reply": "2020-10-22T15:13:10.490105Z",
     "shell.execute_reply.started": "2020-10-22T15:13:10.486397Z"
    }
   },
   "outputs": [],
   "source": [
    "energy = np.linspace(0,1.5,500)\n",
    "energies = data_24_115.e_levels.values\n",
    "density = (np.pi/6, np.pi/6, np.pi/6)"
   ]
  },
  {
   "cell_type": "code",
   "execution_count": 62,
   "metadata": {
    "execution": {
     "iopub.execute_input": "2020-10-22T15:13:11.158333Z",
     "iopub.status.busy": "2020-10-22T15:13:11.158034Z",
     "iopub.status.idle": "2020-10-22T15:13:11.168671Z",
     "shell.execute_reply": "2020-10-22T15:13:11.168004Z",
     "shell.execute_reply.started": "2020-10-22T15:13:11.158298Z"
    }
   },
   "outputs": [],
   "source": [
    "e_0_1 = abs(energies[0,0] - energies[0,1])\n",
    "rad_elements = data_24_115.rad_matrix_element((0,0),(1,0))\n",
    "_, ang_elements = data_24_115.all_ang_matrix_elements(0,1)\n",
    "absorption_1 = qd.absorption_ij(energy, e_0_1, rad_elements*ang_elements[:,np.newaxis], qd_density=density)"
   ]
  },
  {
   "cell_type": "code",
   "execution_count": 63,
   "metadata": {
    "execution": {
     "iopub.execute_input": "2020-10-22T15:13:11.555505Z",
     "iopub.status.busy": "2020-10-22T15:13:11.555217Z",
     "iopub.status.idle": "2020-10-22T15:13:11.666564Z",
     "shell.execute_reply": "2020-10-22T15:13:11.665826Z",
     "shell.execute_reply.started": "2020-10-22T15:13:11.555471Z"
    }
   },
   "outputs": [
    {
     "data": {
      "text/plain": [
       "[<matplotlib.lines.Line2D at 0x7ff2d631b110>,\n",
       " <matplotlib.lines.Line2D at 0x7ff2d631be50>,\n",
       " <matplotlib.lines.Line2D at 0x7ff2d631b150>]"
      ]
     },
     "execution_count": 63,
     "metadata": {},
     "output_type": "execute_result"
    },
    {
     "data": {
      "image/png": "[encoded data removed]",
      "text/plain": [
       "<Figure size 432x288 with 1 Axes>"
      ]
     },
     "metadata": {
      "needs_background": "dark"
     },
     "output_type": "display_data"
    }
   ],
   "source": [
    "plt.plot(energy, absorption_1[0], energy, absorption_1[1], energy, absorption_1[2])"
   ]
  },
  {
   "cell_type": "code",
   "execution_count": 64,
   "metadata": {
    "execution": {
     "iopub.execute_input": "2020-10-22T15:13:11.989136Z",
     "iopub.status.busy": "2020-10-22T15:13:11.988818Z",
     "iopub.status.idle": "2020-10-22T15:13:12.000154Z",
     "shell.execute_reply": "2020-10-22T15:13:11.999634Z",
     "shell.execute_reply.started": "2020-10-22T15:13:11.989101Z"
    }
   },
   "outputs": [],
   "source": [
    "data_24_115_dict_z = {\"Energy\": energy, \"abs1\": absorption_1[0]}\n",
    "data_24_115_dict_left = {\"Energy\": energy, \"abs1\": absorption_1[1]}\n",
    "pd.DataFrame(data_24_115_dict_z).to_csv(\"Absorption_z_24_nm_115.csv\", index=False, sep=\" \")\n",
    "pd.DataFrame(data_24_115_dict_left).to_csv(\"Absorption_left_24nm_115.csv\", index=False, sep=\" \")"
   ]
  },
  {
   "cell_type": "code",
   "execution_count": null,
   "metadata": {},
   "outputs": [],
   "source": []
  }
 ],
 "metadata": {
  "kernelspec": {
   "display_name": "Python 3",
   "language": "python",
   "name": "python3"
  },
  "language_info": {
   "codemirror_mode": {
    "name": "ipython",
    "version": 3
   },
   "file_extension": ".py",
   "mimetype": "text/x-python",
   "name": "python",
   "nbconvert_exporter": "python",
   "pygments_lexer": "ipython3",
   "version": "3.8.10"
  },
  "latex_envs": {
   "LaTeX_envs_menu_present": true,
   "autoclose": false,
   "autocomplete": true,
   "bibliofile": "biblio.bib",
   "cite_by": "apalike",
   "current_citInitial": 1,
   "eqLabelWithNumbers": true,
   "eqNumInitial": 1,
   "hotkeys": {
    "equation": "Ctrl-E",
    "itemize": "Ctrl-I"
   },
   "labels_anchors": false,
   "latex_user_defs": false,
   "report_style_numbering": false,
   "user_envs_cfg": false
  },
  "toc": {
   "base_numbering": 1,
   "nav_menu": {},
   "number_sections": true,
   "sideBar": true,
   "skip_h1_title": false,
   "title_cell": "Table of Contents",
   "title_sidebar": "Contents",
   "toc_cell": false,
   "toc_position": {},
   "toc_section_display": true,
   "toc_window_display": false
  },
  "varInspector": {
   "cols": {
    "lenName": 16,
    "lenType": 16,
    "lenVar": 40
   },
   "kernels_config": {
    "python": {
     "delete_cmd_postfix": "",
     "delete_cmd_prefix": "del ",
     "library": "var_list.py",
     "varRefreshCmd": "print(var_dic_list())"
    },
    "r": {
     "delete_cmd_postfix": ") ",
     "delete_cmd_prefix": "rm(",
     "library": "var_list.r",
     "varRefreshCmd": "cat(var_dic_list()) "
    }
   },
   "types_to_exclude": [
    "module",
    "function",
    "builtin_function_or_method",
    "instance",
    "_Feature"
   ],
   "window_display": false
  }
 },
 "nbformat": 4,
 "nbformat_minor": 4
}
