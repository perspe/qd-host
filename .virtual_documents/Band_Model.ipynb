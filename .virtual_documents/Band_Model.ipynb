from band_model import qd_base_data as qbd
from scipy import special
import matplotlib.pyplot as plt
import matplotlib.cm as cm
import numpy as np
import pandas as pd
import h5py
import importlib
from itertools import product
get_ipython().run_line_magic("matplotlib", " inline")


qd_wavefunction = qbd.qd_results(3, 1.9, 0.08, 0.08, "CB1")


qd_wavefunction.e_levels


#angular momentum value
l = 2
#index of the energy level
k = 0
#z angular momentum
m = 1

#Calculate the radial part of the wavefunction
r,f_r = qd_wavefunction.norm_radial_wavefunction(l,k)
phi = np.linspace(0,2*np.pi,100)
#Angular part of the wavefunction
y_lm = np.absolute(special.sph_harm(m,l,0,phi))**2
#Combine both radial and angular parts
psi = np.array([y_lm*f_r_i for f_r_i in f_r])

#actual plotting
ax = plt.subplot(111, polar=True)
ctf = ax.contourf(phi,r,psi, cmap=cm.jet)


# l/m/n values
l = 3
m = 0
n = 0
n_points = 50
x = np.linspace(-5, 5, n_points)
y = np.linspace(-5, 5, n_points)
z = np.linspace(-5, 5, n_points)
XX, YY, ZZ, norm_wavefunction = qd_wavefunction.norm_wavefunction(x, y, z, l, m, n)
print("Normalization")
print(np.sum(np.abs(norm_wavefunction)**2)*(x[1]-x[0])**3)
fig, ax = plt.subplots(figsize=(6, 6))
ax.contourf(XX[:, :, int(n_points/2)], ZZ[int(n_points/2)].T, np.abs(norm_wavefunction[:, int(n_points/2), :])**2, cmap=cm.jet)
plt.show()
# Export Results
exp_data = {"X": XX.flatten(), "Y": YY.flatten(), "Z": ZZ.flatten(), "env": (np.abs(norm_wavefunction)**2).flatten()}
exp_df = pd.DataFrame(exp_data)
exp_df.to_csv(f"wavefunction_{l}_{m}_{n}.csv", index=False)


XX_env, YY_env, ZZ_env, envolute, t_matrix = qd_wavefunction.norm_envolute(10, 0.2, "L6mb", 0, 0, 1, 2.5, (1e-25, 1e-25))


# l/m/n values
fig, ax = plt.subplots(figsize=(6, 6))
ax.contourf(XX_env[:, :, 50], ZZ_env[50].T, np.abs(envolute[:, 50])**2, cmap=cm.jet)
plt.show()


# Setup parameters
sim_size = 10
lat_size = 0.2
l = 2
m = 1
n = 0
Eg = 2.2
P = (1e-25, 1e-25)
# Guarantee normalization for the CB
qd_wavefunction_cb = qbd.qd_results(3, 1.9, 0.08, 0.08, "CB1")
XX_env_S, YY_env_S, ZZ_env_S, envolute_S, t_matrix_S = qd_wavefunction_cb.norm_envolute(sim_size, lat_size, "L6mt", l, m, n, Eg, P)
XX_env_Y, YY_env_Y, ZZ_env_Y, envolute_Y, t_matrix_Y = qd_wavefunction_cb.norm_envolute(sim_size, lat_size, "L6mb", l, m, n, Eg, P)
XX_env_X, YY_env_X, ZZ_env_X, envolute_X, t_matrix_X = qd_wavefunction_cb.norm_envolute(sim_size, lat_size, "L6pt", l, m, n, Eg, P)
XX_env_Z, YY_env_Z, ZZ_env_Z, envolute_Z, t_matrix_Z = qd_wavefunction_cb.norm_envolute(sim_size, lat_size, "L6pb", l, m, n, Eg, P)
envolutes_cb = [envolute_S, envolute_Y, envolute_X, envolute_Z]
norm_factor = 0
for envolute in envolutes_cb:
    norm_factor += np.sum(np.abs(envolute)**2)*(lat_size)**3
print("CB1 Normalization\n", norm_factor)

# Normalization for Light Holes
norm_factor = 0
qd_wavefunction_lh = qbd.qd_results(3, 1.9, 0.08, 0.08, "CB2")
XX_env_S, YY_env_S, ZZ_env_S, envolute_S, t_matrix_S = qd_wavefunction_cb.norm_envolute(sim_size, lat_size, "L6mt", l, m, n, Eg, P)
XX_env_Y, YY_env_Y, ZZ_env_Y, envolute_Y, t_matrix_Y = qd_wavefunction_cb.norm_envolute(sim_size, lat_size, "L6mb", l, m, n, Eg, P)
XX_env_X, YY_env_X, ZZ_env_X, envolute_X, t_matrix_X = qd_wavefunction_cb.norm_envolute(sim_size, lat_size, "L6pt", l, m, n, Eg, P)
XX_env_Z, YY_env_Z, ZZ_env_Z, envolute_Z, t_matrix_Z = qd_wavefunction_cb.norm_envolute(sim_size, lat_size, "L6pb", l, m, n, Eg, P)
envolutes_lh = [envolute_S, envolute_Y, envolute_X, envolute_Z]
norm_factor = 0
for envolute in envolutes_lh:
    norm_factor += np.sum(np.abs(envolute)**2)*(lat_size)**3
print("CB2 Normalization\n", norm_factor)

# Normalization for Heavy Holes
norm_factor = 0
qd_wavefunction_hh = qbd.qd_results(3, 1.9, 0.08, 0.08, "VB1")
XX_env_S, YY_env_S, ZZ_env_S, envolute_S, t_matrix_S = qd_wavefunction_cb.norm_envolute(sim_size, lat_size, "L6mt", l, m, n, Eg, P)
XX_env_Y, YY_env_Y, ZZ_env_Y, envolute_Y, t_matrix_Y = qd_wavefunction_cb.norm_envolute(sim_size, lat_size, "L6mb", l, m, n, Eg, P)
XX_env_X, YY_env_X, ZZ_env_X, envolute_X, t_matrix_X = qd_wavefunction_cb.norm_envolute(sim_size, lat_size, "L6pt", l, m, n, Eg, P)
XX_env_Z, YY_env_Z, ZZ_env_Z, envolute_Z, t_matrix_Z = qd_wavefunction_cb.norm_envolute(sim_size, lat_size, "L6pb", l, m, n, Eg, P)
envolutes_hh = [envolute_S, envolute_Y, envolute_X, envolute_Z]
norm_factor = 0
for envolute in envolutes_hh:
    norm_factor += np.sum(np.abs(envolute)**2)*(lat_size)**3
print("VB1 Normalization\n", norm_factor)

norm_factor = 0
qd_wavefunction_so = qbd.qd_results(3, 1.9, 0.08, 0.08, "VB2")
XX_env_S, YY_env_S, ZZ_env_S, envolute_S, t_matrix_S = qd_wavefunction_cb.norm_envolute(sim_size, lat_size, "L6mt", l, m, n, Eg, P)
XX_env_Y, YY_env_Y, ZZ_env_Y, envolute_Y, t_matrix_Y = qd_wavefunction_cb.norm_envolute(sim_size, lat_size, "L6mb", l, m, n, Eg, P)
XX_env_X, YY_env_X, ZZ_env_X, envolute_X, t_matrix_X = qd_wavefunction_cb.norm_envolute(sim_size, lat_size, "L6pt", l, m, n, Eg, P)
XX_env_Z, YY_env_Z, ZZ_env_Z, envolute_Z, t_matrix_Z = qd_wavefunction_cb.norm_envolute(sim_size, lat_size, "L6pb", l, m, n, Eg, P)
envolutes_so = [envolute_S, envolute_Y, envolute_X, envolute_Z]
norm_factor = 0
for envolute in envolutes_so:
    norm_factor += np.sum(np.abs(envolute)**2)*(lat_size)**3
print("VB2 Normalization\n", norm_factor)


# Setup parameters
sim_size = 10
lat_size = 0.15
l = 2
m = 0
n = 0
Eg = 1.42
P = (1e-25, 1e-25)
center = int(sim_size/lat_size/2)
print(center)


# Guarantee normalization for the CB
qd_wavefunction = qbd.qd_results(3, 1.9, 0.08, 0.08, "CB1")
XX_env_S, YY_env_S, ZZ_env_S, envolute_S, t_matrix_S = qd_wavefunction.norm_envolute(sim_size, lat_size, "L6mt", l, m, n, Eg, P)
XX_env_Y, YY_env_Y, ZZ_env_Y, envolute_Y, t_matrix_Y = qd_wavefunction.norm_envolute(sim_size, lat_size, "L6mb", l, m, n, Eg, P)
XX_env_X, YY_env_X, ZZ_env_X, envolute_X, t_matrix_X = qd_wavefunction.norm_envolute(sim_size, lat_size, "L6pt", l, m, n, Eg, P)
XX_env_Z, YY_env_Z, ZZ_env_Z, envolute_Z, t_matrix_Z = qd_wavefunction.norm_envolute(sim_size, lat_size, "L6pb", l, m, n, Eg, P)

fig, ax = plt.subplots(figsize=(13, 13), ncols=2, nrows=2)
ax[0, 0].contourf(XX_env_S[:, :, center], ZZ_env_S[center].T, np.abs(envolute_S[:, center, :])**2, cmap=cm.jet)
ax[0, 0].set_title("L6mt envolute")
ax[1, 0].contourf(XX_env_Y[:, :, center], ZZ_env_Y[center].T, np.abs(envolute_Y[:, center, :])**2, cmap=cm.jet)
ax[1, 0].set_title("L6mb envolute")
ax[0, 1].contourf(XX_env_X[:, :, center], ZZ_env_X[center].T, np.abs(envolute_X[:, center, :])**2, cmap=cm.jet)
ax[0, 1].set_title("L6pt envolute")
ax[1, 1].contourf(XX_env_Z[:, :, center], ZZ_env_Z[center].T, np.abs(envolute_Z[:, center, :])**2, cmap=cm.jet)
ax[1, 1].set_title("L6pb envolute")
plt.show()


# Guarantee normalization for the CB
qd_wavefunction = qbd.qd_results(3, 1.9, 0.08, 0.08, "CB2")
XX_env_S, YY_env_S, ZZ_env_S, envolute_S, t_matrix_S = qd_wavefunction.norm_envolute(sim_size, lat_size, "L6mt", l, m, n, Eg, P)
XX_env_Y, YY_env_Y, ZZ_env_Y, envolute_Y, t_matrix_Y = qd_wavefunction.norm_envolute(sim_size, lat_size, "L6mb", l, m, n, Eg, P)
XX_env_X, YY_env_X, ZZ_env_X, envolute_X, t_matrix_X = qd_wavefunction.norm_envolute(sim_size, lat_size, "L6pt", l, m, n, Eg, P)
XX_env_Z, YY_env_Z, ZZ_env_Z, envolute_Z, t_matrix_Z = qd_wavefunction.norm_envolute(sim_size, lat_size, "L6pb", l, m, n, Eg, P)

fig, ax = plt.subplots(figsize=(13, 13), ncols=2, nrows=2)
ax[0, 0].contourf(XX_env_S[:, :, center], ZZ_env_S[center].T, np.abs(envolute_S[:, center, :])**2, cmap=cm.jet)
ax[0, 0].set_title("L6mt envolute")
ax[1, 0].contourf(XX_env_Y[:, :, center], ZZ_env_Y[center].T, np.abs(envolute_Y[:, center, :])**2, cmap=cm.jet)
ax[1, 0].set_title("L6mb envolute")
ax[0, 1].contourf(XX_env_X[:, :, center], ZZ_env_X[center].T, np.abs(envolute_X[:, center, :])**2, cmap=cm.jet)
ax[0, 1].set_title("L6pt envolute")
ax[1, 1].contourf(XX_env_Z[:, :, center], ZZ_env_Z[center].T, np.abs(envolute_Z[:, center, :])**2, cmap=cm.jet)
ax[1, 1].set_title("L6pb envolute")
plt.show()


# Guarantee normalization for the CB
qd_wavefunction = qbd.qd_results(3, 1.9, 0.08, 0.08, "VB1")
XX_env_S, YY_env_S, ZZ_env_S, envolute_S, t_matrix_S = qd_wavefunction.norm_envolute(sim_size, lat_size, "L6mt", l, m, n, Eg, P)
XX_env_Y, YY_env_Y, ZZ_env_Y, envolute_Y, t_matrix_Y = qd_wavefunction.norm_envolute(sim_size, lat_size, "L6mb", l, m, n, Eg, P)
XX_env_X, YY_env_X, ZZ_env_X, envolute_X, t_matrix_X = qd_wavefunction.norm_envolute(sim_size, lat_size, "L6pt", l, m, n, Eg, P)
XX_env_Z, YY_env_Z, ZZ_env_Z, envolute_Z, t_matrix_Z = qd_wavefunction.norm_envolute(sim_size, lat_size, "L6pb", l, m, n, Eg, P)

fig, ax = plt.subplots(figsize=(13, 13), ncols=2, nrows=2)
ax[0, 0].contourf(XX_env_S[:, :, center], ZZ_env_S[center].T, np.abs(envolute_S[:, center, :])**2, cmap=cm.jet)
ax[0, 0].set_title("L6mt envolute")
ax[1, 0].contourf(XX_env_Y[:, :, center], ZZ_env_Y[center].T, np.abs(envolute_Y[:, center, :])**2, cmap=cm.jet)
ax[1, 0].set_title("L6mb envolute")
ax[0, 1].contourf(XX_env_X[:, :, center], ZZ_env_X[center].T, np.abs(envolute_X[:, center, :])**2, cmap=cm.jet)
ax[0, 1].set_title("L6pt envolute")
ax[1, 1].contourf(XX_env_Z[:, :, center], ZZ_env_Z[center].T, np.abs(envolute_Z[:, center, :])**2, cmap=cm.jet)
ax[1, 1].set_title("L6pb envolute")
plt.show()


# Guarantee normalization for the CB
qd_wavefunction = qbd.qd_results(3, 1.9, 0.08, 0.08, "VB2")
XX_env_S, YY_env_S, ZZ_env_S, envolute_S, t_matrix_S = qd_wavefunction.norm_envolute(sim_size, lat_size, "L6mt", l, m, n, Eg, P)
XX_env_Y, YY_env_Y, ZZ_env_Y, envolute_Y, t_matrix_Y = qd_wavefunction.norm_envolute(sim_size, lat_size, "L6mb", l, m, n, Eg, P)
XX_env_X, YY_env_X, ZZ_env_X, envolute_X, t_matrix_X = qd_wavefunction.norm_envolute(sim_size, lat_size, "L6pt", l, m, n, Eg, P)
XX_env_Z, YY_env_Z, ZZ_env_Z, envolute_Z, t_matrix_Z = qd_wavefunction.norm_envolute(sim_size, lat_size, "L6pb", l, m, n, Eg, P)

fig, ax = plt.subplots(figsize=(13, 13), ncols=2, nrows=2)
ax[0, 0].contourf(XX_env_S[:, :, center], ZZ_env_S[center].T, np.abs(envolute_S[:, center, :])**2, cmap=cm.jet)
ax[0, 0].set_title("L6mt envolute")
ax[1, 0].contourf(XX_env_Y[:, :, center], ZZ_env_Y[center].T, np.abs(envolute_Y[:, center, :])**2, cmap=cm.jet)
ax[1, 0].set_title("L6mb envolute")
ax[0, 1].contourf(XX_env_X[:, :, center], ZZ_env_X[center].T, np.abs(envolute_X[:, center, :])**2, cmap=cm.jet)
ax[0, 1].set_title("L6pt envolute")
ax[1, 1].contourf(XX_env_Z[:, :, center], ZZ_env_Z[center].T, np.abs(envolute_Z[:, center, :])**2, cmap=cm.jet)
ax[1, 1].set_title("L6pb envolute")
plt.show()


sim_size = 15
lat_size = 0.3
l = 3
m = 0
n = 0
Eg = 2.5
P = (1e-25, 1e-25)
env = "L6mt"
band = "CB1"
center = int(sim_size/lat_size/2)
print(center)
qd_wavefunction = qbd.qd_results(3, 1.9, 0.08, 0.08, band)
XX_env_S, YY_env_S, ZZ_env_S, envolute_S, t_matrix_S = qd_wavefunction.norm_envolute(sim_size, lat_size, env, l, m, n, Eg, P)
fig, ax = plt.subplots(figsize=(13, 13))
ax.contourf(XX_env_S[:, :, center], ZZ_env_S[center].T, np.abs(envolute_S[10])**2, cmap=cm.jet)
ax.set_title("L6mt envolute")
plt.show()
exp_data = {"X": XX_env_S.flatten(), "Y": YY_env_S.flatten(), "Z": ZZ_env_S.flatten(), "env": (np.abs(envolute_S)**2).flatten()}
exp_df = pd.DataFrame(exp_data)
exp_df.to_csv(f"{env}_envolute_{l}_{m}_{n}_{band}.csv", index=False)


from pyevtk.hl import gridToVTK


x = np.arange(-sim_size, sim_size, lat_size)
gridToVTK("./test", x, x, x, pointData = {'QD': np.log10(np.abs(envolute_S)**2)})


def envolute_matrix_element(qd_i, e_i, qd_f, e_f, sim_properties):
    """
    Determines the envolute matrix elements between qd_1 and qd_2
    """
    # assert qd_i.band != qd_f.band, "Bands should be different"
    envolutes = ["L6mt", "L6mb", "L6pt", "L6pb"]
    sim_size, lat_size, Eg, P = sim_properties
    ni, li = e_i
    nf, lf = e_f
    Mx_array = []
    My_array = []
    Mz_array = []
    # Define the iterator from the input values
    if li != 0 and lf != 0:
        iterator = product(range(-li, li + 1), range(-lf, lf + 1))
    elif li == 0 and lf != 0:
        iterator = product([0], range(-lf, lf + 1))
    elif li != 0 and lf == 0:
        iterator = product(range(-li, li + 1), [0])
    else:
        iterator = zip([0], [0])
    # Loop through all possible m value combinations
    for m_i_i, m_f_i in iterator:
        # print("Calculating....")
        # print(m_i_i, m_f_i)
        # Calculate the matrix element for transition between 2 elements (for a specific m value)
        # This element is determined from the sum of the elements from the 4 envolutes
        Mx, My, Mz = 0, 0, 0
        for envolute in envolutes:
            XX, YY, ZZ, env_i, _ = qd_i.norm_envolute(sim_size, lat_size, envolute, li, m_i_i, ni, Eg, P)
            _, _, _, env_f, _ = qd_f.norm_envolute(sim_size, lat_size, envolute, lf, m_f_i, nf, Eg, P)
            # Function integration
            Mx += np.sum(env_i * XX * np.conjugate(env_f)) * lat_size ** 3
            My += np.sum(env_i * YY * np.conjugate(env_f)) * lat_size ** 3
            Mz += np.sum(env_i * ZZ * np.conjugate(env_f)) * lat_size ** 3
        # Determine the matrix element from n1, l1, m1 to n2, l2, m2
        Mx_array.append(np.abs(Mx))
        My_array.append(np.abs(My))
        Mz_array.append(np.abs(Mz))
    # Put all Mx/My/Mz values under 1e-7 to 0
    Mx_array = np.array(Mx_array)
    My_array = np.array(My_array)
    Mz_array = np.array(Mz_array)
    # print("Mx Values", Mx_array, "My_values", My_array, "Mz Values", Mz_array, sep="\n")
    # Obtain the mean of the non-zero values
    # Create a mask for the weigths
    mx_zeros = Mx_array > 10e-5
    my_zeros = My_array > 10e-5
    mz_zeros = Mz_array > 10e-5
    # Check if the mask does not sum to 0 and determine the average
    if True in mx_zeros:
        Mx_final = np.average(Mx_array, weights=mx_zeros)
    else:
        Mx_final = 0
    if True in my_zeros:
        My_final = np.average(My_array, weights=my_zeros)
    else:
        My_final = 0
    if True in mz_zeros:
        Mz_final = np.average(Mz_array, weights=mz_zeros)
    else:
        Mz_final = 0
    return Mx_final, My_final, Mz_final



p = 1e-25
qd_test_1 = qbd.qd_results(5, 1.1, 0.08, 0.08, "CB1")
qd_test_2 = qbd.qd_results(5, 0.6, 0.08, 0.08, "VB1")
envolute_matrix_element(qd_test_2, (0, 0), qd_test_1, (0, 2), (8, 0.2, 2.5, (p, p)))


sizes = np.linspace(1, 5, 5)
sim_properties = (20, 0.3, 2.3, (1e-25, 1e-25))
levels = [(0, 0), (0, 1), (0, 2), (0, 3), (0, 4), (1, 0), (1, 2), (1, 3)]
for size in sizes:
    print("Calculation for size: ", size, "\n")
    qd1 = qbd.qd_results(size, 1.2, 0.08, 0.08, "VB1")
    if qd1.e_levels.empty:
        continue
    print("QD1 Energy Levels:")
    print(qd1.e_levels)
    qd2 = qbd.qd_results(size, 0.7, 0.1, 0.1, "CB1")
    if qd2.e_levels.empty:
        continue
    print("QD2 Energy Levels:")
    print(qd2.e_levels)
    print("\n")
    for state_lh, state_cb in product(levels, levels):
        try:
            Mx, My, Mz = envolute_matrix_element(qd1, state_lh, qd2, state_cb, sim_properties)
            print("Calculating from:", state_lh, state_cb)
            print("Mx: ", Mx, "My: ", My, "Mz: ", Mz)
        except IndexError:
            continue


for i, j in zip([0], [0]):
    print(i, j)


list(product([0], [0, 1, 2]))



