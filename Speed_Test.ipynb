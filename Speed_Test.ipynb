{
 "cells": [
  {
   "cell_type": "code",
   "execution_count": 4,
   "metadata": {
    "ExecuteTime": {
     "end_time": "2020-04-14T15:20:19.483693Z",
     "start_time": "2020-04-14T15:20:19.379476Z"
    }
   },
   "outputs": [],
   "source": [
    "import numpy as np\n",
    "import pandas as pd\n",
    "import matplotlib.pyplot as plt\n",
    "from dask import delayed, compute"
   ]
  },
  {
   "cell_type": "code",
   "execution_count": 2,
   "metadata": {
    "ExecuteTime": {
     "end_time": "2020-04-08T08:34:34.831315Z",
     "start_time": "2020-04-08T08:34:34.827408Z"
    }
   },
   "outputs": [],
   "source": [
    "%matplotlib inline"
   ]
  },
  {
   "cell_type": "code",
   "execution_count": 5,
   "metadata": {
    "ExecuteTime": {
     "end_time": "2020-04-14T15:20:28.146143Z",
     "start_time": "2020-04-14T15:20:27.460685Z"
    }
   },
   "outputs": [],
   "source": [
    "from mixed_quantum import qd_base_data as qd"
   ]
  },
  {
   "cell_type": "code",
   "execution_count": 4,
   "metadata": {
    "ExecuteTime": {
     "end_time": "2020-04-08T08:35:11.345281Z",
     "start_time": "2020-04-08T08:35:11.342528Z"
    }
   },
   "outputs": [],
   "source": [
    "import warnings\n",
    "warnings.filterwarnings(\"ignore\")"
   ]
  },
  {
   "cell_type": "markdown",
   "metadata": {},
   "source": [
    "# Speed test comparison between scripts"
   ]
  },
  {
   "cell_type": "markdown",
   "metadata": {},
   "source": [
    "## Test singularly"
   ]
  },
  {
   "cell_type": "markdown",
   "metadata": {},
   "source": [
    "Cyquantum (full module with cython)"
   ]
  },
  {
   "cell_type": "code",
   "execution_count": 5,
   "metadata": {
    "ExecuteTime": {
     "end_time": "2020-04-08T08:36:08.685046Z",
     "start_time": "2020-04-08T08:36:05.642606Z"
    }
   },
   "outputs": [
    {
     "name": "stdout",
     "output_type": "stream",
     "text": [
      "363 ms ± 4.43 ms per loop (mean ± std. dev. of 7 runs, 1 loop each)\n"
     ]
    }
   ],
   "source": [
    "%%timeit\n",
    "qd.qd_results(10,1.15,0.08,0.08)"
   ]
  },
  {
   "cell_type": "markdown",
   "metadata": {},
   "source": [
    "quantum_calculations (full module in python)"
   ]
  },
  {
   "cell_type": "code",
   "execution_count": 6,
   "metadata": {
    "ExecuteTime": {
     "end_time": "2020-04-08T08:37:10.466409Z",
     "start_time": "2020-04-08T08:36:46.519999Z"
    }
   },
   "outputs": [
    {
     "name": "stdout",
     "output_type": "stream",
     "text": [
      "2.97 s ± 28.3 ms per loop (mean ± std. dev. of 7 runs, 1 loop each)\n"
     ]
    }
   ],
   "source": [
    "%%timeit\n",
    "sqp.qd_results(10,1.15,0.08,0.08)"
   ]
  },
  {
   "cell_type": "markdown",
   "metadata": {},
   "source": [
    "mixed quantum (only the zeros_f function in cython)"
   ]
  },
  {
   "cell_type": "code",
   "execution_count": 8,
   "metadata": {
    "ExecuteTime": {
     "end_time": "2020-04-08T08:37:55.494976Z",
     "start_time": "2020-04-08T08:37:53.156988Z"
    }
   },
   "outputs": [
    {
     "name": "stdout",
     "output_type": "stream",
     "text": [
      "290 ms ± 3.73 ms per loop (mean ± std. dev. of 7 runs, 1 loop each)\n"
     ]
    }
   ],
   "source": [
    "%%timeit\n",
    "qbd.qd_results(10, 1.15, 0.08, 0.08)"
   ]
  },
  {
   "cell_type": "code",
   "execution_count": 11,
   "metadata": {
    "ExecuteTime": {
     "end_time": "2020-04-08T08:39:22.438688Z",
     "start_time": "2020-04-08T08:39:14.813389Z"
    }
   },
   "outputs": [],
   "source": [
    "res1 = qd.qd_results(5,1,1,1)\n",
    "res2 = sqp.qd_results(5,1,1,1)\n",
    "res3 = qbd.qd_results(5, 1, 1, 1)"
   ]
  },
  {
   "cell_type": "code",
   "execution_count": 12,
   "metadata": {
    "ExecuteTime": {
     "end_time": "2020-04-08T08:39:22.465565Z",
     "start_time": "2020-04-08T08:39:22.444581Z"
    }
   },
   "outputs": [
    {
     "data": {
      "text/html": [
       "<div>\n",
       "<style scoped>\n",
       "    .dataframe tbody tr th:only-of-type {\n",
       "        vertical-align: middle;\n",
       "    }\n",
       "\n",
       "    .dataframe tbody tr th {\n",
       "        vertical-align: top;\n",
       "    }\n",
       "\n",
       "    .dataframe thead th {\n",
       "        text-align: right;\n",
       "    }\n",
       "</style>\n",
       "<table border=\"1\" class=\"dataframe\">\n",
       "  <thead>\n",
       "    <tr style=\"text-align: right;\">\n",
       "      <th></th>\n",
       "      <th>l0</th>\n",
       "      <th>l1</th>\n",
       "      <th>l2</th>\n",
       "      <th>l3</th>\n",
       "      <th>l4</th>\n",
       "      <th>l5</th>\n",
       "      <th>l6</th>\n",
       "      <th>l7</th>\n",
       "      <th>l8</th>\n",
       "      <th>l9</th>\n",
       "      <th>...</th>\n",
       "      <th>l11</th>\n",
       "      <th>l12</th>\n",
       "      <th>l13</th>\n",
       "      <th>l14</th>\n",
       "      <th>l15</th>\n",
       "      <th>l16</th>\n",
       "      <th>l17</th>\n",
       "      <th>l18</th>\n",
       "      <th>l19</th>\n",
       "      <th>l20</th>\n",
       "    </tr>\n",
       "  </thead>\n",
       "  <tbody>\n",
       "    <tr>\n",
       "      <th>0</th>\n",
       "      <td>-0.986071</td>\n",
       "      <td>-0.971469</td>\n",
       "      <td>-0.953071</td>\n",
       "      <td>-0.931029</td>\n",
       "      <td>-0.905454</td>\n",
       "      <td>-0.876430</td>\n",
       "      <td>-0.844018</td>\n",
       "      <td>-0.808271</td>\n",
       "      <td>-0.769231</td>\n",
       "      <td>-0.726933</td>\n",
       "      <td>...</td>\n",
       "      <td>-0.632691</td>\n",
       "      <td>-0.580800</td>\n",
       "      <td>-0.525762</td>\n",
       "      <td>-0.467598</td>\n",
       "      <td>-0.406330</td>\n",
       "      <td>-0.341977</td>\n",
       "      <td>-0.274558</td>\n",
       "      <td>-0.204093</td>\n",
       "      <td>-0.130601</td>\n",
       "      <td>-0.054101</td>\n",
       "    </tr>\n",
       "    <tr>\n",
       "      <th>1</th>\n",
       "      <td>-0.944312</td>\n",
       "      <td>-0.915730</td>\n",
       "      <td>-0.883247</td>\n",
       "      <td>-0.846905</td>\n",
       "      <td>-0.806806</td>\n",
       "      <td>-0.763034</td>\n",
       "      <td>-0.715663</td>\n",
       "      <td>-0.664756</td>\n",
       "      <td>-0.610369</td>\n",
       "      <td>-0.552556</td>\n",
       "      <td>...</td>\n",
       "      <td>-0.426841</td>\n",
       "      <td>-0.359033</td>\n",
       "      <td>-0.287987</td>\n",
       "      <td>-0.213751</td>\n",
       "      <td>-0.136377</td>\n",
       "      <td>-0.055922</td>\n",
       "      <td>NaN</td>\n",
       "      <td>NaN</td>\n",
       "      <td>NaN</td>\n",
       "      <td>NaN</td>\n",
       "    </tr>\n",
       "    <tr>\n",
       "      <th>2</th>\n",
       "      <td>-0.874821</td>\n",
       "      <td>-0.832306</td>\n",
       "      <td>-0.785971</td>\n",
       "      <td>-0.735731</td>\n",
       "      <td>-0.681676</td>\n",
       "      <td>-0.623889</td>\n",
       "      <td>-0.562450</td>\n",
       "      <td>-0.497435</td>\n",
       "      <td>-0.428920</td>\n",
       "      <td>-0.356982</td>\n",
       "      <td>...</td>\n",
       "      <td>-0.203190</td>\n",
       "      <td>-0.121544</td>\n",
       "      <td>-0.036921</td>\n",
       "      <td>NaN</td>\n",
       "      <td>NaN</td>\n",
       "      <td>NaN</td>\n",
       "      <td>NaN</td>\n",
       "      <td>NaN</td>\n",
       "      <td>NaN</td>\n",
       "      <td>NaN</td>\n",
       "    </tr>\n",
       "    <tr>\n",
       "      <th>3</th>\n",
       "      <td>-0.777780</td>\n",
       "      <td>-0.721430</td>\n",
       "      <td>-0.661447</td>\n",
       "      <td>-0.597602</td>\n",
       "      <td>-0.529990</td>\n",
       "      <td>-0.458712</td>\n",
       "      <td>-0.383877</td>\n",
       "      <td>-0.305610</td>\n",
       "      <td>-0.224065</td>\n",
       "      <td>-0.139447</td>\n",
       "      <td>...</td>\n",
       "      <td>NaN</td>\n",
       "      <td>NaN</td>\n",
       "      <td>NaN</td>\n",
       "      <td>NaN</td>\n",
       "      <td>NaN</td>\n",
       "      <td>NaN</td>\n",
       "      <td>NaN</td>\n",
       "      <td>NaN</td>\n",
       "      <td>NaN</td>\n",
       "      <td>NaN</td>\n",
       "    </tr>\n",
       "    <tr>\n",
       "      <th>4</th>\n",
       "      <td>-0.653506</td>\n",
       "      <td>-0.583520</td>\n",
       "      <td>-0.510206</td>\n",
       "      <td>-0.433190</td>\n",
       "      <td>-0.352620</td>\n",
       "      <td>-0.268689</td>\n",
       "      <td>-0.181675</td>\n",
       "      <td>-0.092048</td>\n",
       "      <td>NaN</td>\n",
       "      <td>NaN</td>\n",
       "      <td>...</td>\n",
       "      <td>NaN</td>\n",
       "      <td>NaN</td>\n",
       "      <td>NaN</td>\n",
       "      <td>NaN</td>\n",
       "      <td>NaN</td>\n",
       "      <td>NaN</td>\n",
       "      <td>NaN</td>\n",
       "      <td>NaN</td>\n",
       "      <td>NaN</td>\n",
       "      <td>NaN</td>\n",
       "    </tr>\n",
       "    <tr>\n",
       "      <th>5</th>\n",
       "      <td>-0.502569</td>\n",
       "      <td>-0.419365</td>\n",
       "      <td>-0.333365</td>\n",
       "      <td>-0.244145</td>\n",
       "      <td>-0.152179</td>\n",
       "      <td>-0.058526</td>\n",
       "      <td>NaN</td>\n",
       "      <td>NaN</td>\n",
       "      <td>NaN</td>\n",
       "      <td>NaN</td>\n",
       "      <td>...</td>\n",
       "      <td>NaN</td>\n",
       "      <td>NaN</td>\n",
       "      <td>NaN</td>\n",
       "      <td>NaN</td>\n",
       "      <td>NaN</td>\n",
       "      <td>NaN</td>\n",
       "      <td>NaN</td>\n",
       "      <td>NaN</td>\n",
       "      <td>NaN</td>\n",
       "      <td>NaN</td>\n",
       "    </tr>\n",
       "    <tr>\n",
       "      <th>6</th>\n",
       "      <td>-0.326128</td>\n",
       "      <td>-0.230791</td>\n",
       "      <td>-0.134071</td>\n",
       "      <td>-0.037168</td>\n",
       "      <td>NaN</td>\n",
       "      <td>NaN</td>\n",
       "      <td>NaN</td>\n",
       "      <td>NaN</td>\n",
       "      <td>NaN</td>\n",
       "      <td>NaN</td>\n",
       "      <td>...</td>\n",
       "      <td>NaN</td>\n",
       "      <td>NaN</td>\n",
       "      <td>NaN</td>\n",
       "      <td>NaN</td>\n",
       "      <td>NaN</td>\n",
       "      <td>NaN</td>\n",
       "      <td>NaN</td>\n",
       "      <td>NaN</td>\n",
       "      <td>NaN</td>\n",
       "      <td>NaN</td>\n",
       "    </tr>\n",
       "    <tr>\n",
       "      <th>7</th>\n",
       "      <td>-0.127521</td>\n",
       "      <td>-0.026217</td>\n",
       "      <td>NaN</td>\n",
       "      <td>NaN</td>\n",
       "      <td>NaN</td>\n",
       "      <td>NaN</td>\n",
       "      <td>NaN</td>\n",
       "      <td>NaN</td>\n",
       "      <td>NaN</td>\n",
       "      <td>NaN</td>\n",
       "      <td>...</td>\n",
       "      <td>NaN</td>\n",
       "      <td>NaN</td>\n",
       "      <td>NaN</td>\n",
       "      <td>NaN</td>\n",
       "      <td>NaN</td>\n",
       "      <td>NaN</td>\n",
       "      <td>NaN</td>\n",
       "      <td>NaN</td>\n",
       "      <td>NaN</td>\n",
       "      <td>NaN</td>\n",
       "    </tr>\n",
       "  </tbody>\n",
       "</table>\n",
       "<p>8 rows × 21 columns</p>\n",
       "</div>"
      ],
      "text/plain": [
       "         l0        l1        l2        l3        l4        l5        l6  \\\n",
       "0 -0.986071 -0.971469 -0.953071 -0.931029 -0.905454 -0.876430 -0.844018   \n",
       "1 -0.944312 -0.915730 -0.883247 -0.846905 -0.806806 -0.763034 -0.715663   \n",
       "2 -0.874821 -0.832306 -0.785971 -0.735731 -0.681676 -0.623889 -0.562450   \n",
       "3 -0.777780 -0.721430 -0.661447 -0.597602 -0.529990 -0.458712 -0.383877   \n",
       "4 -0.653506 -0.583520 -0.510206 -0.433190 -0.352620 -0.268689 -0.181675   \n",
       "5 -0.502569 -0.419365 -0.333365 -0.244145 -0.152179 -0.058526       NaN   \n",
       "6 -0.326128 -0.230791 -0.134071 -0.037168       NaN       NaN       NaN   \n",
       "7 -0.127521 -0.026217       NaN       NaN       NaN       NaN       NaN   \n",
       "\n",
       "         l7        l8        l9  ...       l11       l12       l13       l14  \\\n",
       "0 -0.808271 -0.769231 -0.726933  ... -0.632691 -0.580800 -0.525762 -0.467598   \n",
       "1 -0.664756 -0.610369 -0.552556  ... -0.426841 -0.359033 -0.287987 -0.213751   \n",
       "2 -0.497435 -0.428920 -0.356982  ... -0.203190 -0.121544 -0.036921       NaN   \n",
       "3 -0.305610 -0.224065 -0.139447  ...       NaN       NaN       NaN       NaN   \n",
       "4 -0.092048       NaN       NaN  ...       NaN       NaN       NaN       NaN   \n",
       "5       NaN       NaN       NaN  ...       NaN       NaN       NaN       NaN   \n",
       "6       NaN       NaN       NaN  ...       NaN       NaN       NaN       NaN   \n",
       "7       NaN       NaN       NaN  ...       NaN       NaN       NaN       NaN   \n",
       "\n",
       "        l15       l16       l17       l18       l19       l20  \n",
       "0 -0.406330 -0.341977 -0.274558 -0.204093 -0.130601 -0.054101  \n",
       "1 -0.136377 -0.055922       NaN       NaN       NaN       NaN  \n",
       "2       NaN       NaN       NaN       NaN       NaN       NaN  \n",
       "3       NaN       NaN       NaN       NaN       NaN       NaN  \n",
       "4       NaN       NaN       NaN       NaN       NaN       NaN  \n",
       "5       NaN       NaN       NaN       NaN       NaN       NaN  \n",
       "6       NaN       NaN       NaN       NaN       NaN       NaN  \n",
       "7       NaN       NaN       NaN       NaN       NaN       NaN  \n",
       "\n",
       "[8 rows x 21 columns]"
      ]
     },
     "execution_count": 12,
     "metadata": {},
     "output_type": "execute_result"
    }
   ],
   "source": [
    "res1.e_levels"
   ]
  },
  {
   "cell_type": "code",
   "execution_count": 13,
   "metadata": {
    "ExecuteTime": {
     "end_time": "2020-04-08T08:39:22.763510Z",
     "start_time": "2020-04-08T08:39:22.471006Z"
    }
   },
   "outputs": [
    {
     "data": {
      "text/html": [
       "<div>\n",
       "<style scoped>\n",
       "    .dataframe tbody tr th:only-of-type {\n",
       "        vertical-align: middle;\n",
       "    }\n",
       "\n",
       "    .dataframe tbody tr th {\n",
       "        vertical-align: top;\n",
       "    }\n",
       "\n",
       "    .dataframe thead th {\n",
       "        text-align: right;\n",
       "    }\n",
       "</style>\n",
       "<table border=\"1\" class=\"dataframe\">\n",
       "  <thead>\n",
       "    <tr style=\"text-align: right;\">\n",
       "      <th></th>\n",
       "      <th>l0</th>\n",
       "      <th>l1</th>\n",
       "      <th>l2</th>\n",
       "      <th>l3</th>\n",
       "      <th>l4</th>\n",
       "      <th>l5</th>\n",
       "      <th>l6</th>\n",
       "      <th>l7</th>\n",
       "      <th>l8</th>\n",
       "      <th>l9</th>\n",
       "      <th>...</th>\n",
       "      <th>l11</th>\n",
       "      <th>l12</th>\n",
       "      <th>l13</th>\n",
       "      <th>l14</th>\n",
       "      <th>l15</th>\n",
       "      <th>l16</th>\n",
       "      <th>l17</th>\n",
       "      <th>l18</th>\n",
       "      <th>l19</th>\n",
       "      <th>l20</th>\n",
       "    </tr>\n",
       "  </thead>\n",
       "  <tbody>\n",
       "    <tr>\n",
       "      <th>0</th>\n",
       "      <td>-0.986</td>\n",
       "      <td>-0.972</td>\n",
       "      <td>-0.953</td>\n",
       "      <td>-0.931</td>\n",
       "      <td>-0.906</td>\n",
       "      <td>-0.877</td>\n",
       "      <td>-0.844</td>\n",
       "      <td>-0.808</td>\n",
       "      <td>-0.769</td>\n",
       "      <td>-0.727</td>\n",
       "      <td>...</td>\n",
       "      <td>-0.633</td>\n",
       "      <td>-0.581</td>\n",
       "      <td>-0.526</td>\n",
       "      <td>-0.468</td>\n",
       "      <td>-0.407</td>\n",
       "      <td>-0.342</td>\n",
       "      <td>-0.275</td>\n",
       "      <td>-0.204</td>\n",
       "      <td>-0.131</td>\n",
       "      <td>-0.054</td>\n",
       "    </tr>\n",
       "    <tr>\n",
       "      <th>1</th>\n",
       "      <td>-0.944</td>\n",
       "      <td>-0.916</td>\n",
       "      <td>-0.883</td>\n",
       "      <td>-0.847</td>\n",
       "      <td>-0.807</td>\n",
       "      <td>-0.763</td>\n",
       "      <td>-0.716</td>\n",
       "      <td>-0.665</td>\n",
       "      <td>-0.611</td>\n",
       "      <td>-0.553</td>\n",
       "      <td>...</td>\n",
       "      <td>-0.427</td>\n",
       "      <td>-0.359</td>\n",
       "      <td>-0.288</td>\n",
       "      <td>-0.214</td>\n",
       "      <td>-0.137</td>\n",
       "      <td>-0.056</td>\n",
       "      <td>NaN</td>\n",
       "      <td>NaN</td>\n",
       "      <td>NaN</td>\n",
       "      <td>NaN</td>\n",
       "    </tr>\n",
       "    <tr>\n",
       "      <th>2</th>\n",
       "      <td>-0.875</td>\n",
       "      <td>-0.833</td>\n",
       "      <td>-0.786</td>\n",
       "      <td>-0.736</td>\n",
       "      <td>-0.682</td>\n",
       "      <td>-0.624</td>\n",
       "      <td>-0.563</td>\n",
       "      <td>-0.498</td>\n",
       "      <td>-0.429</td>\n",
       "      <td>-0.357</td>\n",
       "      <td>...</td>\n",
       "      <td>-0.204</td>\n",
       "      <td>-0.122</td>\n",
       "      <td>-0.037</td>\n",
       "      <td>NaN</td>\n",
       "      <td>NaN</td>\n",
       "      <td>NaN</td>\n",
       "      <td>NaN</td>\n",
       "      <td>NaN</td>\n",
       "      <td>NaN</td>\n",
       "      <td>NaN</td>\n",
       "    </tr>\n",
       "    <tr>\n",
       "      <th>3</th>\n",
       "      <td>-0.778</td>\n",
       "      <td>-0.722</td>\n",
       "      <td>-0.662</td>\n",
       "      <td>-0.598</td>\n",
       "      <td>-0.531</td>\n",
       "      <td>-0.459</td>\n",
       "      <td>-0.384</td>\n",
       "      <td>-0.306</td>\n",
       "      <td>-0.225</td>\n",
       "      <td>-0.140</td>\n",
       "      <td>...</td>\n",
       "      <td>NaN</td>\n",
       "      <td>NaN</td>\n",
       "      <td>NaN</td>\n",
       "      <td>NaN</td>\n",
       "      <td>NaN</td>\n",
       "      <td>NaN</td>\n",
       "      <td>NaN</td>\n",
       "      <td>NaN</td>\n",
       "      <td>NaN</td>\n",
       "      <td>NaN</td>\n",
       "    </tr>\n",
       "    <tr>\n",
       "      <th>4</th>\n",
       "      <td>-0.654</td>\n",
       "      <td>-0.584</td>\n",
       "      <td>-0.511</td>\n",
       "      <td>-0.434</td>\n",
       "      <td>-0.353</td>\n",
       "      <td>-0.269</td>\n",
       "      <td>-0.182</td>\n",
       "      <td>-0.092</td>\n",
       "      <td>-0.001</td>\n",
       "      <td>NaN</td>\n",
       "      <td>...</td>\n",
       "      <td>NaN</td>\n",
       "      <td>NaN</td>\n",
       "      <td>NaN</td>\n",
       "      <td>NaN</td>\n",
       "      <td>NaN</td>\n",
       "      <td>NaN</td>\n",
       "      <td>NaN</td>\n",
       "      <td>NaN</td>\n",
       "      <td>NaN</td>\n",
       "      <td>NaN</td>\n",
       "    </tr>\n",
       "    <tr>\n",
       "      <th>5</th>\n",
       "      <td>-0.503</td>\n",
       "      <td>-0.420</td>\n",
       "      <td>-0.334</td>\n",
       "      <td>-0.245</td>\n",
       "      <td>-0.153</td>\n",
       "      <td>-0.059</td>\n",
       "      <td>NaN</td>\n",
       "      <td>NaN</td>\n",
       "      <td>NaN</td>\n",
       "      <td>NaN</td>\n",
       "      <td>...</td>\n",
       "      <td>NaN</td>\n",
       "      <td>NaN</td>\n",
       "      <td>NaN</td>\n",
       "      <td>NaN</td>\n",
       "      <td>NaN</td>\n",
       "      <td>NaN</td>\n",
       "      <td>NaN</td>\n",
       "      <td>NaN</td>\n",
       "      <td>NaN</td>\n",
       "      <td>NaN</td>\n",
       "    </tr>\n",
       "    <tr>\n",
       "      <th>6</th>\n",
       "      <td>-0.326</td>\n",
       "      <td>-0.232</td>\n",
       "      <td>-0.135</td>\n",
       "      <td>-0.038</td>\n",
       "      <td>NaN</td>\n",
       "      <td>NaN</td>\n",
       "      <td>NaN</td>\n",
       "      <td>NaN</td>\n",
       "      <td>NaN</td>\n",
       "      <td>NaN</td>\n",
       "      <td>...</td>\n",
       "      <td>NaN</td>\n",
       "      <td>NaN</td>\n",
       "      <td>NaN</td>\n",
       "      <td>NaN</td>\n",
       "      <td>NaN</td>\n",
       "      <td>NaN</td>\n",
       "      <td>NaN</td>\n",
       "      <td>NaN</td>\n",
       "      <td>NaN</td>\n",
       "      <td>NaN</td>\n",
       "    </tr>\n",
       "    <tr>\n",
       "      <th>7</th>\n",
       "      <td>-0.128</td>\n",
       "      <td>-0.027</td>\n",
       "      <td>NaN</td>\n",
       "      <td>NaN</td>\n",
       "      <td>NaN</td>\n",
       "      <td>NaN</td>\n",
       "      <td>NaN</td>\n",
       "      <td>NaN</td>\n",
       "      <td>NaN</td>\n",
       "      <td>NaN</td>\n",
       "      <td>...</td>\n",
       "      <td>NaN</td>\n",
       "      <td>NaN</td>\n",
       "      <td>NaN</td>\n",
       "      <td>NaN</td>\n",
       "      <td>NaN</td>\n",
       "      <td>NaN</td>\n",
       "      <td>NaN</td>\n",
       "      <td>NaN</td>\n",
       "      <td>NaN</td>\n",
       "      <td>NaN</td>\n",
       "    </tr>\n",
       "  </tbody>\n",
       "</table>\n",
       "<p>8 rows × 21 columns</p>\n",
       "</div>"
      ],
      "text/plain": [
       "      l0     l1     l2     l3     l4     l5     l6     l7     l8     l9  ...  \\\n",
       "0 -0.986 -0.972 -0.953 -0.931 -0.906 -0.877 -0.844 -0.808 -0.769 -0.727  ...   \n",
       "1 -0.944 -0.916 -0.883 -0.847 -0.807 -0.763 -0.716 -0.665 -0.611 -0.553  ...   \n",
       "2 -0.875 -0.833 -0.786 -0.736 -0.682 -0.624 -0.563 -0.498 -0.429 -0.357  ...   \n",
       "3 -0.778 -0.722 -0.662 -0.598 -0.531 -0.459 -0.384 -0.306 -0.225 -0.140  ...   \n",
       "4 -0.654 -0.584 -0.511 -0.434 -0.353 -0.269 -0.182 -0.092 -0.001    NaN  ...   \n",
       "5 -0.503 -0.420 -0.334 -0.245 -0.153 -0.059    NaN    NaN    NaN    NaN  ...   \n",
       "6 -0.326 -0.232 -0.135 -0.038    NaN    NaN    NaN    NaN    NaN    NaN  ...   \n",
       "7 -0.128 -0.027    NaN    NaN    NaN    NaN    NaN    NaN    NaN    NaN  ...   \n",
       "\n",
       "     l11    l12    l13    l14    l15    l16    l17    l18    l19    l20  \n",
       "0 -0.633 -0.581 -0.526 -0.468 -0.407 -0.342 -0.275 -0.204 -0.131 -0.054  \n",
       "1 -0.427 -0.359 -0.288 -0.214 -0.137 -0.056    NaN    NaN    NaN    NaN  \n",
       "2 -0.204 -0.122 -0.037    NaN    NaN    NaN    NaN    NaN    NaN    NaN  \n",
       "3    NaN    NaN    NaN    NaN    NaN    NaN    NaN    NaN    NaN    NaN  \n",
       "4    NaN    NaN    NaN    NaN    NaN    NaN    NaN    NaN    NaN    NaN  \n",
       "5    NaN    NaN    NaN    NaN    NaN    NaN    NaN    NaN    NaN    NaN  \n",
       "6    NaN    NaN    NaN    NaN    NaN    NaN    NaN    NaN    NaN    NaN  \n",
       "7    NaN    NaN    NaN    NaN    NaN    NaN    NaN    NaN    NaN    NaN  \n",
       "\n",
       "[8 rows x 21 columns]"
      ]
     },
     "execution_count": 13,
     "metadata": {},
     "output_type": "execute_result"
    }
   ],
   "source": [
    "res2.e_levels"
   ]
  },
  {
   "cell_type": "code",
   "execution_count": 14,
   "metadata": {
    "ExecuteTime": {
     "end_time": "2020-04-08T08:39:30.982248Z",
     "start_time": "2020-04-08T08:39:30.957913Z"
    }
   },
   "outputs": [
    {
     "data": {
      "text/html": [
       "<div>\n",
       "<style scoped>\n",
       "    .dataframe tbody tr th:only-of-type {\n",
       "        vertical-align: middle;\n",
       "    }\n",
       "\n",
       "    .dataframe tbody tr th {\n",
       "        vertical-align: top;\n",
       "    }\n",
       "\n",
       "    .dataframe thead th {\n",
       "        text-align: right;\n",
       "    }\n",
       "</style>\n",
       "<table border=\"1\" class=\"dataframe\">\n",
       "  <thead>\n",
       "    <tr style=\"text-align: right;\">\n",
       "      <th></th>\n",
       "      <th>l0</th>\n",
       "      <th>l1</th>\n",
       "      <th>l2</th>\n",
       "      <th>l3</th>\n",
       "      <th>l4</th>\n",
       "      <th>l5</th>\n",
       "      <th>l6</th>\n",
       "      <th>l7</th>\n",
       "      <th>l8</th>\n",
       "      <th>l9</th>\n",
       "      <th>...</th>\n",
       "      <th>l11</th>\n",
       "      <th>l12</th>\n",
       "      <th>l13</th>\n",
       "      <th>l14</th>\n",
       "      <th>l15</th>\n",
       "      <th>l16</th>\n",
       "      <th>l17</th>\n",
       "      <th>l18</th>\n",
       "      <th>l19</th>\n",
       "      <th>l20</th>\n",
       "    </tr>\n",
       "  </thead>\n",
       "  <tbody>\n",
       "    <tr>\n",
       "      <th>0</th>\n",
       "      <td>-0.986071</td>\n",
       "      <td>-0.971508</td>\n",
       "      <td>-0.953133</td>\n",
       "      <td>-0.931116</td>\n",
       "      <td>-0.905568</td>\n",
       "      <td>-0.876571</td>\n",
       "      <td>-0.844188</td>\n",
       "      <td>-0.808468</td>\n",
       "      <td>-0.769453</td>\n",
       "      <td>-0.727179</td>\n",
       "      <td>...</td>\n",
       "      <td>-0.632974</td>\n",
       "      <td>-0.581094</td>\n",
       "      <td>-0.526061</td>\n",
       "      <td>-0.467896</td>\n",
       "      <td>-0.406617</td>\n",
       "      <td>-0.342244</td>\n",
       "      <td>-0.274795</td>\n",
       "      <td>-0.204286</td>\n",
       "      <td>-0.130736</td>\n",
       "      <td>-0.054162</td>\n",
       "    </tr>\n",
       "    <tr>\n",
       "      <th>1</th>\n",
       "      <td>-0.944312</td>\n",
       "      <td>-0.915845</td>\n",
       "      <td>-0.883400</td>\n",
       "      <td>-0.847096</td>\n",
       "      <td>-0.807035</td>\n",
       "      <td>-0.763301</td>\n",
       "      <td>-0.715964</td>\n",
       "      <td>-0.665087</td>\n",
       "      <td>-0.610725</td>\n",
       "      <td>-0.552929</td>\n",
       "      <td>...</td>\n",
       "      <td>-0.427222</td>\n",
       "      <td>-0.359398</td>\n",
       "      <td>-0.288320</td>\n",
       "      <td>-0.214032</td>\n",
       "      <td>-0.136581</td>\n",
       "      <td>-0.056017</td>\n",
       "      <td>NaN</td>\n",
       "      <td>NaN</td>\n",
       "      <td>NaN</td>\n",
       "      <td>NaN</td>\n",
       "    </tr>\n",
       "    <tr>\n",
       "      <th>2</th>\n",
       "      <td>-0.874821</td>\n",
       "      <td>-0.832535</td>\n",
       "      <td>-0.786250</td>\n",
       "      <td>-0.736058</td>\n",
       "      <td>-0.682047</td>\n",
       "      <td>-0.624300</td>\n",
       "      <td>-0.562892</td>\n",
       "      <td>-0.497899</td>\n",
       "      <td>-0.429392</td>\n",
       "      <td>-0.357446</td>\n",
       "      <td>...</td>\n",
       "      <td>-0.203558</td>\n",
       "      <td>-0.121808</td>\n",
       "      <td>-0.037019</td>\n",
       "      <td>NaN</td>\n",
       "      <td>NaN</td>\n",
       "      <td>NaN</td>\n",
       "      <td>NaN</td>\n",
       "      <td>NaN</td>\n",
       "      <td>NaN</td>\n",
       "      <td>NaN</td>\n",
       "    </tr>\n",
       "    <tr>\n",
       "      <th>3</th>\n",
       "      <td>-0.777780</td>\n",
       "      <td>-0.721808</td>\n",
       "      <td>-0.661882</td>\n",
       "      <td>-0.598089</td>\n",
       "      <td>-0.530520</td>\n",
       "      <td>-0.459272</td>\n",
       "      <td>-0.384449</td>\n",
       "      <td>-0.306169</td>\n",
       "      <td>-0.224574</td>\n",
       "      <td>-0.139850</td>\n",
       "      <td>...</td>\n",
       "      <td>NaN</td>\n",
       "      <td>NaN</td>\n",
       "      <td>NaN</td>\n",
       "      <td>NaN</td>\n",
       "      <td>NaN</td>\n",
       "      <td>NaN</td>\n",
       "      <td>NaN</td>\n",
       "      <td>NaN</td>\n",
       "      <td>NaN</td>\n",
       "      <td>NaN</td>\n",
       "    </tr>\n",
       "    <tr>\n",
       "      <th>4</th>\n",
       "      <td>-0.653506</td>\n",
       "      <td>-0.584079</td>\n",
       "      <td>-0.510824</td>\n",
       "      <td>-0.433852</td>\n",
       "      <td>-0.353305</td>\n",
       "      <td>-0.269364</td>\n",
       "      <td>-0.182285</td>\n",
       "      <td>-0.092490</td>\n",
       "      <td>NaN</td>\n",
       "      <td>NaN</td>\n",
       "      <td>...</td>\n",
       "      <td>NaN</td>\n",
       "      <td>NaN</td>\n",
       "      <td>NaN</td>\n",
       "      <td>NaN</td>\n",
       "      <td>NaN</td>\n",
       "      <td>NaN</td>\n",
       "      <td>NaN</td>\n",
       "      <td>NaN</td>\n",
       "      <td>NaN</td>\n",
       "      <td>NaN</td>\n",
       "    </tr>\n",
       "    <tr>\n",
       "      <th>5</th>\n",
       "      <td>-0.502569</td>\n",
       "      <td>-0.420131</td>\n",
       "      <td>-0.334175</td>\n",
       "      <td>-0.244960</td>\n",
       "      <td>-0.152928</td>\n",
       "      <td>-0.059032</td>\n",
       "      <td>NaN</td>\n",
       "      <td>NaN</td>\n",
       "      <td>NaN</td>\n",
       "      <td>NaN</td>\n",
       "      <td>...</td>\n",
       "      <td>NaN</td>\n",
       "      <td>NaN</td>\n",
       "      <td>NaN</td>\n",
       "      <td>NaN</td>\n",
       "      <td>NaN</td>\n",
       "      <td>NaN</td>\n",
       "      <td>NaN</td>\n",
       "      <td>NaN</td>\n",
       "      <td>NaN</td>\n",
       "      <td>NaN</td>\n",
       "    </tr>\n",
       "    <tr>\n",
       "      <th>6</th>\n",
       "      <td>-0.326128</td>\n",
       "      <td>-0.231765</td>\n",
       "      <td>-0.135006</td>\n",
       "      <td>-0.037802</td>\n",
       "      <td>NaN</td>\n",
       "      <td>NaN</td>\n",
       "      <td>NaN</td>\n",
       "      <td>NaN</td>\n",
       "      <td>NaN</td>\n",
       "      <td>NaN</td>\n",
       "      <td>...</td>\n",
       "      <td>NaN</td>\n",
       "      <td>NaN</td>\n",
       "      <td>NaN</td>\n",
       "      <td>NaN</td>\n",
       "      <td>NaN</td>\n",
       "      <td>NaN</td>\n",
       "      <td>NaN</td>\n",
       "      <td>NaN</td>\n",
       "      <td>NaN</td>\n",
       "      <td>NaN</td>\n",
       "    </tr>\n",
       "    <tr>\n",
       "      <th>7</th>\n",
       "      <td>-0.127521</td>\n",
       "      <td>-0.027130</td>\n",
       "      <td>NaN</td>\n",
       "      <td>NaN</td>\n",
       "      <td>NaN</td>\n",
       "      <td>NaN</td>\n",
       "      <td>NaN</td>\n",
       "      <td>NaN</td>\n",
       "      <td>NaN</td>\n",
       "      <td>NaN</td>\n",
       "      <td>...</td>\n",
       "      <td>NaN</td>\n",
       "      <td>NaN</td>\n",
       "      <td>NaN</td>\n",
       "      <td>NaN</td>\n",
       "      <td>NaN</td>\n",
       "      <td>NaN</td>\n",
       "      <td>NaN</td>\n",
       "      <td>NaN</td>\n",
       "      <td>NaN</td>\n",
       "      <td>NaN</td>\n",
       "    </tr>\n",
       "  </tbody>\n",
       "</table>\n",
       "<p>8 rows × 21 columns</p>\n",
       "</div>"
      ],
      "text/plain": [
       "         l0        l1        l2        l3        l4        l5        l6  \\\n",
       "0 -0.986071 -0.971508 -0.953133 -0.931116 -0.905568 -0.876571 -0.844188   \n",
       "1 -0.944312 -0.915845 -0.883400 -0.847096 -0.807035 -0.763301 -0.715964   \n",
       "2 -0.874821 -0.832535 -0.786250 -0.736058 -0.682047 -0.624300 -0.562892   \n",
       "3 -0.777780 -0.721808 -0.661882 -0.598089 -0.530520 -0.459272 -0.384449   \n",
       "4 -0.653506 -0.584079 -0.510824 -0.433852 -0.353305 -0.269364 -0.182285   \n",
       "5 -0.502569 -0.420131 -0.334175 -0.244960 -0.152928 -0.059032       NaN   \n",
       "6 -0.326128 -0.231765 -0.135006 -0.037802       NaN       NaN       NaN   \n",
       "7 -0.127521 -0.027130       NaN       NaN       NaN       NaN       NaN   \n",
       "\n",
       "         l7        l8        l9  ...       l11       l12       l13       l14  \\\n",
       "0 -0.808468 -0.769453 -0.727179  ... -0.632974 -0.581094 -0.526061 -0.467896   \n",
       "1 -0.665087 -0.610725 -0.552929  ... -0.427222 -0.359398 -0.288320 -0.214032   \n",
       "2 -0.497899 -0.429392 -0.357446  ... -0.203558 -0.121808 -0.037019       NaN   \n",
       "3 -0.306169 -0.224574 -0.139850  ...       NaN       NaN       NaN       NaN   \n",
       "4 -0.092490       NaN       NaN  ...       NaN       NaN       NaN       NaN   \n",
       "5       NaN       NaN       NaN  ...       NaN       NaN       NaN       NaN   \n",
       "6       NaN       NaN       NaN  ...       NaN       NaN       NaN       NaN   \n",
       "7       NaN       NaN       NaN  ...       NaN       NaN       NaN       NaN   \n",
       "\n",
       "        l15       l16       l17       l18       l19       l20  \n",
       "0 -0.406617 -0.342244 -0.274795 -0.204286 -0.130736 -0.054162  \n",
       "1 -0.136581 -0.056017       NaN       NaN       NaN       NaN  \n",
       "2       NaN       NaN       NaN       NaN       NaN       NaN  \n",
       "3       NaN       NaN       NaN       NaN       NaN       NaN  \n",
       "4       NaN       NaN       NaN       NaN       NaN       NaN  \n",
       "5       NaN       NaN       NaN       NaN       NaN       NaN  \n",
       "6       NaN       NaN       NaN       NaN       NaN       NaN  \n",
       "7       NaN       NaN       NaN       NaN       NaN       NaN  \n",
       "\n",
       "[8 rows x 21 columns]"
      ]
     },
     "execution_count": 14,
     "metadata": {},
     "output_type": "execute_result"
    }
   ],
   "source": [
    "res3.e_levels"
   ]
  },
  {
   "cell_type": "markdown",
   "metadata": {},
   "source": [
    "## Sequential calculations"
   ]
  },
  {
   "cell_type": "markdown",
   "metadata": {},
   "source": [
    "Full cython module"
   ]
  },
  {
   "cell_type": "code",
   "execution_count": 16,
   "metadata": {
    "ExecuteTime": {
     "end_time": "2020-04-08T08:43:36.919255Z",
     "start_time": "2020-04-08T08:43:03.282321Z"
    },
    "scrolled": true
   },
   "outputs": [],
   "source": [
    "data_list_qd = list()\n",
    "for i in np.linspace(3, 15, 100):\n",
    "    data_list_qd.append(qd.qd_results(i, 1.15, 0.08, 0.08))\n",
    "\n",
    "compute(data_list_qd)"
   ]
  },
  {
   "cell_type": "markdown",
   "metadata": {},
   "source": [
    "Full python module"
   ]
  },
  {
   "cell_type": "code",
   "execution_count": 17,
   "metadata": {
    "ExecuteTime": {
     "end_time": "2020-04-08T08:48:14.564124Z",
     "start_time": "2020-04-08T08:43:47.770344Z"
    },
    "scrolled": true
   },
   "outputs": [],
   "source": [
    "data_list_sqp = list()\n",
    "for i in np.linspace(3, 15, 100):\n",
    "    data_list_sqp.append(sqp.qd_results(i, 1.15, 0.08, 0.08))\n",
    "\n",
    "compute(data_list_sqp);"
   ]
  },
  {
   "cell_type": "markdown",
   "metadata": {},
   "source": [
    "Full python with zeros_f calculated in cython"
   ]
  },
  {
   "cell_type": "code",
   "execution_count": 18,
   "metadata": {
    "ExecuteTime": {
     "end_time": "2020-04-08T08:49:12.281632Z",
     "start_time": "2020-04-08T08:48:45.563390Z"
    },
    "scrolled": true
   },
   "outputs": [],
   "source": [
    "data_list_qbd = list()\n",
    "for i in np.linspace(3, 15, 100):\n",
    "    data_list_qbd.append(qbd.qd_results(i, 1.15, 0.08, 0.08))\n",
    "\n",
    "compute(data_list_qbd)"
   ]
  },
  {
   "cell_type": "markdown",
   "metadata": {},
   "source": [
    "## Using dask"
   ]
  },
  {
   "cell_type": "markdown",
   "metadata": {},
   "source": [
    "Full cython method"
   ]
  },
  {
   "cell_type": "code",
   "execution_count": 19,
   "metadata": {
    "ExecuteTime": {
     "end_time": "2020-04-08T08:52:26.853732Z",
     "start_time": "2020-04-08T08:52:06.794000Z"
    }
   },
   "outputs": [],
   "source": [
    "data_list_qd = list()\n",
    "for i in np.linspace(3, 15, 100):\n",
    "    data_list_qd.append(delayed(qd.qd_results)(i, 1.15, 0.08, 0.08))\n",
    "\n",
    "compute(data_list_qd);"
   ]
  },
  {
   "cell_type": "markdown",
   "metadata": {},
   "source": [
    "Full python method"
   ]
  },
  {
   "cell_type": "code",
   "execution_count": 20,
   "metadata": {
    "ExecuteTime": {
     "end_time": "2020-04-08T08:53:17.533592Z",
     "start_time": "2020-04-08T08:52:38.711928Z"
    }
   },
   "outputs": [],
   "source": [
    "data_list_sqp = list()\n",
    "for i in np.linspace(3, 15, 100):\n",
    "    data_list_sqp.append(delayed(sqp.qd_results)(i, 1.15, 0.08, 0.08))\n",
    "\n",
    "compute(data_list_sqp);"
   ]
  },
  {
   "cell_type": "markdown",
   "metadata": {},
   "source": [
    "Full python with zeros_f in python"
   ]
  },
  {
   "cell_type": "code",
   "execution_count": 21,
   "metadata": {
    "ExecuteTime": {
     "end_time": "2020-04-08T08:53:50.928836Z",
     "start_time": "2020-04-08T08:53:30.624663Z"
    }
   },
   "outputs": [],
   "source": [
    "data_list_qbd = list()\n",
    "for i in np.linspace(3, 15, 100):\n",
    "    data_list_qbd.append(delayed(qbd.qd_results)(i, 1.15, 0.08, 0.08))\n",
    "\n",
    "compute(data_list_qbd);"
   ]
  },
  {
   "cell_type": "markdown",
   "metadata": {},
   "source": [
    "## Extensive Cython + Dask test"
   ]
  },
  {
   "cell_type": "markdown",
   "metadata": {},
   "source": [
    "With dask"
   ]
  },
  {
   "cell_type": "code",
   "execution_count": 22,
   "metadata": {
    "ExecuteTime": {
     "end_time": "2020-04-08T08:56:40.448317Z",
     "start_time": "2020-04-08T08:55:01.730936Z"
    }
   },
   "outputs": [],
   "source": [
    "data_list_qd = list()\n",
    "for i in np.linspace(3, 15, 500):\n",
    "    data_list_qd.append(delayed(qd.qd_results)(i, 1.15, 0.08, 0.08))\n",
    "\n",
    "compute(data_list_qd);"
   ]
  },
  {
   "cell_type": "code",
   "execution_count": 23,
   "metadata": {
    "ExecuteTime": {
     "end_time": "2020-04-08T09:00:15.719717Z",
     "start_time": "2020-04-08T08:57:10.845928Z"
    }
   },
   "outputs": [],
   "source": [
    "data_list_sqp = list()\n",
    "for i in np.linspace(3, 15, 500):\n",
    "    data_list_sqp.append(delayed(sqp.qd_results)(i, 1.15, 0.08, 0.08))\n",
    "\n",
    "compute(data_list_sqp);"
   ]
  },
  {
   "cell_type": "code",
   "execution_count": 24,
   "metadata": {
    "ExecuteTime": {
     "end_time": "2020-04-08T09:01:59.378419Z",
     "start_time": "2020-04-08T09:00:15.729634Z"
    }
   },
   "outputs": [],
   "source": [
    "data_list_qbd = list()\n",
    "for i in np.linspace(3, 15, 500):\n",
    "    data_list_qbd.append(delayed(qbd.qd_results)(i, 1.15, 0.08, 0.08))\n",
    "\n",
    "compute(data_list_qbd);"
   ]
  },
  {
   "cell_type": "markdown",
   "metadata": {
    "ExecuteTime": {
     "end_time": "2020-04-08T09:06:36.311869Z",
     "start_time": "2020-04-08T09:06:36.308587Z"
    }
   },
   "source": [
    "Without dask"
   ]
  },
  {
   "cell_type": "code",
   "execution_count": 26,
   "metadata": {
    "ExecuteTime": {
     "end_time": "2020-04-08T09:10:16.960388Z",
     "start_time": "2020-04-08T09:07:30.844538Z"
    }
   },
   "outputs": [],
   "source": [
    "data_list_qd = list()\n",
    "for i in np.linspace(3, 15, 500):\n",
    "    data_list_qd.append(qd.qd_results(i, 1.15, 0.08, 0.08))\n",
    "\n",
    "#compute(data_list_qd);"
   ]
  },
  {
   "cell_type": "code",
   "execution_count": 29,
   "metadata": {
    "ExecuteTime": {
     "end_time": "2020-04-08T09:39:10.008026Z",
     "start_time": "2020-04-08T09:17:08.908799Z"
    }
   },
   "outputs": [],
   "source": [
    "data_list_sqp = list()\n",
    "for i in np.linspace(3, 15, 500):\n",
    "    data_list_sqp.append(sqp.qd_results(i, 1.15, 0.08, 0.08))\n",
    "\n",
    "#compute(data_list_sqp);"
   ]
  },
  {
   "cell_type": "code",
   "execution_count": 30,
   "metadata": {
    "ExecuteTime": {
     "end_time": "2020-04-08T09:41:18.938934Z",
     "start_time": "2020-04-08T09:39:10.014587Z"
    }
   },
   "outputs": [],
   "source": [
    "data_list_qbd = list()\n",
    "for i in np.linspace(3, 15, 500):\n",
    "    data_list_qbd.append(qbd.qd_results(i, 1.15, 0.08, 0.08))\n",
    "\n",
    "#compute(data_list_qbd)"
   ]
  }
 ],
 "metadata": {
  "kernelspec": {
   "display_name": "Python 3",
   "language": "python",
   "name": "python3"
  },
  "language_info": {
   "codemirror_mode": {
    "name": "ipython",
    "version": 3
   },
   "file_extension": ".py",
   "mimetype": "text/x-python",
   "name": "python",
   "nbconvert_exporter": "python",
   "pygments_lexer": "ipython3",
   "version": "3.7.4"
  },
  "latex_envs": {
   "LaTeX_envs_menu_present": true,
   "autoclose": false,
   "autocomplete": true,
   "bibliofile": "biblio.bib",
   "cite_by": "apalike",
   "current_citInitial": 1,
   "eqLabelWithNumbers": true,
   "eqNumInitial": 1,
   "hotkeys": {
    "equation": "Ctrl-E",
    "itemize": "Ctrl-I"
   },
   "labels_anchors": false,
   "latex_user_defs": false,
   "report_style_numbering": false,
   "user_envs_cfg": false
  },
  "notify_time": "5",
  "toc": {
   "base_numbering": 1,
   "nav_menu": {},
   "number_sections": true,
   "sideBar": true,
   "skip_h1_title": false,
   "title_cell": "Table of Contents",
   "title_sidebar": "Contents",
   "toc_cell": false,
   "toc_position": {},
   "toc_section_display": true,
   "toc_window_display": false
  },
  "varInspector": {
   "cols": {
    "lenName": 16,
    "lenType": 16,
    "lenVar": 40
   },
   "kernels_config": {
    "python": {
     "delete_cmd_postfix": "",
     "delete_cmd_prefix": "del ",
     "library": "var_list.py",
     "varRefreshCmd": "print(var_dic_list())"
    },
    "r": {
     "delete_cmd_postfix": ") ",
     "delete_cmd_prefix": "rm(",
     "library": "var_list.r",
     "varRefreshCmd": "cat(var_dic_list()) "
    }
   },
   "types_to_exclude": [
    "module",
    "function",
    "builtin_function_or_method",
    "instance",
    "_Feature"
   ],
   "window_display": false
  }
 },
 "nbformat": 4,
 "nbformat_minor": 4
}
